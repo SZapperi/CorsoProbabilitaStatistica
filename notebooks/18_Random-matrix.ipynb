{
 "cells": [
  {
   "cell_type": "markdown",
   "id": "9cfb686d-0884-41ba-82e5-de90dc156b85",
   "metadata": {},
   "source": [
    "# Corso di Probabilità e Statistica- Matrici Random\n",
    "\n",
    "Questo capitolo fornisce un esempio di matrice random e mostra come calcolare lo spettro di autovalori.\n",
    "\n",
    "Notebook adattato da https://github.com/WessZumino/Random-Matrix-theory-for-pedestrians/blob/main/notebooks/wigner_semicircle.ipynb di Marco Miletari.\n"
   ]
  },
  {
   "cell_type": "code",
   "execution_count": 2,
   "id": "0d6614f0-f5d9-461f-ba77-d50fdb3a05d7",
   "metadata": {},
   "outputs": [],
   "source": [
    "import numpy as np\n",
    "from numpy.linalg import eigvalsh\n",
    "from matplotlib import pyplot as plt\n"
   ]
  },
  {
   "cell_type": "markdown",
   "id": "d4a19fa3-8107-4245-90ea-09b5a0752fbd",
   "metadata": {},
   "source": [
    "#### Generare una matrice random Gaussiana simmetrica \n",
    "Per generare una matrice Gaussiana simmetrica, generiamo prima una matrice gaussiana $X$, calcoliamo la matrice trasposta $X_T$ e\n",
    "poi calcoliamo la matrice simmetrica come $X_s =(X+X^T)/\\sqrt{2}$"
   ]
  },
  {
   "cell_type": "code",
   "execution_count": 8,
   "id": "9fee509e-5f9f-439f-9be3-0cf2215d062c",
   "metadata": {},
   "outputs": [],
   "source": [
    "#dimensione della matrice\n",
    "N= 10\n",
    "sigma = N**(-0.5)\n",
    "\n",
    "X = rng.normal(scale= sigma, size=(N,N)).astype(np.float32)\n",
    "Xs= (X+X.T)/2**(0.5)"
   ]
  },
  {
   "cell_type": "markdown",
   "id": "e57cc759-a691-4e6c-b58b-b6d1b2c99eb3",
   "metadata": {},
   "source": [
    "Controlliamo la simmetria della matrice:"
   ]
  },
  {
   "cell_type": "code",
   "execution_count": 11,
   "id": "4ee9c1de-a68a-430c-b9e7-b2210703b409",
   "metadata": {},
   "outputs": [
    {
     "data": {
      "text/plain": [
       "False"
      ]
     },
     "execution_count": 11,
     "metadata": {},
     "output_type": "execute_result"
    }
   ],
   "source": [
    "(X==X.T).all()"
   ]
  },
  {
   "cell_type": "code",
   "execution_count": 12,
   "id": "c2c10371-7f62-4536-b540-8b99bffaae84",
   "metadata": {},
   "outputs": [
    {
     "data": {
      "text/plain": [
       "True"
      ]
     },
     "execution_count": 12,
     "metadata": {},
     "output_type": "execute_result"
    }
   ],
   "source": [
    "(Xs==Xs.T).all()"
   ]
  },
  {
   "cell_type": "markdown",
   "id": "3a86849b-0337-4d6c-b1bd-4e843dab0723",
   "metadata": {},
   "source": [
    "#### Calcolo degli autovalori\n",
    "Usiamo numpy.eigvalsh per calcolare gli autovalori"
   ]
  },
  {
   "cell_type": "code",
   "execution_count": 13,
   "id": "a2105fd1-235d-4a0c-ac96-44b97ccff23b",
   "metadata": {},
   "outputs": [
    {
     "data": {
      "text/plain": [
       "array([-1.1865159 , -0.8798856 , -0.44109142, -0.3302015 , -0.14147323,\n",
       "        0.31120077,  0.46564874,  0.6407614 ,  1.3067597 ,  1.5505174 ],\n",
       "      dtype=float32)"
      ]
     },
     "execution_count": 13,
     "metadata": {},
     "output_type": "execute_result"
    }
   ],
   "source": [
    "lambdas= eigvalsh(Xs).astype(np.float32)\n",
    "lambdas\n"
   ]
  },
  {
   "cell_type": "code",
   "execution_count": 25,
   "id": "f1d29778-31cf-4adf-a8ac-5992691f2470",
   "metadata": {},
   "outputs": [
    {
     "data": {
      "image/png": "[encoded data removed]",
      "text/plain": [
       "<Figure size 576x360 with 1 Axes>"
      ]
     },
     "metadata": {
      "needs_background": "light"
     },
     "output_type": "display_data"
    }
   ],
   "source": [
    "plt.figure(figsize=(8, 5))\n",
    "plt.hist(lambdas, bins= 10, density = True )\n",
    "plt.title(\"Distribuzione degli autovalori\", size=16)\n",
    "plt.xlabel(r\"$\\lambda$\", size= 18)\n",
    "plt.ylabel(r\"$\\rho(\\lambda)$\", size= 18)\n",
    "plt.show()\n",
    "\n"
   ]
  },
  {
   "cell_type": "markdown",
   "id": "285f8065-6a98-4289-bee3-31cc3327aa99",
   "metadata": {},
   "source": [
    "Mediamo ora su diverse realizzazioni"
   ]
  },
  {
   "cell_type": "code",
   "execution_count": 26,
   "id": "0a5cc7e6-b94f-4c18-8250-d3ee8dd772b7",
   "metadata": {},
   "outputs": [],
   "source": [
    "Nreal=1000\n",
    "N=10\n",
    "sample_lambdas=[]\n",
    "for i in range(Nreal):\n",
    "    X = rng.normal(scale= sigma, size=(N,N)).astype(np.float32)\n",
    "    Xs= (X+X.T)/2**(0.5)\n",
    "    lambdas= eigvalsh(Xs).astype(np.float32)\n",
    "    sample_lambdas=np.append(sample_lambdas,lambdas)"
   ]
  },
  {
   "cell_type": "code",
   "execution_count": 27,
   "id": "ba1bf365-1ace-4d7c-a7dd-64fa25d892bf",
   "metadata": {},
   "outputs": [
    {
     "data": {
      "image/png": "[encoded data removed]",
      "text/plain": [
       "<Figure size 576x360 with 1 Axes>"
      ]
     },
     "metadata": {
      "needs_background": "light"
     },
     "output_type": "display_data"
    }
   ],
   "source": [
    "plt.figure(figsize=(8, 5))\n",
    "plt.hist(sample_lambdas, bins= 20, density = True )\n",
    "plt.title(\"Distribuzione degli autovalori\", size=16)\n",
    "plt.xlabel(r\"$\\lambda$\", size= 18)\n",
    "plt.ylabel(r\"$\\rho(\\lambda)$\", size= 18)\n",
    "plt.show()"
   ]
  },
  {
   "cell_type": "code",
   "execution_count": 29,
   "id": "81bb177d-150e-4507-aa9d-405c7d51f1ae",
   "metadata": {},
   "outputs": [],
   "source": []
  },
  {
   "cell_type": "markdown",
   "id": "2562922d-eaf9-47b8-b91c-dc0aabe3f733",
   "metadata": {},
   "source": [
    "#### La legge di Wigner\n",
    "La legge di Wigner dice che la densità di autovalori per una matrice random Gaussiana è data da:\n",
    "$$\\rho(\\lambda)=\\frac{1}{2\\pi}\\sqrt{4-\\lambda^2}$$\n",
    "per $-2 \\leq \\lambda \\leq 2$ e 0 altrimenti.\n",
    "Controlliamo che la legge descrive i dati definendo la funzione appropriata."
   ]
  },
  {
   "cell_type": "code",
   "execution_count": 43,
   "id": "4915de55-44f8-4756-93de-1ede3c2575e2",
   "metadata": {},
   "outputs": [],
   "source": [
    "def wigner(x):\n",
    "    wigner=np.sqrt(4-x**2)/(2*np.pi)\n",
    "    return wigner"
   ]
  },
  {
   "cell_type": "code",
   "execution_count": 46,
   "id": "db650ad6-7615-4ee3-ab49-079ee7a8f2cd",
   "metadata": {},
   "outputs": [
    {
     "data": {
      "image/png": "[encoded data removed]",
      "text/plain": [
       "<Figure size 576x360 with 1 Axes>"
      ]
     },
     "metadata": {
      "needs_background": "light"
     },
     "output_type": "display_data"
    }
   ],
   "source": [
    "plt.figure(figsize=(8, 5))\n",
    "nbins=50\n",
    "x_range=np.linspace(-2,2,nbins)\n",
    "plt.hist(sample_lambdas, bins= nbins, density = True )\n",
    "plt.plot(x_range, wigner(x_range), color=\"black\")\n",
    "plt.title(\"Distribuzione degli autovalori\", size=16)\n",
    "plt.xlabel(r\"$\\lambda$\", size= 18)\n",
    "plt.ylabel(r\"$\\rho(\\lambda)$\", size= 18)\n",
    "plt.show()"
   ]
  },
  {
   "cell_type": "markdown",
   "id": "3132e3f4-1f65-446b-9d9d-a87bd75cda45",
   "metadata": {},
   "source": [
    "#### Esercizio 1\n",
    "Mostrare che le deviazioni dalla legge di Wigner scompariono per N grande.\n",
    "\n",
    "#### Esercizio 2\n",
    "Ripetere l'esempio con una matrice di Lévy: una matrice simmetrica random con numeri distribuiti secondo una distribuzione di Lévy simmetrica. Calcolare lo spettro di autovalori.\n",
    "\n",
    "https://docs.scipy.org/doc/scipy/reference/generated/scipy.stats.levy_stable.html#scipy.stats.levy_stable\n",
    "\n"
   ]
  },
  {
   "cell_type": "markdown",
   "id": "82b30db0-a0ce-4fae-af41-a162a600469f",
   "metadata": {},
   "source": [
    "#### Esercizio 3"
   ]
  },
  {
   "cell_type": "markdown",
   "id": "18ab0b05-bb7a-45fb-a5c1-c9a5d6f57621",
   "metadata": {},
   "source": [
    "In questo esercizio costruiamo la matrice di covarianza da un set di dati finanziari \n",
    "(il prezzo delle azioni SP500, già utilizzato nel capitolo 11) e confrontiamo lo spettro degli autovalori con la teoria delle matrici random.\n",
    "\n",
    "Procediamo come segue:\n",
    "- importiamo i dati\n",
    "- calcoliamo la matrice di covarianza\n",
    "- calcoliamo lo spettro di autovalori\n",
    "- confrontiamo il risultato con il risultato di Pastur-Marchenko\n",
    "\n",
    "$\\rho(x) = \\frac{\\sqrt{(\\lambda_{+} -x)(\\lambda_{-} -x))}}{2\\pi q x}$\n",
    "\n",
    "con $\\lambda_{\\pm} = (1\\pm \\sqrt{q})^2$\n",
    "\n",
    "\n"
   ]
  },
  {
   "cell_type": "code",
   "execution_count": null,
   "id": "89f271e2-965c-4564-adfa-d6d7a94aeb06",
   "metadata": {},
   "outputs": [],
   "source": [
    "sp500_px = pd.read_csv(\"../data/sp500_data.csv.gz\", index_col=0) # dati di borsa"
   ]
  }
 ],
 "metadata": {
  "kernelspec": {
   "display_name": "Python 3 (ipykernel)",
   "language": "python",
   "name": "python3"
  },
  "language_info": {
   "codemirror_mode": {
    "name": "ipython",
    "version": 3
   },
   "file_extension": ".py",
   "mimetype": "text/x-python",
   "name": "python",
   "nbconvert_exporter": "python",
   "pygments_lexer": "ipython3",
   "version": "3.9.12"
  }
 },
 "nbformat": 4,
 "nbformat_minor": 5
}
