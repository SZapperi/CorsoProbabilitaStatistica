{
 "cells": [
  {
   "cell_type": "markdown",
   "metadata": {},
   "source": [
    "# Corso di Probabilità e Statistica - La distribuzione binomiale\n",
    "\n",
    "In questo capitolo introduciamo la distribuzione binomiale\n"
   ]
  },
  {
   "cell_type": "code",
   "execution_count": 1,
   "metadata": {},
   "outputs": [],
   "source": [
    "import scipy.stats as stats #modulo di statistica\n",
    "import numpy as np\n",
    "import matplotlib.pyplot as plt"
   ]
  },
  {
   "cell_type": "markdown",
   "metadata": {},
   "source": [
    "**Generiamo un processo binomiale empiricamente**"
   ]
  },
  {
   "cell_type": "code",
   "execution_count": 40,
   "metadata": {},
   "outputs": [],
   "source": [
    "#parametri\n",
    "n=10  #numero di tentativi\n",
    "p=0.5 #probabilità di successo\n",
    "NR=1000 #numero di realizzazioni del processo"
   ]
  },
  {
   "cell_type": "code",
   "execution_count": 41,
   "metadata": {},
   "outputs": [],
   "source": [
    "bd = np.zeros(n+1) #inizializzazione"
   ]
  },
  {
   "cell_type": "code",
   "execution_count": 42,
   "metadata": {},
   "outputs": [],
   "source": [
    "for i in range(NR): #loop sulle realizzazioni\n",
    "    k=0 #k numero di successi\n",
    "    for j in range(n): #loop su n\n",
    "        x=np.random.rand() \n",
    "        if(x<p): #successo con probabilità p \n",
    "            k=k+1 \n",
    "    bd[k]=bd[k]+1 "
   ]
  },
  {
   "cell_type": "code",
   "execution_count": 43,
   "metadata": {},
   "outputs": [],
   "source": [
    "bd=bd/NR #normalizzazione"
   ]
  },
  {
   "cell_type": "markdown",
   "metadata": {},
   "source": [
    "**Confrontiamo il risultato empirico con la distribuzione binomiale teorica**"
   ]
  },
  {
   "cell_type": "code",
   "execution_count": 44,
   "metadata": {},
   "outputs": [],
   "source": [
    "bd1 = stats.binom(n, p) #distribuzione binomiale"
   ]
  },
  {
   "cell_type": "code",
   "execution_count": 45,
   "metadata": {},
   "outputs": [
    {
     "data": {
      "text/plain": [
       "(0.255, 0.25000000000000006)"
      ]
     },
     "execution_count": 45,
     "metadata": {},
     "output_type": "execute_result"
    }
   ],
   "source": [
    "# confrontiamo i valori di B_p^n(k)\n",
    "k=3\n",
    "bd[k],bd1.pmf(k)"
   ]
  },
  {
   "cell_type": "code",
   "execution_count": 46,
   "metadata": {},
   "outputs": [
    {
     "data": {
      "text/plain": [
       "(2.04, 2.0)"
      ]
     },
     "execution_count": 46,
     "metadata": {},
     "output_type": "execute_result"
    }
   ],
   "source": [
    "# confrontiamo le media\n",
    "mu1=bd1.mean()\n",
    "mu=np.average(np.arange(n+1),weights=bd) #media pesata sulla distribuzione empirica \n",
    "mu,mu1"
   ]
  },
  {
   "cell_type": "code",
   "execution_count": 47,
   "metadata": {},
   "outputs": [
    {
     "data": {
      "text/plain": [
       "(1.0364000000000004, 1.0)"
      ]
     },
     "execution_count": 47,
     "metadata": {},
     "output_type": "execute_result"
    }
   ],
   "source": [
    "# confrontiamo la varianza\n",
    "sigma2_1=bd1.var()\n",
    "sigma2=np.average(np.arange(n+1)**2,weights=bd)-mu**2\n",
    "sigma2,sigma2_1"
   ]
  },
  {
   "cell_type": "code",
   "execution_count": 48,
   "metadata": {},
   "outputs": [
    {
     "data": {
      "text/plain": [
       "(14.0, 14.771999999999998)"
      ]
     },
     "execution_count": 48,
     "metadata": {},
     "output_type": "execute_result"
    }
   ],
   "source": [
    "# calcoliamo i momenti\n",
    "r=3\n",
    "mom1=bd1.moment(n=r)\n",
    "mom=np.average(np.arange(n+1)**r,weights=bd)\n",
    "mom1,mom"
   ]
  },
  {
   "cell_type": "markdown",
   "metadata": {},
   "source": [
    "**Grafici**"
   ]
  },
  {
   "cell_type": "code",
   "execution_count": 49,
   "metadata": {},
   "outputs": [],
   "source": [
    "# usiamo caratteri leggibili!\n",
    "plt.rcParams.update({'font.size': 18})"
   ]
  },
  {
   "cell_type": "code",
   "execution_count": 50,
   "metadata": {},
   "outputs": [
    {
     "data": {
      "text/plain": [
       "<matplotlib.legend.Legend at 0x1a1f3e07d0>"
      ]
     },
     "execution_count": 50,
     "metadata": {},
     "output_type": "execute_result"
    },
    {
     "data": {
      "image/png": "[encoded data removed]",
      "text/plain": [
       "<Figure size 432x288 with 1 Axes>"
      ]
     },
     "metadata": {
      "needs_background": "light"
     },
     "output_type": "display_data"
    }
   ],
   "source": [
    "k = np.arange(n+1)\n",
    "plt.plot(k, bd1.pmf(k), label=\"theory\", color=\"black\") #linee\n",
    "plt.bar(k,bd, color='red', label=\"exp\")\n",
    "plt.xlabel(r'$k$') \n",
    "plt.ylabel(r'$B_p^n(k)$') #Se vogliamo usare il LaTex nel grafico r'$math$'\n",
    "plt.legend()"
   ]
  },
  {
   "cell_type": "code",
   "execution_count": 51,
   "metadata": {},
   "outputs": [
    {
     "data": {
      "text/plain": [
       "<matplotlib.legend.Legend at 0x1a1fc65a50>"
      ]
     },
     "execution_count": 51,
     "metadata": {},
     "output_type": "execute_result"
    },
    {
     "data": {
      "image/png": "[encoded data removed]",
      "text/plain": [
       "<Figure size 432x288 with 1 Axes>"
      ]
     },
     "metadata": {
      "needs_background": "light"
     },
     "output_type": "display_data"
    }
   ],
   "source": [
    "k = np.arange(n+1)\n",
    "plt.step(k+.5, bd1.pmf(k), label=\"theory\", color='black') #step\n",
    "plt.scatter(k,bd, color='red', label=\"exp\")\n",
    "plt.xlabel(r'$k$') \n",
    "plt.ylabel(r'$B_p^n(k)$') #Se vogliamo usare il LaTex nel grafico r'$math$'\n",
    "plt.legend()"
   ]
  },
  {
   "cell_type": "code",
   "execution_count": 87,
   "metadata": {},
   "outputs": [
    {
     "data": {
      "text/plain": [
       "<matplotlib.legend.Legend at 0x1a24200cd0>"
      ]
     },
     "execution_count": 87,
     "metadata": {},
     "output_type": "execute_result"
    },
    {
     "data": {
      "image/png": "[encoded data removed]",
      "text/plain": [
       "<Figure size 432x288 with 1 Axes>"
      ]
     },
     "metadata": {
      "needs_background": "light"
     },
     "output_type": "display_data"
    }
   ],
   "source": [
    "#distribuzione cumulata\n",
    "plt.step(k+.5, bd1.cdf(k), label=\"cdf\", color='black') #step\n",
    "plt.xlabel(r'$k$') \n",
    "plt.ylabel('CDF') \n",
    "plt.legend()"
   ]
  },
  {
   "cell_type": "markdown",
   "metadata": {},
   "source": [
    "**Esercizio: la distribuzione multinomiale**"
   ]
  },
  {
   "cell_type": "markdown",
   "metadata": {},
   "source": [
    "Ripetere lo stesso esempio per il caso della distribuzione multinomiale. \n",
    "- Utilizzare la funzione scipy.stats.multinomial(n,p) dove p questa volta è un vettore di k componenti che indica le probabilità dei vari casi\n",
    "- Considerare per semplicità il caso k=3 per cui p=[p1,p2,1-p1-p2]\n",
    "- Generare la distribuzione empririca  \n",
    "- Confrontare la distribuzione empirica con quella teorica\n",
    "\n",
    "Per maggiori informazioni sulla funzione:\n",
    "https://docs.scipy.org/doc/scipy/reference/generated/scipy.stats.multinomial.html\n",
    "\n",
    "**Nota**: Esempio di sintassi \"if\" in python:\n",
    "\n",
    "if x < 0:\n",
    "\n",
    "    a=0\n",
    "    \n",
    "elif x == 0:\n",
    "\n",
    "    a=1\n",
    "    \n",
    "else:\n",
    "\n",
    "    a=2"
   ]
  },
  {
   "cell_type": "code",
   "execution_count": null,
   "metadata": {},
   "outputs": [],
   "source": []
  }
 ],
 "metadata": {
  "kernelspec": {
   "display_name": "Python 3",
   "language": "python",
   "name": "python3"
  },
  "language_info": {
   "codemirror_mode": {
    "name": "ipython",
    "version": 3
   },
   "file_extension": ".py",
   "mimetype": "text/x-python",
   "name": "python",
   "nbconvert_exporter": "python",
   "pygments_lexer": "ipython3",
   "version": "3.7.4"
  }
 },
 "nbformat": 4,
 "nbformat_minor": 4
}
