{
 "cells": [
  {
   "cell_type": "markdown",
   "metadata": {},
   "source": [
    "# Corso di Probabilità e Statistica - Analisi statistica e visualizzazione di dati con pandas\n",
    "\n",
    "In questo capitolo useremo la libreria pandas per analizzare dati in modo qualitativo."
   ]
  },
  {
   "cell_type": "code",
   "execution_count": null,
   "metadata": {},
   "outputs": [],
   "source": []
  },
  {
   "cell_type": "code",
   "execution_count": 1,
   "metadata": {},
   "outputs": [],
   "source": [
    "%matplotlib inline\n",
    "import pandas as pd\n",
    "import numpy as np\n",
    "from scipy.stats import trim_mean\n",
    "from statsmodels import robust\n",
    "import seaborn as sns\n",
    "import matplotlib.pylab as plt"
   ]
  },
  {
   "cell_type": "markdown",
   "metadata": {},
   "source": [
    "## Esempio: murder rate (USA)\n",
    "Nell'esempio successivo ci viene fornito un file con i tassi di omicidio negli stati USA. L'obiettivo è di aprire il file fare qualche analisi statistica di base e esplorare/visualizzare il database.\n"
   ]
  },
  {
   "cell_type": "code",
   "execution_count": 2,
   "metadata": {},
   "outputs": [],
   "source": [
    "# importiamo i dati\n",
    "state = pd.read_csv(\"../data/state.csv\")"
   ]
  },
  {
   "cell_type": "code",
   "execution_count": 3,
   "metadata": {},
   "outputs": [
    {
     "name": "stdout",
     "output_type": "stream",
     "text": [
      "         State  Population  Murder.Rate Abbreviation\n",
      "0      Alabama     4779736          5.7           AL\n",
      "1       Alaska      710231          5.6           AK\n",
      "2      Arizona     6392017          4.7           AZ\n",
      "3     Arkansas     2915918          5.6           AR\n",
      "4   California    37253956          4.4           CA\n",
      "5     Colorado     5029196          2.8           CO\n",
      "6  Connecticut     3574097          2.4           CT\n",
      "7     Delaware      897934          5.8           DE\n"
     ]
    }
   ],
   "source": [
    "# apriamo il file (le prime 8 righe)\n",
    "print(state.head(8))"
   ]
  },
  {
   "cell_type": "code",
   "execution_count": 4,
   "metadata": {},
   "outputs": [
    {
     "data": {
      "text/plain": [
       "6162876.3"
      ]
     },
     "execution_count": 4,
     "metadata": {},
     "output_type": "execute_result"
    }
   ],
   "source": [
    "# calcoliamo la popolazione media\n",
    "state['Population'].mean()"
   ]
  },
  {
   "cell_type": "code",
   "execution_count": 5,
   "metadata": {},
   "outputs": [
    {
     "data": {
      "text/plain": [
       "4.066"
      ]
     },
     "execution_count": 5,
     "metadata": {},
     "output_type": "execute_result"
    }
   ],
   "source": [
    "# calcoliamo il tasso di omicidio medio\n",
    "state['Murder.Rate'].mean()"
   ]
  },
  {
   "cell_type": "code",
   "execution_count": 6,
   "metadata": {},
   "outputs": [
    {
     "data": {
      "text/plain": [
       "6162876.3"
      ]
     },
     "execution_count": 6,
     "metadata": {},
     "output_type": "execute_result"
    }
   ],
   "source": [
    "# mediana\n",
    "state['Population'].mean()"
   ]
  },
  {
   "cell_type": "code",
   "execution_count": 7,
   "metadata": {},
   "outputs": [
    {
     "data": {
      "text/plain": [
       "6848235.347401142"
      ]
     },
     "execution_count": 7,
     "metadata": {},
     "output_type": "execute_result"
    }
   ],
   "source": [
    "# standard deviation\n",
    "state['Population'].std()"
   ]
  },
  {
   "cell_type": "code",
   "execution_count": 8,
   "metadata": {},
   "outputs": [
    {
     "data": {
      "text/plain": [
       "0.05    1.600\n",
       "0.25    2.425\n",
       "0.50    4.000\n",
       "0.75    5.550\n",
       "0.95    6.510\n",
       "Name: Murder.Rate, dtype: float64"
      ]
     },
     "execution_count": 8,
     "metadata": {},
     "output_type": "execute_result"
    }
   ],
   "source": [
    "# quantili\n",
    "state['Murder.Rate'].quantile([0.05, 0.25, 0.5, 0.75, 0.95])\n"
   ]
  },
  {
   "cell_type": "code",
   "execution_count": 9,
   "metadata": {},
   "outputs": [
    {
     "data": {
      "text/plain": [
       "Text(0.5, 1.0, 'Histogram')"
      ]
     },
     "execution_count": 9,
     "metadata": {},
     "output_type": "execute_result"
    },
    {
     "data": {
      "image/png": "[encoded data removed]",
      "text/plain": [
       "<Figure size 432x288 with 1 Axes>"
      ]
     },
     "metadata": {
      "needs_background": "light"
     },
     "output_type": "display_data"
    }
   ],
   "source": [
    "# usiamo caratteri leggibili!\n",
    "plt.rcParams.update({'font.size': 18})\n",
    "#istogramma\n",
    "state[\"Population\"].hist()\n",
    "plt.xlabel('Population')\n",
    "plt.ylabel('Frequency')\n",
    "plt.title('Histogram')"
   ]
  },
  {
   "cell_type": "code",
   "execution_count": 10,
   "metadata": {},
   "outputs": [
    {
     "data": {
      "text/plain": [
       "Text(0, 0.5, 'Murder Rate')"
      ]
     },
     "execution_count": 10,
     "metadata": {},
     "output_type": "execute_result"
    },
    {
     "data": {
      "image/png": "[encoded data removed]",
      "text/plain": [
       "<Figure size 432x288 with 1 Axes>"
      ]
     },
     "metadata": {
      "needs_background": "light"
     },
     "output_type": "display_data"
    }
   ],
   "source": [
    "x=state[\"Population\"]\n",
    "y=state[\"Murder.Rate\"]\n",
    "plt.scatter(x,y)\n",
    "plt.xlabel('Population')\n",
    "plt.ylabel('Murder Rate')"
   ]
  },
  {
   "cell_type": "code",
   "execution_count": 27,
   "metadata": {},
   "outputs": [
    {
     "data": {
      "text/plain": [
       "<matplotlib.axes._subplots.AxesSubplot at 0x1a24a70250>"
      ]
     },
     "execution_count": 27,
     "metadata": {},
     "output_type": "execute_result"
    },
    {
     "data": {
      "image/png": "[encoded data removed]",
      "text/plain": [
       "<Figure size 432x288 with 1 Axes>"
      ]
     },
     "metadata": {
      "needs_background": "light"
     },
     "output_type": "display_data"
    }
   ],
   "source": [
    "#stessa cosa con seaborn\n",
    "sns.scatterplot(data=state, x=\"Population\", y=\"Murder.Rate\")"
   ]
  },
  {
   "cell_type": "code",
   "execution_count": 13,
   "metadata": {},
   "outputs": [],
   "source": [
    "# classifichiamo i dati a seconda della popolazione\n",
    "state[\"Population High\"]=(state[\"Population\"]>1e7)"
   ]
  },
  {
   "cell_type": "code",
   "execution_count": 15,
   "metadata": {},
   "outputs": [
    {
     "data": {
      "text/plain": [
       "<matplotlib.axes._subplots.AxesSubplot at 0x1a244c05d0>"
      ]
     },
     "execution_count": 15,
     "metadata": {},
     "output_type": "execute_result"
    },
    {
     "data": {
      "image/png": "[encoded data removed]",
      "text/plain": [
       "<Figure size 432x288 with 1 Axes>"
      ]
     },
     "metadata": {
      "needs_background": "light"
     },
     "output_type": "display_data"
    }
   ],
   "source": [
    "# Plot categorici\n",
    "sns.boxplot(data=state, x=\"Population High\", y=\"Murder.Rate\" )"
   ]
  },
  {
   "cell_type": "code",
   "execution_count": 23,
   "metadata": {},
   "outputs": [],
   "source": [
    "# Definiamo una nuova colonna \n",
    "state.loc[state[\"Population High\"],\"Population Level\"]=\"High\"\n",
    "state.loc[~state[\"Population High\"],\"Population Level\"]=\"Low\""
   ]
  },
  {
   "cell_type": "code",
   "execution_count": 24,
   "metadata": {},
   "outputs": [
    {
     "data": {
      "text/plain": [
       "<matplotlib.axes._subplots.AxesSubplot at 0x1a248129d0>"
      ]
     },
     "execution_count": 24,
     "metadata": {},
     "output_type": "execute_result"
    },
    {
     "data": {
      "image/png": "[encoded data removed]",
      "text/plain": [
       "<Figure size 432x288 with 1 Axes>"
      ]
     },
     "metadata": {
      "needs_background": "light"
     },
     "output_type": "display_data"
    }
   ],
   "source": [
    "# Plot categorico\n",
    "sns.boxplot(data=state, x=\"Population Level\", y=\"Murder.Rate\" )"
   ]
  },
  {
   "cell_type": "code",
   "execution_count": 25,
   "metadata": {},
   "outputs": [
    {
     "data": {
      "text/plain": [
       "<matplotlib.axes._subplots.AxesSubplot at 0x1a24898b10>"
      ]
     },
     "execution_count": 25,
     "metadata": {},
     "output_type": "execute_result"
    },
    {
     "data": {
      "image/png": "[encoded data removed]",
      "text/plain": [
       "<Figure size 432x288 with 1 Axes>"
      ]
     },
     "metadata": {
      "needs_background": "light"
     },
     "output_type": "display_data"
    }
   ],
   "source": [
    "# Plot categorico (swarmplot)\n",
    "sns.swarmplot(data=state, x=\"Population Level\", y=\"Murder.Rate\" )"
   ]
  },
  {
   "cell_type": "code",
   "execution_count": 29,
   "metadata": {},
   "outputs": [
    {
     "data": {
      "text/plain": [
       "<matplotlib.axes._subplots.AxesSubplot at 0x1a24b2c690>"
      ]
     },
     "execution_count": 29,
     "metadata": {},
     "output_type": "execute_result"
    },
    {
     "data": {
      "image/png": "[encoded data removed]",
      "text/plain": [
       "<Figure size 432x288 with 1 Axes>"
      ]
     },
     "metadata": {
      "needs_background": "light"
     },
     "output_type": "display_data"
    }
   ],
   "source": [
    "#Coloriamo a seconda del valore di una variabile\n",
    "sns.scatterplot(data=state, x=\"Population\", y=\"Murder.Rate\", hue=\"Population Level\")"
   ]
  },
  {
   "cell_type": "markdown",
   "metadata": {},
   "source": [
    "### Esempio: traffico aereo\n",
    "\n",
    "In questo esempio utilizziamo un file che riporta i ritardi del traffico aereo di una serie di compagnie aeree."
   ]
  },
  {
   "cell_type": "code",
   "execution_count": 37,
   "metadata": {},
   "outputs": [],
   "source": [
    "# levggiamo i dati \n",
    "airlines = pd.read_csv(\"../data/airline_stats.csv\")"
   ]
  },
  {
   "cell_type": "code",
   "execution_count": 39,
   "metadata": {},
   "outputs": [
    {
     "data": {
      "text/plain": [
       "array(['American', 'Alaska', 'Jet Blue', 'Delta', 'United', 'Southwest'],\n",
       "      dtype=object)"
      ]
     },
     "execution_count": 39,
     "metadata": {},
     "output_type": "execute_result"
    }
   ],
   "source": [
    "# troviamo la lista di compagnie aeree nel dataframe\n",
    "airlines[\"airline\"].unique()"
   ]
  },
  {
   "cell_type": "code",
   "execution_count": 41,
   "metadata": {},
   "outputs": [
    {
     "data": {
      "text/html": [
       "<div>\n",
       "<style scoped>\n",
       "    .dataframe tbody tr th:only-of-type {\n",
       "        vertical-align: middle;\n",
       "    }\n",
       "\n",
       "    .dataframe tbody tr th {\n",
       "        vertical-align: top;\n",
       "    }\n",
       "\n",
       "    .dataframe thead th {\n",
       "        text-align: right;\n",
       "    }\n",
       "</style>\n",
       "<table border=\"1\" class=\"dataframe\">\n",
       "  <thead>\n",
       "    <tr style=\"text-align: right;\">\n",
       "      <th></th>\n",
       "      <th>pct_carrier_delay</th>\n",
       "      <th>pct_atc_delay</th>\n",
       "      <th>pct_weather_delay</th>\n",
       "      <th>airline</th>\n",
       "    </tr>\n",
       "  </thead>\n",
       "  <tbody>\n",
       "    <tr>\n",
       "      <th>0</th>\n",
       "      <td>8.153226</td>\n",
       "      <td>1.971774</td>\n",
       "      <td>0.762097</td>\n",
       "      <td>American</td>\n",
       "    </tr>\n",
       "    <tr>\n",
       "      <th>1</th>\n",
       "      <td>5.959924</td>\n",
       "      <td>3.706107</td>\n",
       "      <td>1.585878</td>\n",
       "      <td>American</td>\n",
       "    </tr>\n",
       "    <tr>\n",
       "      <th>2</th>\n",
       "      <td>7.157270</td>\n",
       "      <td>2.706231</td>\n",
       "      <td>2.026706</td>\n",
       "      <td>American</td>\n",
       "    </tr>\n",
       "    <tr>\n",
       "      <th>3</th>\n",
       "      <td>12.100000</td>\n",
       "      <td>11.033333</td>\n",
       "      <td>0.000000</td>\n",
       "      <td>American</td>\n",
       "    </tr>\n",
       "    <tr>\n",
       "      <th>4</th>\n",
       "      <td>7.333333</td>\n",
       "      <td>3.365591</td>\n",
       "      <td>1.774194</td>\n",
       "      <td>American</td>\n",
       "    </tr>\n",
       "    <tr>\n",
       "      <th>...</th>\n",
       "      <td>...</td>\n",
       "      <td>...</td>\n",
       "      <td>...</td>\n",
       "      <td>...</td>\n",
       "    </tr>\n",
       "    <tr>\n",
       "      <th>33463</th>\n",
       "      <td>6.186422</td>\n",
       "      <td>8.798491</td>\n",
       "      <td>1.651940</td>\n",
       "      <td>Southwest</td>\n",
       "    </tr>\n",
       "    <tr>\n",
       "      <th>33464</th>\n",
       "      <td>9.522167</td>\n",
       "      <td>3.591133</td>\n",
       "      <td>0.261084</td>\n",
       "      <td>Southwest</td>\n",
       "    </tr>\n",
       "    <tr>\n",
       "      <th>33465</th>\n",
       "      <td>9.164179</td>\n",
       "      <td>2.664179</td>\n",
       "      <td>0.343284</td>\n",
       "      <td>Southwest</td>\n",
       "    </tr>\n",
       "    <tr>\n",
       "      <th>33466</th>\n",
       "      <td>5.152293</td>\n",
       "      <td>1.964520</td>\n",
       "      <td>0.122817</td>\n",
       "      <td>Southwest</td>\n",
       "    </tr>\n",
       "    <tr>\n",
       "      <th>33467</th>\n",
       "      <td>3.964393</td>\n",
       "      <td>1.700479</td>\n",
       "      <td>0.019449</td>\n",
       "      <td>Southwest</td>\n",
       "    </tr>\n",
       "  </tbody>\n",
       "</table>\n",
       "<p>33468 rows × 4 columns</p>\n",
       "</div>"
      ],
      "text/plain": [
       "       pct_carrier_delay  pct_atc_delay  pct_weather_delay    airline\n",
       "0               8.153226       1.971774           0.762097   American\n",
       "1               5.959924       3.706107           1.585878   American\n",
       "2               7.157270       2.706231           2.026706   American\n",
       "3              12.100000      11.033333           0.000000   American\n",
       "4               7.333333       3.365591           1.774194   American\n",
       "...                  ...            ...                ...        ...\n",
       "33463           6.186422       8.798491           1.651940  Southwest\n",
       "33464           9.522167       3.591133           0.261084  Southwest\n",
       "33465           9.164179       2.664179           0.343284  Southwest\n",
       "33466           5.152293       1.964520           0.122817  Southwest\n",
       "33467           3.964393       1.700479           0.019449  Southwest\n",
       "\n",
       "[33468 rows x 4 columns]"
      ]
     },
     "execution_count": 41,
     "metadata": {},
     "output_type": "execute_result"
    }
   ],
   "source": [
    "#guardiamo il file\n",
    "airlines"
   ]
  },
  {
   "cell_type": "markdown",
   "metadata": {},
   "source": [
    "**Statistica**\n",
    "\n",
    "Calcoliamo la media e deviazione standard dei ritardi per compagnia. Abbiamo tre tipologie di ritardo: carrier_delay (dovuto alla compagnia) atc_delay (dov uto all'aeroporto) weather_delay (dovuto al meteo).\n",
    "\n",
    "Per questo raggrupiamo usando groupby()\n",
    "https://pandas.pydata.org/pandas-docs/stable/reference/api/pandas.DataFrame.groupby.html\n",
    "\n"
   ]
  },
  {
   "cell_type": "code",
   "execution_count": 44,
   "metadata": {},
   "outputs": [],
   "source": [
    "medie=airlines.groupby(\"airline\").mean()\n",
    "dev_standard=airlines.groupby(\"airline\").std()"
   ]
  },
  {
   "cell_type": "code",
   "execution_count": 45,
   "metadata": {},
   "outputs": [
    {
     "data": {
      "text/html": [
       "<div>\n",
       "<style scoped>\n",
       "    .dataframe tbody tr th:only-of-type {\n",
       "        vertical-align: middle;\n",
       "    }\n",
       "\n",
       "    .dataframe tbody tr th {\n",
       "        vertical-align: top;\n",
       "    }\n",
       "\n",
       "    .dataframe thead th {\n",
       "        text-align: right;\n",
       "    }\n",
       "</style>\n",
       "<table border=\"1\" class=\"dataframe\">\n",
       "  <thead>\n",
       "    <tr style=\"text-align: right;\">\n",
       "      <th></th>\n",
       "      <th>pct_carrier_delay</th>\n",
       "      <th>pct_atc_delay</th>\n",
       "      <th>pct_weather_delay</th>\n",
       "    </tr>\n",
       "    <tr>\n",
       "      <th>airline</th>\n",
       "      <th></th>\n",
       "      <th></th>\n",
       "      <th></th>\n",
       "    </tr>\n",
       "  </thead>\n",
       "  <tbody>\n",
       "    <tr>\n",
       "      <th>Alaska</th>\n",
       "      <td>3.521889</td>\n",
       "      <td>5.472672</td>\n",
       "      <td>0.513497</td>\n",
       "    </tr>\n",
       "    <tr>\n",
       "      <th>American</th>\n",
       "      <td>9.042180</td>\n",
       "      <td>5.993529</td>\n",
       "      <td>1.122920</td>\n",
       "    </tr>\n",
       "    <tr>\n",
       "      <th>Delta</th>\n",
       "      <td>6.333460</td>\n",
       "      <td>4.462978</td>\n",
       "      <td>0.680765</td>\n",
       "    </tr>\n",
       "    <tr>\n",
       "      <th>Jet Blue</th>\n",
       "      <td>8.081843</td>\n",
       "      <td>7.345231</td>\n",
       "      <td>0.465327</td>\n",
       "    </tr>\n",
       "    <tr>\n",
       "      <th>Southwest</th>\n",
       "      <td>7.521997</td>\n",
       "      <td>3.147019</td>\n",
       "      <td>0.512611</td>\n",
       "    </tr>\n",
       "    <tr>\n",
       "      <th>United</th>\n",
       "      <td>7.398833</td>\n",
       "      <td>5.348133</td>\n",
       "      <td>0.680697</td>\n",
       "    </tr>\n",
       "  </tbody>\n",
       "</table>\n",
       "</div>"
      ],
      "text/plain": [
       "           pct_carrier_delay  pct_atc_delay  pct_weather_delay\n",
       "airline                                                       \n",
       "Alaska              3.521889       5.472672           0.513497\n",
       "American            9.042180       5.993529           1.122920\n",
       "Delta               6.333460       4.462978           0.680765\n",
       "Jet Blue            8.081843       7.345231           0.465327\n",
       "Southwest           7.521997       3.147019           0.512611\n",
       "United              7.398833       5.348133           0.680697"
      ]
     },
     "execution_count": 45,
     "metadata": {},
     "output_type": "execute_result"
    }
   ],
   "source": [
    "medie"
   ]
  },
  {
   "cell_type": "code",
   "execution_count": 46,
   "metadata": {},
   "outputs": [
    {
     "data": {
      "text/html": [
       "<div>\n",
       "<style scoped>\n",
       "    .dataframe tbody tr th:only-of-type {\n",
       "        vertical-align: middle;\n",
       "    }\n",
       "\n",
       "    .dataframe tbody tr th {\n",
       "        vertical-align: top;\n",
       "    }\n",
       "\n",
       "    .dataframe thead th {\n",
       "        text-align: right;\n",
       "    }\n",
       "</style>\n",
       "<table border=\"1\" class=\"dataframe\">\n",
       "  <thead>\n",
       "    <tr style=\"text-align: right;\">\n",
       "      <th></th>\n",
       "      <th>pct_carrier_delay</th>\n",
       "      <th>pct_atc_delay</th>\n",
       "      <th>pct_weather_delay</th>\n",
       "    </tr>\n",
       "    <tr>\n",
       "      <th>airline</th>\n",
       "      <th></th>\n",
       "      <th></th>\n",
       "      <th></th>\n",
       "    </tr>\n",
       "  </thead>\n",
       "  <tbody>\n",
       "    <tr>\n",
       "      <th>Alaska</th>\n",
       "      <td>2.483224</td>\n",
       "      <td>5.699303</td>\n",
       "      <td>1.136494</td>\n",
       "    </tr>\n",
       "    <tr>\n",
       "      <th>American</th>\n",
       "      <td>4.139067</td>\n",
       "      <td>4.647170</td>\n",
       "      <td>1.097811</td>\n",
       "    </tr>\n",
       "    <tr>\n",
       "      <th>Delta</th>\n",
       "      <td>4.695292</td>\n",
       "      <td>4.364335</td>\n",
       "      <td>1.093255</td>\n",
       "    </tr>\n",
       "    <tr>\n",
       "      <th>Jet Blue</th>\n",
       "      <td>3.797737</td>\n",
       "      <td>5.227372</td>\n",
       "      <td>0.764147</td>\n",
       "    </tr>\n",
       "    <tr>\n",
       "      <th>Southwest</th>\n",
       "      <td>3.345085</td>\n",
       "      <td>2.513162</td>\n",
       "      <td>0.649631</td>\n",
       "    </tr>\n",
       "    <tr>\n",
       "      <th>United</th>\n",
       "      <td>5.369283</td>\n",
       "      <td>4.992464</td>\n",
       "      <td>1.338433</td>\n",
       "    </tr>\n",
       "  </tbody>\n",
       "</table>\n",
       "</div>"
      ],
      "text/plain": [
       "           pct_carrier_delay  pct_atc_delay  pct_weather_delay\n",
       "airline                                                       \n",
       "Alaska              2.483224       5.699303           1.136494\n",
       "American            4.139067       4.647170           1.097811\n",
       "Delta               4.695292       4.364335           1.093255\n",
       "Jet Blue            3.797737       5.227372           0.764147\n",
       "Southwest           3.345085       2.513162           0.649631\n",
       "United              5.369283       4.992464           1.338433"
      ]
     },
     "execution_count": 46,
     "metadata": {},
     "output_type": "execute_result"
    }
   ],
   "source": [
    "dev_standard"
   ]
  },
  {
   "cell_type": "markdown",
   "metadata": {},
   "source": [
    "Quale è la causa principale di ritardo?"
   ]
  },
  {
   "cell_type": "code",
   "execution_count": 47,
   "metadata": {},
   "outputs": [
    {
     "data": {
      "text/plain": [
       "pct_carrier_delay    7.041475\n",
       "pct_atc_delay        5.089962\n",
       "pct_weather_delay    0.684776\n",
       "dtype: float64"
      ]
     },
     "execution_count": 47,
     "metadata": {},
     "output_type": "execute_result"
    }
   ],
   "source": [
    "airlines.mean()"
   ]
  },
  {
   "cell_type": "markdown",
   "metadata": {},
   "source": [
    "**Plot categorici**"
   ]
  },
  {
   "cell_type": "code",
   "execution_count": 56,
   "metadata": {},
   "outputs": [
    {
     "data": {
      "image/png": "[encoded data removed]",
      "text/plain": [
       "<Figure size 432x288 with 1 Axes>"
      ]
     },
     "metadata": {
      "needs_background": "light"
     },
     "output_type": "display_data"
    }
   ],
   "source": [
    "# Plot categorico\n",
    "ax=sns.boxplot(data=airlines, x=\"airline\", y=\"pct_atc_delay\" )"
   ]
  },
  {
   "cell_type": "markdown",
   "metadata": {},
   "source": [
    "Come rendere leggibili le label sull'asse x?"
   ]
  },
  {
   "cell_type": "code",
   "execution_count": 58,
   "metadata": {},
   "outputs": [
    {
     "data": {
      "text/plain": [
       "[Text(0, 0, 'American'),\n",
       " Text(0, 0, 'Alaska'),\n",
       " Text(0, 0, 'Jet Blue'),\n",
       " Text(0, 0, 'Delta'),\n",
       " Text(0, 0, 'United'),\n",
       " Text(0, 0, 'Southwest')]"
      ]
     },
     "execution_count": 58,
     "metadata": {},
     "output_type": "execute_result"
    },
    {
     "data": {
      "image/png": "[encoded data removed]",
      "text/plain": [
       "<Figure size 432x288 with 1 Axes>"
      ]
     },
     "metadata": {
      "needs_background": "light"
     },
     "output_type": "display_data"
    }
   ],
   "source": [
    "# Plot categorico con asse x leggibile\n",
    "ax=sns.boxplot(data=airlines, x=\"airline\", y=\"pct_atc_delay\" )\n",
    "ax.set_xticklabels(ax.get_xticklabels(), rotation=45)"
   ]
  },
  {
   "cell_type": "code",
   "execution_count": 71,
   "metadata": {},
   "outputs": [
    {
     "data": {
      "text/plain": [
       "[Text(0, 0, 'American'),\n",
       " Text(0, 0, 'Alaska'),\n",
       " Text(0, 0, 'Jet Blue'),\n",
       " Text(0, 0, 'Delta'),\n",
       " Text(0, 0, 'United'),\n",
       " Text(0, 0, 'Southwest')]"
      ]
     },
     "execution_count": 71,
     "metadata": {},
     "output_type": "execute_result"
    },
    {
     "data": {
      "image/png": "[encoded data removed]",
      "text/plain": [
       "<Figure size 432x288 with 1 Axes>"
      ]
     },
     "metadata": {
      "needs_background": "light"
     },
     "output_type": "display_data"
    }
   ],
   "source": [
    "# Violinplot\n",
    "ax=sns.violinplot(data=airlines, x=\"airline\", y=\"pct_carrier_delay\" )\n",
    "ax.set_xticklabels(ax.get_xticklabels(), rotation=45)"
   ]
  },
  {
   "cell_type": "markdown",
   "metadata": {},
   "source": [
    "Se vogliam confrontare sullo stesso grafico tutti i ritardi per tutte le compagnie, possiamo riarrangiare il nostro dataframe con pd.melt\n",
    "https://pandas.pydata.org/pandas-docs/stable/reference/api/pandas.melt.html"
   ]
  },
  {
   "cell_type": "code",
   "execution_count": 63,
   "metadata": {},
   "outputs": [],
   "source": [
    "airlines_melt=pd.melt(airlines,id_vars=[\"airline\"],value_vars=[\"pct_carrier_delay\",\"pct_atc_delay\",\"pct_weather_delay\"])"
   ]
  },
  {
   "cell_type": "code",
   "execution_count": 64,
   "metadata": {},
   "outputs": [
    {
     "data": {
      "text/html": [
       "<div>\n",
       "<style scoped>\n",
       "    .dataframe tbody tr th:only-of-type {\n",
       "        vertical-align: middle;\n",
       "    }\n",
       "\n",
       "    .dataframe tbody tr th {\n",
       "        vertical-align: top;\n",
       "    }\n",
       "\n",
       "    .dataframe thead th {\n",
       "        text-align: right;\n",
       "    }\n",
       "</style>\n",
       "<table border=\"1\" class=\"dataframe\">\n",
       "  <thead>\n",
       "    <tr style=\"text-align: right;\">\n",
       "      <th></th>\n",
       "      <th>airline</th>\n",
       "      <th>variable</th>\n",
       "      <th>value</th>\n",
       "    </tr>\n",
       "  </thead>\n",
       "  <tbody>\n",
       "    <tr>\n",
       "      <th>0</th>\n",
       "      <td>American</td>\n",
       "      <td>pct_carrier_delay</td>\n",
       "      <td>8.153226</td>\n",
       "    </tr>\n",
       "    <tr>\n",
       "      <th>1</th>\n",
       "      <td>American</td>\n",
       "      <td>pct_carrier_delay</td>\n",
       "      <td>5.959924</td>\n",
       "    </tr>\n",
       "    <tr>\n",
       "      <th>2</th>\n",
       "      <td>American</td>\n",
       "      <td>pct_carrier_delay</td>\n",
       "      <td>7.157270</td>\n",
       "    </tr>\n",
       "    <tr>\n",
       "      <th>3</th>\n",
       "      <td>American</td>\n",
       "      <td>pct_carrier_delay</td>\n",
       "      <td>12.100000</td>\n",
       "    </tr>\n",
       "    <tr>\n",
       "      <th>4</th>\n",
       "      <td>American</td>\n",
       "      <td>pct_carrier_delay</td>\n",
       "      <td>7.333333</td>\n",
       "    </tr>\n",
       "    <tr>\n",
       "      <th>...</th>\n",
       "      <td>...</td>\n",
       "      <td>...</td>\n",
       "      <td>...</td>\n",
       "    </tr>\n",
       "    <tr>\n",
       "      <th>100399</th>\n",
       "      <td>Southwest</td>\n",
       "      <td>pct_weather_delay</td>\n",
       "      <td>1.651940</td>\n",
       "    </tr>\n",
       "    <tr>\n",
       "      <th>100400</th>\n",
       "      <td>Southwest</td>\n",
       "      <td>pct_weather_delay</td>\n",
       "      <td>0.261084</td>\n",
       "    </tr>\n",
       "    <tr>\n",
       "      <th>100401</th>\n",
       "      <td>Southwest</td>\n",
       "      <td>pct_weather_delay</td>\n",
       "      <td>0.343284</td>\n",
       "    </tr>\n",
       "    <tr>\n",
       "      <th>100402</th>\n",
       "      <td>Southwest</td>\n",
       "      <td>pct_weather_delay</td>\n",
       "      <td>0.122817</td>\n",
       "    </tr>\n",
       "    <tr>\n",
       "      <th>100403</th>\n",
       "      <td>Southwest</td>\n",
       "      <td>pct_weather_delay</td>\n",
       "      <td>0.019449</td>\n",
       "    </tr>\n",
       "  </tbody>\n",
       "</table>\n",
       "<p>100404 rows × 3 columns</p>\n",
       "</div>"
      ],
      "text/plain": [
       "          airline           variable      value\n",
       "0        American  pct_carrier_delay   8.153226\n",
       "1        American  pct_carrier_delay   5.959924\n",
       "2        American  pct_carrier_delay   7.157270\n",
       "3        American  pct_carrier_delay  12.100000\n",
       "4        American  pct_carrier_delay   7.333333\n",
       "...           ...                ...        ...\n",
       "100399  Southwest  pct_weather_delay   1.651940\n",
       "100400  Southwest  pct_weather_delay   0.261084\n",
       "100401  Southwest  pct_weather_delay   0.343284\n",
       "100402  Southwest  pct_weather_delay   0.122817\n",
       "100403  Southwest  pct_weather_delay   0.019449\n",
       "\n",
       "[100404 rows x 3 columns]"
      ]
     },
     "execution_count": 64,
     "metadata": {},
     "output_type": "execute_result"
    }
   ],
   "source": [
    "airlines_melt"
   ]
  },
  {
   "cell_type": "code",
   "execution_count": 69,
   "metadata": {},
   "outputs": [
    {
     "data": {
      "text/plain": [
       "[Text(0, 0, 'American'),\n",
       " Text(0, 0, 'Alaska'),\n",
       " Text(0, 0, 'Jet Blue'),\n",
       " Text(0, 0, 'Delta'),\n",
       " Text(0, 0, 'United'),\n",
       " Text(0, 0, 'Southwest')]"
      ]
     },
     "execution_count": 69,
     "metadata": {},
     "output_type": "execute_result"
    },
    {
     "data": {
      "image/png": "[encoded data removed]",
      "text/plain": [
       "<Figure size 432x288 with 1 Axes>"
      ]
     },
     "metadata": {
      "needs_background": "light"
     },
     "output_type": "display_data"
    }
   ],
   "source": [
    "# Plot categorico: boxplot\n",
    "ax=sns.boxplot(data=airlines_melt, x=\"airline\", y=\"value\", hue=\"variable\", palette=\"Blues\")\n",
    "ax.set_xticklabels(ax.get_xticklabels(), rotation=45)"
   ]
  },
  {
   "cell_type": "code",
   "execution_count": 77,
   "metadata": {},
   "outputs": [
    {
     "data": {
      "text/plain": [
       "[Text(0, 0, 'American'),\n",
       " Text(0, 0, 'Alaska'),\n",
       " Text(0, 0, 'Jet Blue'),\n",
       " Text(0, 0, 'Delta'),\n",
       " Text(0, 0, 'United'),\n",
       " Text(0, 0, 'Southwest')]"
      ]
     },
     "execution_count": 77,
     "metadata": {},
     "output_type": "execute_result"
    },
    {
     "data": {
      "image/png": "[encoded data removed]",
      "text/plain": [
       "<Figure size 432x288 with 1 Axes>"
      ]
     },
     "metadata": {
      "needs_background": "light"
     },
     "output_type": "display_data"
    }
   ],
   "source": [
    "# Plot categorico: barplot (senza autliers)\n",
    "ax=sns.boxplot(data=airlines_melt, \n",
    "               x=\"airline\", y=\"value\", \n",
    "               hue=\"variable\", palette=\"Blues\",\n",
    "              fliersize=0)\n",
    "ax.set_xticklabels(ax.get_xticklabels(), rotation=45)"
   ]
  },
  {
   "cell_type": "code",
   "execution_count": 75,
   "metadata": {},
   "outputs": [
    {
     "data": {
      "text/plain": [
       "[Text(0, 0, 'American'),\n",
       " Text(0, 0, 'Alaska'),\n",
       " Text(0, 0, 'Jet Blue'),\n",
       " Text(0, 0, 'Delta'),\n",
       " Text(0, 0, 'United'),\n",
       " Text(0, 0, 'Southwest')]"
      ]
     },
     "execution_count": 75,
     "metadata": {},
     "output_type": "execute_result"
    },
    {
     "data": {
      "image/png": "[encoded data removed]",
      "text/plain": [
       "<Figure size 432x288 with 1 Axes>"
      ]
     },
     "metadata": {
      "needs_background": "light"
     },
     "output_type": "display_data"
    }
   ],
   "source": [
    "# Plot categorico: barplot\n",
    "ax=sns.barplot(data=airlines_melt, x=\"airline\", y=\"value\", hue=\"variable\", palette=\"Blues\")\n",
    "ax.set_xticklabels(ax.get_xticklabels(), rotation=45)"
   ]
  },
  {
   "cell_type": "markdown",
   "metadata": {},
   "source": [
    "### Esercizio"
   ]
  },
  {
   "cell_type": "markdown",
   "metadata": {},
   "source": [
    "**Introduzione**\n",
    "In questo esercizio utilizzeremo un nuovo file di dati per mettere in pratica quanto discusso negli esempi. Per prima cosa carichiamo \n",
    "il file ../data/kc_tax.csv.gz"
   ]
  },
  {
   "cell_type": "code",
   "execution_count": 79,
   "metadata": {},
   "outputs": [],
   "source": [
    "kc_tax = pd.read_csv(\"../data/kc_tax.csv.gz\")"
   ]
  },
  {
   "cell_type": "code",
   "execution_count": 82,
   "metadata": {},
   "outputs": [
    {
     "data": {
      "text/html": [
       "<div>\n",
       "<style scoped>\n",
       "    .dataframe tbody tr th:only-of-type {\n",
       "        vertical-align: middle;\n",
       "    }\n",
       "\n",
       "    .dataframe tbody tr th {\n",
       "        vertical-align: top;\n",
       "    }\n",
       "\n",
       "    .dataframe thead th {\n",
       "        text-align: right;\n",
       "    }\n",
       "</style>\n",
       "<table border=\"1\" class=\"dataframe\">\n",
       "  <thead>\n",
       "    <tr style=\"text-align: right;\">\n",
       "      <th></th>\n",
       "      <th>TaxAssessedValue</th>\n",
       "      <th>SqFtTotLiving</th>\n",
       "      <th>ZipCode</th>\n",
       "    </tr>\n",
       "  </thead>\n",
       "  <tbody>\n",
       "    <tr>\n",
       "      <th>0</th>\n",
       "      <td>NaN</td>\n",
       "      <td>1730</td>\n",
       "      <td>98117.0</td>\n",
       "    </tr>\n",
       "    <tr>\n",
       "      <th>1</th>\n",
       "      <td>206000.0</td>\n",
       "      <td>1870</td>\n",
       "      <td>98002.0</td>\n",
       "    </tr>\n",
       "    <tr>\n",
       "      <th>2</th>\n",
       "      <td>303000.0</td>\n",
       "      <td>1530</td>\n",
       "      <td>98166.0</td>\n",
       "    </tr>\n",
       "    <tr>\n",
       "      <th>3</th>\n",
       "      <td>361000.0</td>\n",
       "      <td>2000</td>\n",
       "      <td>98108.0</td>\n",
       "    </tr>\n",
       "    <tr>\n",
       "      <th>4</th>\n",
       "      <td>459000.0</td>\n",
       "      <td>3150</td>\n",
       "      <td>98108.0</td>\n",
       "    </tr>\n",
       "    <tr>\n",
       "      <th>...</th>\n",
       "      <td>...</td>\n",
       "      <td>...</td>\n",
       "      <td>...</td>\n",
       "    </tr>\n",
       "    <tr>\n",
       "      <th>498244</th>\n",
       "      <td>375000.0</td>\n",
       "      <td>2230</td>\n",
       "      <td>98056.0</td>\n",
       "    </tr>\n",
       "    <tr>\n",
       "      <th>498245</th>\n",
       "      <td>316000.0</td>\n",
       "      <td>1710</td>\n",
       "      <td>98056.0</td>\n",
       "    </tr>\n",
       "    <tr>\n",
       "      <th>498246</th>\n",
       "      <td>340000.0</td>\n",
       "      <td>1930</td>\n",
       "      <td>98056.0</td>\n",
       "    </tr>\n",
       "    <tr>\n",
       "      <th>498247</th>\n",
       "      <td>132000.0</td>\n",
       "      <td>2930</td>\n",
       "      <td>98056.0</td>\n",
       "    </tr>\n",
       "    <tr>\n",
       "      <th>498248</th>\n",
       "      <td>286000.0</td>\n",
       "      <td>1310</td>\n",
       "      <td>98056.0</td>\n",
       "    </tr>\n",
       "  </tbody>\n",
       "</table>\n",
       "<p>498249 rows × 3 columns</p>\n",
       "</div>"
      ],
      "text/plain": [
       "        TaxAssessedValue  SqFtTotLiving  ZipCode\n",
       "0                    NaN           1730  98117.0\n",
       "1               206000.0           1870  98002.0\n",
       "2               303000.0           1530  98166.0\n",
       "3               361000.0           2000  98108.0\n",
       "4               459000.0           3150  98108.0\n",
       "...                  ...            ...      ...\n",
       "498244          375000.0           2230  98056.0\n",
       "498245          316000.0           1710  98056.0\n",
       "498246          340000.0           1930  98056.0\n",
       "498247          132000.0           2930  98056.0\n",
       "498248          286000.0           1310  98056.0\n",
       "\n",
       "[498249 rows x 3 columns]"
      ]
     },
     "execution_count": 82,
     "metadata": {},
     "output_type": "execute_result"
    }
   ],
   "source": [
    "# apriamo il file\n",
    "kc_tax"
   ]
  },
  {
   "cell_type": "code",
   "execution_count": 86,
   "metadata": {},
   "outputs": [],
   "source": [
    "#eliminiamo i NaN\n",
    "kc_tax=kc_tax.dropna()"
   ]
  },
  {
   "cell_type": "code",
   "execution_count": null,
   "metadata": {},
   "outputs": [],
   "source": []
  },
  {
   "cell_type": "code",
   "execution_count": null,
   "metadata": {},
   "outputs": [],
   "source": []
  },
  {
   "cell_type": "code",
   "execution_count": 131,
   "metadata": {},
   "outputs": [],
   "source": [
    "#cambiamo il nome delle colonne\n",
    "kc_tax.columns=[\"Valore catastale\",\"Metri quadrati\",\"CAP\"]\n",
    "# prendiamo un sottoinsieme del database\n",
    "kc_tax0 = kc_tax.loc[(kc_tax.CAP < 98020)]"
   ]
  },
  {
   "cell_type": "markdown",
   "metadata": {},
   "source": [
    "**Svolgimento:** \n",
    "A questo punto possiamo esplorare alcune proprietà di questo database, ad esempio:\n",
    "\n",
    "- Studiare quale sia la correlazione tra valore catastale e metri quadrati\n",
    "\n",
    "- Studiare come varia il valore catastale a seconda del CAP\n",
    "\n",
    "- Studiare come varia la metratura media a seconda del CAP"
   ]
  },
  {
   "cell_type": "markdown",
   "metadata": {},
   "source": [
    "**Suggerimenti:**\n",
    "\n",
    "Per visualizzare la correlazione possiamo ad esempio  \n",
    "fare uno scatterplot dei dati grezzi \"Metri quadri\" vs \"Catastale\".\n",
    "\n",
    "Visto che i dati sono molti possiamo anche raggrupparli secondo il CAP (usando groupby(\"CAP\").mean() ) e poi plottare le medie\n",
    "\n",
    "Proviamo ad usare sns.barplot() o sns.boxplot() \n",
    "\n",
    "Lavoriamo prima con il dataframe \"piccolo\" kc_tax0 e poi proviamo con il dataframe complete kc_tax\n"
   ]
  },
  {
   "cell_type": "markdown",
   "metadata": {},
   "source": [
    "### La matrice di covarianza\n",
    "\n",
    "In questo esempio costruiamo la matrice di covarianza a partire da un set di dati finanziari (il prezzo delle azioni SP500)."
   ]
  },
  {
   "cell_type": "code",
   "execution_count": 133,
   "metadata": {},
   "outputs": [],
   "source": [
    "# importiamo i dati\n",
    "sp500_sym = pd.read_csv(\"../data/sp500_sectors.csv\") # simboli\n",
    "sp500_px = pd.read_csv(\"../data/sp500_data.csv.gz\", index_col=0) # dati di borsa"
   ]
  },
  {
   "cell_type": "code",
   "execution_count": 134,
   "metadata": {},
   "outputs": [
    {
     "name": "stdout",
     "output_type": "stream",
     "text": [
      "                   T       CTL       FTR        VZ      LVLT\n",
      "2012-07-02  0.422496  0.140847  0.070879  0.554180 -0.519998\n",
      "2012-07-03 -0.177448  0.066280  0.070879 -0.025976 -0.049999\n",
      "2012-07-05 -0.160548 -0.132563  0.055128 -0.051956 -0.180000\n",
      "2012-07-06  0.342205  0.132563  0.007875  0.140106 -0.359999\n",
      "2012-07-09  0.136883  0.124279 -0.023626  0.253943  0.180000\n",
      "...              ...       ...       ...       ...       ...\n",
      "2015-06-25  0.049342 -1.600000 -0.040000 -0.187790 -0.330002\n",
      "2015-06-26 -0.256586  0.039999 -0.070000  0.029650 -0.739998\n",
      "2015-06-29 -0.098685 -0.559999 -0.060000 -0.504063 -1.360000\n",
      "2015-06-30 -0.503298 -0.420000 -0.070000 -0.523829  0.199997\n",
      "2015-07-01 -0.019737  0.080000 -0.050000  0.355811  0.139999\n",
      "\n",
      "[754 rows x 5 columns]\n"
     ]
    }
   ],
   "source": [
    "# Table 1-7\n",
    "# Consideriamo il settore telecomunicazioni\n",
    "telecomSymbols = sp500_sym[sp500_sym['sector'] == 'telecommunications_services']['symbol']\n",
    "\n",
    "# Filtriamo i dati considerando il periodo 07/2012-06/2015\n",
    "telecom = sp500_px.loc[sp500_px.index >= '2012-07-01', telecomSymbols]\n",
    "telecom.corr()\n",
    "print(telecom)"
   ]
  },
  {
   "cell_type": "code",
   "execution_count": 135,
   "metadata": {},
   "outputs": [
    {
     "name": "stdout",
     "output_type": "stream",
     "text": [
      "                 XLI       QQQ       SPY       DIA       GLD    VXX       USO  \\\n",
      "2012-07-02 -0.376098  0.096313  0.028223 -0.242796  0.419998 -10.40  0.000000   \n",
      "2012-07-03  0.376099  0.481576  0.874936  0.728405  0.490006  -3.52  0.250000   \n",
      "2012-07-05  0.150440  0.096313 -0.103487  0.149420  0.239991   6.56 -0.070000   \n",
      "2012-07-06 -0.141040 -0.491201  0.018819 -0.205449 -0.519989  -8.80 -0.180000   \n",
      "2012-07-09  0.244465 -0.048160 -0.056445 -0.168094  0.429992  -0.48  0.459999   \n",
      "\n",
      "                 IWM       XLE       XLY       XLU       XLB       XTL  \\\n",
      "2012-07-02  0.534641  0.028186  0.095759  0.098311 -0.093713  0.019076   \n",
      "2012-07-03  0.926067  0.995942  0.000000 -0.044686  0.337373  0.000000   \n",
      "2012-07-05 -0.171848 -0.460387  0.306431 -0.151938  0.103086  0.019072   \n",
      "2012-07-06 -0.229128  0.206706  0.153214  0.080437  0.018744 -0.429213   \n",
      "2012-07-09 -0.190939 -0.234892 -0.201098 -0.035751 -0.168687  0.000000   \n",
      "\n",
      "                 XLV       XLP       XLF       XLK  \n",
      "2012-07-02 -0.009529  0.313499  0.018999  0.075668  \n",
      "2012-07-03  0.000000  0.129087  0.104492  0.236462  \n",
      "2012-07-05 -0.142955 -0.073766 -0.142490  0.066211  \n",
      "2012-07-06 -0.095304  0.119865  0.066495 -0.227003  \n",
      "2012-07-09  0.352630 -0.064548  0.018999  0.009457  \n"
     ]
    }
   ],
   "source": [
    "# Focalizziamoci su di un sottoinsieme dei dati \n",
    "etfs = sp500_px.loc[sp500_px.index > '2012-07-01', \n",
    "                    sp500_sym[sp500_sym['sector'] == 'etf']['symbol']]\n",
    "print(etfs.head())"
   ]
  },
  {
   "cell_type": "code",
   "execution_count": 140,
   "metadata": {},
   "outputs": [
    {
     "data": {
      "text/html": [
       "<div>\n",
       "<style scoped>\n",
       "    .dataframe tbody tr th:only-of-type {\n",
       "        vertical-align: middle;\n",
       "    }\n",
       "\n",
       "    .dataframe tbody tr th {\n",
       "        vertical-align: top;\n",
       "    }\n",
       "\n",
       "    .dataframe thead th {\n",
       "        text-align: right;\n",
       "    }\n",
       "</style>\n",
       "<table border=\"1\" class=\"dataframe\">\n",
       "  <thead>\n",
       "    <tr style=\"text-align: right;\">\n",
       "      <th></th>\n",
       "      <th>XLI</th>\n",
       "      <th>QQQ</th>\n",
       "      <th>SPY</th>\n",
       "      <th>DIA</th>\n",
       "      <th>GLD</th>\n",
       "      <th>VXX</th>\n",
       "      <th>USO</th>\n",
       "      <th>IWM</th>\n",
       "      <th>XLE</th>\n",
       "      <th>XLY</th>\n",
       "      <th>XLU</th>\n",
       "      <th>XLB</th>\n",
       "      <th>XTL</th>\n",
       "      <th>XLV</th>\n",
       "      <th>XLP</th>\n",
       "      <th>XLF</th>\n",
       "      <th>XLK</th>\n",
       "    </tr>\n",
       "  </thead>\n",
       "  <tbody>\n",
       "    <tr>\n",
       "      <th>XLI</th>\n",
       "      <td>1.000000</td>\n",
       "      <td>0.785865</td>\n",
       "      <td>0.888865</td>\n",
       "      <td>0.869680</td>\n",
       "      <td>0.056554</td>\n",
       "      <td>-0.468196</td>\n",
       "      <td>0.236881</td>\n",
       "      <td>0.782380</td>\n",
       "      <td>0.650054</td>\n",
       "      <td>0.798080</td>\n",
       "      <td>0.380809</td>\n",
       "      <td>0.784144</td>\n",
       "      <td>0.374000</td>\n",
       "      <td>0.663022</td>\n",
       "      <td>0.600424</td>\n",
       "      <td>0.787340</td>\n",
       "      <td>0.777773</td>\n",
       "    </tr>\n",
       "    <tr>\n",
       "      <th>QQQ</th>\n",
       "      <td>0.785865</td>\n",
       "      <td>1.000000</td>\n",
       "      <td>0.908995</td>\n",
       "      <td>0.834440</td>\n",
       "      <td>0.043553</td>\n",
       "      <td>-0.470555</td>\n",
       "      <td>0.199492</td>\n",
       "      <td>0.810158</td>\n",
       "      <td>0.560044</td>\n",
       "      <td>0.839701</td>\n",
       "      <td>0.346667</td>\n",
       "      <td>0.713463</td>\n",
       "      <td>0.421790</td>\n",
       "      <td>0.775392</td>\n",
       "      <td>0.614806</td>\n",
       "      <td>0.752771</td>\n",
       "      <td>0.945126</td>\n",
       "    </tr>\n",
       "    <tr>\n",
       "      <th>SPY</th>\n",
       "      <td>0.888865</td>\n",
       "      <td>0.908995</td>\n",
       "      <td>1.000000</td>\n",
       "      <td>0.953726</td>\n",
       "      <td>0.078722</td>\n",
       "      <td>-0.547074</td>\n",
       "      <td>0.272069</td>\n",
       "      <td>0.833937</td>\n",
       "      <td>0.713300</td>\n",
       "      <td>0.887028</td>\n",
       "      <td>0.481928</td>\n",
       "      <td>0.826053</td>\n",
       "      <td>0.406181</td>\n",
       "      <td>0.811269</td>\n",
       "      <td>0.744466</td>\n",
       "      <td>0.883616</td>\n",
       "      <td>0.886588</td>\n",
       "    </tr>\n",
       "    <tr>\n",
       "      <th>DIA</th>\n",
       "      <td>0.869680</td>\n",
       "      <td>0.834440</td>\n",
       "      <td>0.953726</td>\n",
       "      <td>1.000000</td>\n",
       "      <td>0.051523</td>\n",
       "      <td>-0.511327</td>\n",
       "      <td>0.256793</td>\n",
       "      <td>0.758012</td>\n",
       "      <td>0.658311</td>\n",
       "      <td>0.847043</td>\n",
       "      <td>0.463364</td>\n",
       "      <td>0.787415</td>\n",
       "      <td>0.383928</td>\n",
       "      <td>0.771044</td>\n",
       "      <td>0.753725</td>\n",
       "      <td>0.860556</td>\n",
       "      <td>0.842757</td>\n",
       "    </tr>\n",
       "    <tr>\n",
       "      <th>GLD</th>\n",
       "      <td>0.056554</td>\n",
       "      <td>0.043553</td>\n",
       "      <td>0.078722</td>\n",
       "      <td>0.051523</td>\n",
       "      <td>1.000000</td>\n",
       "      <td>-0.107488</td>\n",
       "      <td>0.216563</td>\n",
       "      <td>0.070110</td>\n",
       "      <td>0.188625</td>\n",
       "      <td>0.017467</td>\n",
       "      <td>0.121611</td>\n",
       "      <td>0.184366</td>\n",
       "      <td>-0.042233</td>\n",
       "      <td>-0.010200</td>\n",
       "      <td>0.033047</td>\n",
       "      <td>0.043039</td>\n",
       "      <td>0.053022</td>\n",
       "    </tr>\n",
       "    <tr>\n",
       "      <th>VXX</th>\n",
       "      <td>-0.468196</td>\n",
       "      <td>-0.470555</td>\n",
       "      <td>-0.547074</td>\n",
       "      <td>-0.511327</td>\n",
       "      <td>-0.107488</td>\n",
       "      <td>1.000000</td>\n",
       "      <td>-0.195397</td>\n",
       "      <td>-0.448942</td>\n",
       "      <td>-0.448474</td>\n",
       "      <td>-0.474756</td>\n",
       "      <td>-0.260395</td>\n",
       "      <td>-0.470890</td>\n",
       "      <td>-0.205661</td>\n",
       "      <td>-0.380925</td>\n",
       "      <td>-0.416913</td>\n",
       "      <td>-0.514365</td>\n",
       "      <td>-0.477258</td>\n",
       "    </tr>\n",
       "    <tr>\n",
       "      <th>USO</th>\n",
       "      <td>0.236881</td>\n",
       "      <td>0.199492</td>\n",
       "      <td>0.272069</td>\n",
       "      <td>0.256793</td>\n",
       "      <td>0.216563</td>\n",
       "      <td>-0.195397</td>\n",
       "      <td>1.000000</td>\n",
       "      <td>0.249799</td>\n",
       "      <td>0.525943</td>\n",
       "      <td>0.183275</td>\n",
       "      <td>0.113182</td>\n",
       "      <td>0.324166</td>\n",
       "      <td>0.078796</td>\n",
       "      <td>0.119500</td>\n",
       "      <td>0.116857</td>\n",
       "      <td>0.221760</td>\n",
       "      <td>0.225962</td>\n",
       "    </tr>\n",
       "    <tr>\n",
       "      <th>IWM</th>\n",
       "      <td>0.782380</td>\n",
       "      <td>0.810158</td>\n",
       "      <td>0.833937</td>\n",
       "      <td>0.758012</td>\n",
       "      <td>0.070110</td>\n",
       "      <td>-0.448942</td>\n",
       "      <td>0.249799</td>\n",
       "      <td>1.000000</td>\n",
       "      <td>0.586991</td>\n",
       "      <td>0.779750</td>\n",
       "      <td>0.325003</td>\n",
       "      <td>0.701533</td>\n",
       "      <td>0.387274</td>\n",
       "      <td>0.664288</td>\n",
       "      <td>0.537065</td>\n",
       "      <td>0.756282</td>\n",
       "      <td>0.760438</td>\n",
       "    </tr>\n",
       "    <tr>\n",
       "      <th>XLE</th>\n",
       "      <td>0.650054</td>\n",
       "      <td>0.560044</td>\n",
       "      <td>0.713300</td>\n",
       "      <td>0.658311</td>\n",
       "      <td>0.188625</td>\n",
       "      <td>-0.448474</td>\n",
       "      <td>0.525943</td>\n",
       "      <td>0.586991</td>\n",
       "      <td>1.000000</td>\n",
       "      <td>0.578956</td>\n",
       "      <td>0.337942</td>\n",
       "      <td>0.689778</td>\n",
       "      <td>0.260463</td>\n",
       "      <td>0.454457</td>\n",
       "      <td>0.413486</td>\n",
       "      <td>0.599129</td>\n",
       "      <td>0.559324</td>\n",
       "    </tr>\n",
       "    <tr>\n",
       "      <th>XLY</th>\n",
       "      <td>0.798080</td>\n",
       "      <td>0.839701</td>\n",
       "      <td>0.887028</td>\n",
       "      <td>0.847043</td>\n",
       "      <td>0.017467</td>\n",
       "      <td>-0.474756</td>\n",
       "      <td>0.183275</td>\n",
       "      <td>0.779750</td>\n",
       "      <td>0.578956</td>\n",
       "      <td>1.000000</td>\n",
       "      <td>0.366827</td>\n",
       "      <td>0.721232</td>\n",
       "      <td>0.370299</td>\n",
       "      <td>0.702860</td>\n",
       "      <td>0.663055</td>\n",
       "      <td>0.782053</td>\n",
       "      <td>0.772189</td>\n",
       "    </tr>\n",
       "    <tr>\n",
       "      <th>XLU</th>\n",
       "      <td>0.380809</td>\n",
       "      <td>0.346667</td>\n",
       "      <td>0.481928</td>\n",
       "      <td>0.463364</td>\n",
       "      <td>0.121611</td>\n",
       "      <td>-0.260395</td>\n",
       "      <td>0.113182</td>\n",
       "      <td>0.325003</td>\n",
       "      <td>0.337942</td>\n",
       "      <td>0.366827</td>\n",
       "      <td>1.000000</td>\n",
       "      <td>0.363410</td>\n",
       "      <td>0.136935</td>\n",
       "      <td>0.398578</td>\n",
       "      <td>0.528730</td>\n",
       "      <td>0.409343</td>\n",
       "      <td>0.355003</td>\n",
       "    </tr>\n",
       "    <tr>\n",
       "      <th>XLB</th>\n",
       "      <td>0.784144</td>\n",
       "      <td>0.713463</td>\n",
       "      <td>0.826053</td>\n",
       "      <td>0.787415</td>\n",
       "      <td>0.184366</td>\n",
       "      <td>-0.470890</td>\n",
       "      <td>0.324166</td>\n",
       "      <td>0.701533</td>\n",
       "      <td>0.689778</td>\n",
       "      <td>0.721232</td>\n",
       "      <td>0.363410</td>\n",
       "      <td>1.000000</td>\n",
       "      <td>0.346413</td>\n",
       "      <td>0.595411</td>\n",
       "      <td>0.533089</td>\n",
       "      <td>0.734593</td>\n",
       "      <td>0.709180</td>\n",
       "    </tr>\n",
       "    <tr>\n",
       "      <th>XTL</th>\n",
       "      <td>0.374000</td>\n",
       "      <td>0.421790</td>\n",
       "      <td>0.406181</td>\n",
       "      <td>0.383928</td>\n",
       "      <td>-0.042233</td>\n",
       "      <td>-0.205661</td>\n",
       "      <td>0.078796</td>\n",
       "      <td>0.387274</td>\n",
       "      <td>0.260463</td>\n",
       "      <td>0.370299</td>\n",
       "      <td>0.136935</td>\n",
       "      <td>0.346413</td>\n",
       "      <td>1.000000</td>\n",
       "      <td>0.324929</td>\n",
       "      <td>0.252531</td>\n",
       "      <td>0.345952</td>\n",
       "      <td>0.415560</td>\n",
       "    </tr>\n",
       "    <tr>\n",
       "      <th>XLV</th>\n",
       "      <td>0.663022</td>\n",
       "      <td>0.775392</td>\n",
       "      <td>0.811269</td>\n",
       "      <td>0.771044</td>\n",
       "      <td>-0.010200</td>\n",
       "      <td>-0.380925</td>\n",
       "      <td>0.119500</td>\n",
       "      <td>0.664288</td>\n",
       "      <td>0.454457</td>\n",
       "      <td>0.702860</td>\n",
       "      <td>0.398578</td>\n",
       "      <td>0.595411</td>\n",
       "      <td>0.324929</td>\n",
       "      <td>1.000000</td>\n",
       "      <td>0.648345</td>\n",
       "      <td>0.674114</td>\n",
       "      <td>0.676312</td>\n",
       "    </tr>\n",
       "    <tr>\n",
       "      <th>XLP</th>\n",
       "      <td>0.600424</td>\n",
       "      <td>0.614806</td>\n",
       "      <td>0.744466</td>\n",
       "      <td>0.753725</td>\n",
       "      <td>0.033047</td>\n",
       "      <td>-0.416913</td>\n",
       "      <td>0.116857</td>\n",
       "      <td>0.537065</td>\n",
       "      <td>0.413486</td>\n",
       "      <td>0.663055</td>\n",
       "      <td>0.528730</td>\n",
       "      <td>0.533089</td>\n",
       "      <td>0.252531</td>\n",
       "      <td>0.648345</td>\n",
       "      <td>1.000000</td>\n",
       "      <td>0.635411</td>\n",
       "      <td>0.609973</td>\n",
       "    </tr>\n",
       "    <tr>\n",
       "      <th>XLF</th>\n",
       "      <td>0.787340</td>\n",
       "      <td>0.752771</td>\n",
       "      <td>0.883616</td>\n",
       "      <td>0.860556</td>\n",
       "      <td>0.043039</td>\n",
       "      <td>-0.514365</td>\n",
       "      <td>0.221760</td>\n",
       "      <td>0.756282</td>\n",
       "      <td>0.599129</td>\n",
       "      <td>0.782053</td>\n",
       "      <td>0.409343</td>\n",
       "      <td>0.734593</td>\n",
       "      <td>0.345952</td>\n",
       "      <td>0.674114</td>\n",
       "      <td>0.635411</td>\n",
       "      <td>1.000000</td>\n",
       "      <td>0.745538</td>\n",
       "    </tr>\n",
       "    <tr>\n",
       "      <th>XLK</th>\n",
       "      <td>0.777773</td>\n",
       "      <td>0.945126</td>\n",
       "      <td>0.886588</td>\n",
       "      <td>0.842757</td>\n",
       "      <td>0.053022</td>\n",
       "      <td>-0.477258</td>\n",
       "      <td>0.225962</td>\n",
       "      <td>0.760438</td>\n",
       "      <td>0.559324</td>\n",
       "      <td>0.772189</td>\n",
       "      <td>0.355003</td>\n",
       "      <td>0.709180</td>\n",
       "      <td>0.415560</td>\n",
       "      <td>0.676312</td>\n",
       "      <td>0.609973</td>\n",
       "      <td>0.745538</td>\n",
       "      <td>1.000000</td>\n",
       "    </tr>\n",
       "  </tbody>\n",
       "</table>\n",
       "</div>"
      ],
      "text/plain": [
       "          XLI       QQQ       SPY       DIA       GLD       VXX       USO  \\\n",
       "XLI  1.000000  0.785865  0.888865  0.869680  0.056554 -0.468196  0.236881   \n",
       "QQQ  0.785865  1.000000  0.908995  0.834440  0.043553 -0.470555  0.199492   \n",
       "SPY  0.888865  0.908995  1.000000  0.953726  0.078722 -0.547074  0.272069   \n",
       "DIA  0.869680  0.834440  0.953726  1.000000  0.051523 -0.511327  0.256793   \n",
       "GLD  0.056554  0.043553  0.078722  0.051523  1.000000 -0.107488  0.216563   \n",
       "VXX -0.468196 -0.470555 -0.547074 -0.511327 -0.107488  1.000000 -0.195397   \n",
       "USO  0.236881  0.199492  0.272069  0.256793  0.216563 -0.195397  1.000000   \n",
       "IWM  0.782380  0.810158  0.833937  0.758012  0.070110 -0.448942  0.249799   \n",
       "XLE  0.650054  0.560044  0.713300  0.658311  0.188625 -0.448474  0.525943   \n",
       "XLY  0.798080  0.839701  0.887028  0.847043  0.017467 -0.474756  0.183275   \n",
       "XLU  0.380809  0.346667  0.481928  0.463364  0.121611 -0.260395  0.113182   \n",
       "XLB  0.784144  0.713463  0.826053  0.787415  0.184366 -0.470890  0.324166   \n",
       "XTL  0.374000  0.421790  0.406181  0.383928 -0.042233 -0.205661  0.078796   \n",
       "XLV  0.663022  0.775392  0.811269  0.771044 -0.010200 -0.380925  0.119500   \n",
       "XLP  0.600424  0.614806  0.744466  0.753725  0.033047 -0.416913  0.116857   \n",
       "XLF  0.787340  0.752771  0.883616  0.860556  0.043039 -0.514365  0.221760   \n",
       "XLK  0.777773  0.945126  0.886588  0.842757  0.053022 -0.477258  0.225962   \n",
       "\n",
       "          IWM       XLE       XLY       XLU       XLB       XTL       XLV  \\\n",
       "XLI  0.782380  0.650054  0.798080  0.380809  0.784144  0.374000  0.663022   \n",
       "QQQ  0.810158  0.560044  0.839701  0.346667  0.713463  0.421790  0.775392   \n",
       "SPY  0.833937  0.713300  0.887028  0.481928  0.826053  0.406181  0.811269   \n",
       "DIA  0.758012  0.658311  0.847043  0.463364  0.787415  0.383928  0.771044   \n",
       "GLD  0.070110  0.188625  0.017467  0.121611  0.184366 -0.042233 -0.010200   \n",
       "VXX -0.448942 -0.448474 -0.474756 -0.260395 -0.470890 -0.205661 -0.380925   \n",
       "USO  0.249799  0.525943  0.183275  0.113182  0.324166  0.078796  0.119500   \n",
       "IWM  1.000000  0.586991  0.779750  0.325003  0.701533  0.387274  0.664288   \n",
       "XLE  0.586991  1.000000  0.578956  0.337942  0.689778  0.260463  0.454457   \n",
       "XLY  0.779750  0.578956  1.000000  0.366827  0.721232  0.370299  0.702860   \n",
       "XLU  0.325003  0.337942  0.366827  1.000000  0.363410  0.136935  0.398578   \n",
       "XLB  0.701533  0.689778  0.721232  0.363410  1.000000  0.346413  0.595411   \n",
       "XTL  0.387274  0.260463  0.370299  0.136935  0.346413  1.000000  0.324929   \n",
       "XLV  0.664288  0.454457  0.702860  0.398578  0.595411  0.324929  1.000000   \n",
       "XLP  0.537065  0.413486  0.663055  0.528730  0.533089  0.252531  0.648345   \n",
       "XLF  0.756282  0.599129  0.782053  0.409343  0.734593  0.345952  0.674114   \n",
       "XLK  0.760438  0.559324  0.772189  0.355003  0.709180  0.415560  0.676312   \n",
       "\n",
       "          XLP       XLF       XLK  \n",
       "XLI  0.600424  0.787340  0.777773  \n",
       "QQQ  0.614806  0.752771  0.945126  \n",
       "SPY  0.744466  0.883616  0.886588  \n",
       "DIA  0.753725  0.860556  0.842757  \n",
       "GLD  0.033047  0.043039  0.053022  \n",
       "VXX -0.416913 -0.514365 -0.477258  \n",
       "USO  0.116857  0.221760  0.225962  \n",
       "IWM  0.537065  0.756282  0.760438  \n",
       "XLE  0.413486  0.599129  0.559324  \n",
       "XLY  0.663055  0.782053  0.772189  \n",
       "XLU  0.528730  0.409343  0.355003  \n",
       "XLB  0.533089  0.734593  0.709180  \n",
       "XTL  0.252531  0.345952  0.415560  \n",
       "XLV  0.648345  0.674114  0.676312  \n",
       "XLP  1.000000  0.635411  0.609973  \n",
       "XLF  0.635411  1.000000  0.745538  \n",
       "XLK  0.609973  0.745538  1.000000  "
      ]
     },
     "execution_count": 140,
     "metadata": {},
     "output_type": "execute_result"
    }
   ],
   "source": [
    "# calcoliamo la matrice di covarianza\n",
    "etfs.corr()"
   ]
  },
  {
   "cell_type": "code",
   "execution_count": 136,
   "metadata": {},
   "outputs": [
    {
     "data": {
      "image/png": "[encoded data removed]",
      "text/plain": [
       "<Figure size 360x288 with 2 Axes>"
      ]
     },
     "metadata": {
      "needs_background": "light"
     },
     "output_type": "display_data"
    }
   ],
   "source": [
    "# Mostriamo la matrice di covarianza come heatmap\n",
    "fig, ax = plt.subplots(figsize=(5, 4))\n",
    "ax = sns.heatmap(etfs.corr(), vmin=-1, vmax=1, \n",
    "                 cmap=\"coolwarm\", #colormap divergente\n",
    "                 ax=ax)\n",
    "\n",
    "plt.tight_layout()\n",
    "plt.show()"
   ]
  },
  {
   "cell_type": "code",
   "execution_count": null,
   "metadata": {},
   "outputs": [],
   "source": []
  },
  {
   "cell_type": "code",
   "execution_count": null,
   "metadata": {},
   "outputs": [],
   "source": []
  }
 ],
 "metadata": {
  "kernelspec": {
   "display_name": "Python 3",
   "language": "python",
   "name": "python3"
  },
  "language_info": {
   "codemirror_mode": {
    "name": "ipython",
    "version": 3
   },
   "file_extension": ".py",
   "mimetype": "text/x-python",
   "name": "python",
   "nbconvert_exporter": "python",
   "pygments_lexer": "ipython3",
   "version": "3.7.4"
  }
 },
 "nbformat": 4,
 "nbformat_minor": 4
}
