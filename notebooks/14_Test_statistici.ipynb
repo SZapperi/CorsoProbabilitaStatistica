{
 "cells": [
  {
   "cell_type": "markdown",
   "metadata": {},
   "source": [
    "# Corso di Probabilità e Statistica- Test statistici\n",
    "\n",
    "In questo capitolo, faremo alcuni esempi di test statistici."
   ]
  },
  {
   "cell_type": "code",
   "execution_count": 2,
   "metadata": {},
   "outputs": [],
   "source": [
    "%matplotlib inline\n",
    "import pandas as pd\n",
    "import numpy as np\n",
    "import scipy.stats \n",
    "import seaborn as sns\n",
    "import matplotlib.pylab as plt"
   ]
  },
  {
   "cell_type": "markdown",
   "metadata": {},
   "source": [
    "### Esempio: fratture \n",
    "Consideriamo di nuovo l'esempio della frattura della ceramica studiata nel capitolo 12"
   ]
  },
  {
   "cell_type": "code",
   "execution_count": 4,
   "metadata": {},
   "outputs": [],
   "source": [
    "#carichiamo il file\n",
    "strength = pd.read_csv(\"../data/Strength_ceramic.dat\",\n",
    "                       sep=\"\\s+\",skiprows=48)\n",
    "strength=strength.drop([0])"
   ]
  },
  {
   "cell_type": "markdown",
   "metadata": {},
   "source": [
    "Ricordiamo le molte variabili presenti nel file. \n",
    "Vogliamo vedere quali di questi fattori hanno un impatto significativo sul carico di rottura Y"
   ]
  },
  {
   "cell_type": "code",
   "execution_count": 7,
   "metadata": {},
   "outputs": [
    {
     "data": {
      "text/plain": [
       "['This is Dataplot data file     JAHANMI2.DAT\\n',\n",
       " 'Effect of Machining Factors on Strength of Ceramics\\n',\n",
       " '(Longitudinal Data Only)\\n',\n",
       " 'Response variable                  = ceramic strength\\n',\n",
       " 'Number of observations             =  480\\n',\n",
       " 'Number of variables per line image =   15\\n',\n",
       " 'Order of variables on a line image--\\n',\n",
       " '   1. Factor  1 = Observation Id (1 to 960)\\n',\n",
       " '   2. Factor  2 = Lab (8 levels: 1 to 8)\\n',\n",
       " '   3. Factor  3 = Bar id within lab (1 to 30)\\n',\n",
       " '   4. Factor  4 = Set xxx (4 levels: 1 to 4)\\n',\n",
       " '   5. Response Variable Y = Strength of Ceramic\\n',\n",
       " '   6. Factor  5 = Table Speed    (2 levels: slow and fast)\\n',\n",
       " '   7. Factor  6 = Down Feed Rate (2 levels: slow & fast)\\n',\n",
       " '   8. Factor  7 = Wheel Grit     (2 levels:     )\\n',\n",
       " '   9. Factor  8 = Direction      (1 level : longitudinal only)\\n',\n",
       " '  10. Factor  9 = Treatment      (2**4 = 16 levels: 1 to 16)\\n',\n",
       " '  11. Factor 10 = Set of 15 within lab (2 levels: 1 and 2)\\n',\n",
       " '  12. Factor 11 = Rep (2 levels: 1 and 2)\\n',\n",
       " '  13. Factor 12 = Coded Lab (for SAS plotting purposes)\\n',\n",
       " '  14. Factor 13 = Bar Batch (2 levels: 1 and 2)\\n',\n",
       " '  15. Factor 14 = ..\\n',\n",
       " '  16. Factor 15 = distinct set of 15 reps (32 levels: 1 to 32)\\n',\n",
       " 'To read this file into Dataplot--\\n']"
      ]
     },
     "execution_count": 7,
     "metadata": {},
     "output_type": "execute_result"
    }
   ],
   "source": [
    "with open(\"../data/Strength_ceramic.dat\") as myfile:\n",
    "    head = [next(myfile) for x in range(24)]\n",
    "head\n"
   ]
  },
  {
   "cell_type": "markdown",
   "metadata": {},
   "source": [
    "Controlliamo ad esempio il fattore X1 (Table speed).\n",
    "Per questo separiamo il database in due set e confrontiamoli                     "
   ]
  },
  {
   "cell_type": "code",
   "execution_count": 11,
   "metadata": {},
   "outputs": [],
   "source": [
    "set1=strength[strength[\"X1\"]==1.0].Y\n",
    "set2=strength[strength[\"X1\"]==-1.0].Y"
   ]
  },
  {
   "cell_type": "markdown",
   "metadata": {},
   "source": [
    "Calcoliamo medie e varianze"
   ]
  },
  {
   "cell_type": "code",
   "execution_count": 12,
   "metadata": {},
   "outputs": [
    {
     "data": {
      "text/plain": [
       "(642.6228083333333, 657.5318083333334)"
      ]
     },
     "execution_count": 12,
     "metadata": {},
     "output_type": "execute_result"
    }
   ],
   "source": [
    "set1.mean(),set2.mean()"
   ]
  },
  {
   "cell_type": "code",
   "execution_count": 17,
   "metadata": {},
   "outputs": [
    {
     "data": {
      "text/plain": [
       "(72.8397163731925, 75.8143783939444)"
      ]
     },
     "execution_count": 17,
     "metadata": {},
     "output_type": "execute_result"
    }
   ],
   "source": [
    "set1.std(),set2.std()"
   ]
  },
  {
   "cell_type": "markdown",
   "metadata": {},
   "source": [
    "Usiamo il t-test per testare l'ipotesi: I due set hanno la stessa media?\n",
    "\n",
    "https://docs.scipy.org/doc/scipy/reference/generated/scipy.stats.ttest_ind.html\n",
    "\n",
    "Dato un livello di significatività, che scegliamo ad esempio $\\alpha=0.01$, se il test fornisce $p<\\alpha$ possiamo rigettare l'ipotesi nulla che i due set abbiano la stessa media."
   ]
  },
  {
   "cell_type": "code",
   "execution_count": 18,
   "metadata": {},
   "outputs": [
    {
     "data": {
      "text/plain": [
       "Ttest_indResult(statistic=-2.196874880001813, pvalue=0.02850866118896449)"
      ]
     },
     "execution_count": 18,
     "metadata": {},
     "output_type": "execute_result"
    }
   ],
   "source": [
    "scipy.stats.ttest_ind(set1,set2)"
   ]
  },
  {
   "cell_type": "markdown",
   "metadata": {},
   "source": [
    "Interpretazione: $p > \\alpha$ e quindi non possiamo rigettare l'ipotesi che i due set abbiano la stessa media. Il che non vuol dire che abbiamo dimostrato che la media sia la stessa...\n",
    "\n",
    "Il T-test assume che le distribuzioni siano Gaussiane e con la stessa varianza. Controlliamo quindi gli istogrammi"
   ]
  },
  {
   "cell_type": "code",
   "execution_count": 29,
   "metadata": {},
   "outputs": [
    {
     "data": {
      "text/plain": [
       "<matplotlib.legend.Legend at 0x1a2276ea50>"
      ]
     },
     "execution_count": 29,
     "metadata": {},
     "output_type": "execute_result"
    },
    {
     "data": {
      "image/png": "[encoded data removed]",
      "text/plain": [
       "<Figure size 432x288 with 1 Axes>"
      ]
     },
     "metadata": {
      "needs_background": "light"
     },
     "output_type": "display_data"
    }
   ],
   "source": [
    "plt.hist(set1, bins=50, density=True, \n",
    "         histtype=\"step\", label=\"Set 1\" )\n",
    "plt.hist(set2, bins=50, density=True, \n",
    "         histtype=\"step\", label=\"Set 2\")\n",
    "plt.xlabel(\"X\")\n",
    "plt.ylabel(\"P(X)\")\n",
    "plt.legend()"
   ]
  },
  {
   "cell_type": "markdown",
   "metadata": {},
   "source": [
    "Visto che la distribuzione non è Gaussiana utilizziamo invece  il test di Kolmogorov Smirnov.\n",
    "https://docs.scipy.org/doc/scipy/reference/generated/scipy.stats.ks_2samp.html\n",
    "\n",
    "Per prima cosa guardiamo le distribuzioni cumulate."
   ]
  },
  {
   "cell_type": "code",
   "execution_count": 32,
   "metadata": {},
   "outputs": [
    {
     "data": {
      "text/plain": [
       "[<matplotlib.lines.Line2D at 0x1a22fd8d50>]"
      ]
     },
     "execution_count": 32,
     "metadata": {},
     "output_type": "execute_result"
    },
    {
     "data": {
      "image/png": "[encoded data removed]",
      "text/plain": [
       "<Figure size 432x288 with 1 Axes>"
      ]
     },
     "metadata": {
      "needs_background": "light"
     },
     "output_type": "display_data"
    }
   ],
   "source": [
    "xmin=np.min(strength.Y)\n",
    "xmax=np.max(strength.Y)\n",
    "x = np.linspace(xmin,xmax,101)\n",
    "y1=np.sort(set1)\n",
    "idx1 = [ i/len(y1) for i in range(len(y1))]\n",
    "y2=np.sort(set2)\n",
    "idx2 = [ i/len(y2) for i in range(len(y2))]\n",
    "plt.xlabel('Y')\n",
    "plt.ylabel('Cumulative Frequency')\n",
    "plt.plot(y1,idx1,label=\"Set 1\")\n",
    "plt.plot(y2,idx2,label=\"Set 2\")\n"
   ]
  },
  {
   "cell_type": "code",
   "execution_count": 34,
   "metadata": {},
   "outputs": [
    {
     "data": {
      "text/plain": [
       "(0.13333333333333333, 0.027951112440957247)"
      ]
     },
     "execution_count": 34,
     "metadata": {},
     "output_type": "execute_result"
    }
   ],
   "source": [
    "D,p_value=scipy.stats.ks_2samp(set1,set2)\n",
    "D,p_value"
   ]
  },
  {
   "cell_type": "markdown",
   "metadata": {},
   "source": [
    "Il test KS conferma il risultato del T-test. Il fattore X1 non ha un effetto significativo sul risultato."
   ]
  },
  {
   "cell_type": "markdown",
   "metadata": {},
   "source": [
    "**Esercizio** Eseguire il test di KS per tutti i possibili fattori e identificare i fattori significativi."
   ]
  },
  {
   "cell_type": "markdown",
   "metadata": {},
   "source": [
    "### Goodness of fit\n",
    "\n",
    "Controlliamo se il fit con MLE è \"buono\" con il test di KS\n",
    "\n"
   ]
  },
  {
   "cell_type": "code",
   "execution_count": 63,
   "metadata": {},
   "outputs": [],
   "source": [
    "# Fittiamo con Weibull\n",
    "k1, loc, x_1=scipy.stats.weibull_min.fit(set1, floc=0)\n",
    "W1=scipy.stats.weibull_min(k1,loc=0, scale=x_1) "
   ]
  },
  {
   "cell_type": "code",
   "execution_count": 66,
   "metadata": {},
   "outputs": [
    {
     "data": {
      "text/plain": [
       "<matplotlib.legend.Legend at 0x1a2333d6d0>"
      ]
     },
     "execution_count": 66,
     "metadata": {},
     "output_type": "execute_result"
    },
    {
     "data": {
      "image/png": "[encoded data removed]",
      "text/plain": [
       "<Figure size 432x288 with 1 Axes>"
      ]
     },
     "metadata": {
      "needs_background": "light"
     },
     "output_type": "display_data"
    }
   ],
   "source": [
    "# Facciamo un grafico di confronto\n",
    "xmin=np.min(strength.Y)\n",
    "xmax=np.max(strength.Y)\n",
    "x = np.linspace(xmin,xmax,101)\n",
    "y1=np.sort(set1)\n",
    "idx1 = [ i/len(y1) for i in range(len(y1))]\n",
    "plt.xlabel('Y')\n",
    "plt.ylabel('Cumulative Frequency')\n",
    "plt.plot(y1,idx1,label=\"Set 1\")\n",
    "plt.plot(x, W1.cdf(x), label=\"Fit\", color=\"black\")\n",
    "plt.legend()"
   ]
  },
  {
   "cell_type": "markdown",
   "metadata": {},
   "source": [
    "Controlliamo ora il test:"
   ]
  },
  {
   "cell_type": "code",
   "execution_count": 67,
   "metadata": {},
   "outputs": [
    {
     "data": {
      "text/plain": [
       "KstestResult(statistic=0.0823500092370742, pvalue=0.07288497491118176)"
      ]
     },
     "execution_count": 67,
     "metadata": {},
     "output_type": "execute_result"
    }
   ],
   "source": [
    "yy=set1.to_numpy()\n",
    "scipy.stats.kstest(yy, \n",
    "                  lambda x: \n",
    "                   scipy.stats.weibull_min.cdf\n",
    "                   (x, k1, loc=0, scale=x_1))"
   ]
  },
  {
   "cell_type": "markdown",
   "metadata": {},
   "source": [
    "Il test ci da un valore $p>\\alpha=0.01$ quindi non possiamo rifiutare l'ipotesi che i dati siano distribuiti secondo Weibull. \n",
    "\n",
    "Possiamo provare ora a ripetere l'esercizio supponendo invece che i dati siano Gaussiani"
   ]
  },
  {
   "cell_type": "code",
   "execution_count": 69,
   "metadata": {},
   "outputs": [
    {
     "data": {
      "text/plain": [
       "(642.6228083333333, 72.68780856160312)"
      ]
     },
     "execution_count": 69,
     "metadata": {},
     "output_type": "execute_result"
    }
   ],
   "source": [
    "mu_0=yy.mean()\n",
    "sigma_0=yy.std()\n",
    "mu_0,sigma_0"
   ]
  },
  {
   "cell_type": "code",
   "execution_count": 75,
   "metadata": {},
   "outputs": [
    {
     "data": {
      "text/plain": [
       "KstestResult(statistic=0.05026754500928454, pvalue=0.5753320861840807)"
      ]
     },
     "execution_count": 75,
     "metadata": {},
     "output_type": "execute_result"
    }
   ],
   "source": [
    "scipy.stats.kstest(yy, \n",
    "                  lambda x: \n",
    "                   scipy.stats.norm.cdf\n",
    "                   (x, loc=mu_0, scale=sigma_0))"
   ]
  },
  {
   "cell_type": "code",
   "execution_count": 77,
   "metadata": {},
   "outputs": [
    {
     "data": {
      "text/plain": [
       "<matplotlib.legend.Legend at 0x1a236b0990>"
      ]
     },
     "execution_count": 77,
     "metadata": {},
     "output_type": "execute_result"
    },
    {
     "data": {
      "image/png": "[encoded data removed]",
      "text/plain": [
       "<Figure size 432x288 with 1 Axes>"
      ]
     },
     "metadata": {
      "needs_background": "light"
     },
     "output_type": "display_data"
    }
   ],
   "source": [
    "# Facciamo un grafico di confronto\n",
    "xmin=np.min(strength.Y)\n",
    "xmax=np.max(strength.Y)\n",
    "x = np.linspace(xmin,xmax,101)\n",
    "y1=np.sort(set1)\n",
    "idx1 = [ i/len(y1) for i in range(len(y1))]\n",
    "plt.xlabel('Y')\n",
    "plt.ylabel('Cumulative Frequency')\n",
    "plt.plot(y1,idx1,label=\"Set 1\")\n",
    "plt.plot(x, scipy.stats.norm.cdf\n",
    "                   (x, loc=mu_0, scale=sigma_0), \n",
    "         label=\"Fit\", color=\"red\")\n",
    "plt.legend()"
   ]
  },
  {
   "cell_type": "code",
   "execution_count": null,
   "metadata": {},
   "outputs": [],
   "source": []
  }
 ],
 "metadata": {
  "kernelspec": {
   "display_name": "Python 3",
   "language": "python",
   "name": "python3"
  },
  "language_info": {
   "codemirror_mode": {
    "name": "ipython",
    "version": 3
   },
   "file_extension": ".py",
   "mimetype": "text/x-python",
   "name": "python",
   "nbconvert_exporter": "python",
   "pygments_lexer": "ipython3",
   "version": "3.7.4"
  }
 },
 "nbformat": 4,
 "nbformat_minor": 4
}
