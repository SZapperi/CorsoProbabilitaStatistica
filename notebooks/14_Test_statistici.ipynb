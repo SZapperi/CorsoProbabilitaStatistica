{
 "cells": [
  {
   "cell_type": "markdown",
   "metadata": {},
   "source": [
    "# Corso di Probabilità e Statistica- Test statistici\n",
    "\n",
    "In questo capitolo, faremo alcuni esempi di test statistici."
   ]
  },
  {
   "cell_type": "code",
   "execution_count": null,
   "metadata": {},
   "outputs": [],
   "source": [
    "%matplotlib inline\n",
    "import pandas as pd\n",
    "import numpy as np\n",
    "import scipy.stats \n",
    "import seaborn as sns\n",
    "import matplotlib.pylab as plt"
   ]
  },
  {
   "cell_type": "markdown",
   "metadata": {},
   "source": [
    "### Esempio: fratture \n",
    "Consideriamo di nuovo l'esempio della frattura della ceramica studiata nel capitolo 12"
   ]
  },
  {
   "cell_type": "code",
   "execution_count": null,
   "metadata": {},
   "outputs": [],
   "source": [
    "#carichiamo il file\n",
    "strength = pd.read_csv(\"../data/Strength_ceramic.dat\",\n",
    "                       sep=\"\\s+\",skiprows=48)\n",
    "strength=strength.drop([0])"
   ]
  },
  {
   "cell_type": "markdown",
   "metadata": {},
   "source": [
    "Ricordiamo le molte variabili presenti nel file. \n",
    "Vogliamo vedere quali di questi fattori hanno un impatto significativo sul carico di rottura Y"
   ]
  },
  {
   "cell_type": "code",
   "execution_count": null,
   "metadata": {},
   "outputs": [],
   "source": [
    "with open(\"../data/Strength_ceramic.dat\") as myfile:\n",
    "    head = [next(myfile) for x in range(24)]\n",
    "head\n"
   ]
  },
  {
   "cell_type": "markdown",
   "metadata": {},
   "source": [
    "Controlliamo ad esempio il fattore X1 (Table speed).\n",
    "Per questo separiamo il database in due set e confrontiamoli                     "
   ]
  },
  {
   "cell_type": "code",
   "execution_count": null,
   "metadata": {},
   "outputs": [],
   "source": [
    "set1=strength[strength[\"X1\"]==1.0].Y\n",
    "set2=strength[strength[\"X1\"]==-1.0].Y"
   ]
  },
  {
   "cell_type": "markdown",
   "metadata": {},
   "source": [
    "Calcoliamo medie e varianze"
   ]
  },
  {
   "cell_type": "code",
   "execution_count": null,
   "metadata": {},
   "outputs": [],
   "source": [
    "set1.mean(),set2.mean()"
   ]
  },
  {
   "cell_type": "code",
   "execution_count": null,
   "metadata": {},
   "outputs": [],
   "source": [
    "set1.std(),set2.std()"
   ]
  },
  {
   "cell_type": "markdown",
   "metadata": {},
   "source": [
    "Usiamo il t-test per testare l'ipotesi: I due set hanno la stessa media?\n",
    "\n",
    "https://docs.scipy.org/doc/scipy/reference/generated/scipy.stats.ttest_ind.html\n",
    "\n",
    "Dato un livello di significatività, che scegliamo ad esempio $\\alpha=0.01$, se il test fornisce $p<\\alpha$ possiamo rigettare l'ipotesi nulla che i due set abbiano la stessa media."
   ]
  },
  {
   "cell_type": "code",
   "execution_count": null,
   "metadata": {},
   "outputs": [],
   "source": [
    "scipy.stats.ttest_ind(set1,set2)"
   ]
  },
  {
   "cell_type": "markdown",
   "metadata": {},
   "source": [
    "Interpretazione: $p > \\alpha$ e quindi non possiamo rigettare l'ipotesi che i due set abbiano la stessa media. Il che non vuol dire che abbiamo dimostrato che la media sia la stessa...\n",
    "\n",
    "Il T-test assume che le distribuzioni siano Gaussiane e con la stessa varianza. Controlliamo quindi gli istogrammi"
   ]
  },
  {
   "cell_type": "code",
   "execution_count": null,
   "metadata": {},
   "outputs": [],
   "source": [
    "plt.hist(set1, bins=50, density=True, \n",
    "         histtype=\"step\", label=\"Set 1\" )\n",
    "plt.hist(set2, bins=50, density=True, \n",
    "         histtype=\"step\", label=\"Set 2\")\n",
    "plt.xlabel(\"X\")\n",
    "plt.ylabel(\"P(X)\")\n",
    "plt.legend()"
   ]
  },
  {
   "cell_type": "markdown",
   "metadata": {},
   "source": [
    "Visto che la distribuzione non è Gaussiana utilizziamo invece  il test di Kolmogorov Smirnov.\n",
    "https://docs.scipy.org/doc/scipy/reference/generated/scipy.stats.ks_2samp.html\n",
    "\n",
    "Per prima cosa guardiamo le distribuzioni cumulate."
   ]
  },
  {
   "cell_type": "code",
   "execution_count": null,
   "metadata": {},
   "outputs": [],
   "source": [
    "xmin=np.min(strength.Y)\n",
    "xmax=np.max(strength.Y)\n",
    "x = np.linspace(xmin,xmax,101)\n",
    "y1=np.sort(set1)\n",
    "idx1 = [ i/len(y1) for i in range(len(y1))]\n",
    "y2=np.sort(set2)\n",
    "idx2 = [ i/len(y2) for i in range(len(y2))]\n",
    "plt.xlabel('Y')\n",
    "plt.ylabel('Cumulative Frequency')\n",
    "plt.plot(y1,idx1,label=\"Set 1\")\n",
    "plt.plot(y2,idx2,label=\"Set 2\")\n"
   ]
  },
  {
   "cell_type": "code",
   "execution_count": null,
   "metadata": {},
   "outputs": [],
   "source": [
    "D,p_value=scipy.stats.ks_2samp(set1,set2)\n",
    "D,p_value"
   ]
  },
  {
   "cell_type": "markdown",
   "metadata": {},
   "source": [
    "Il test KS conferma il risultato del T-test. Il fattore X1 non ha un effetto significativo sul risultato."
   ]
  },
  {
   "cell_type": "markdown",
   "metadata": {},
   "source": [
    "**Esercizio** Eseguire il test di KS per tutti i possibili fattori e identificare i fattori significativi."
   ]
  },
  {
   "cell_type": "markdown",
   "metadata": {},
   "source": [
    "### Goodness of fit\n",
    "\n",
    "Controlliamo se il fit con MLE è \"buono\" con il test di KS\n",
    "\n"
   ]
  },
  {
   "cell_type": "code",
   "execution_count": null,
   "metadata": {},
   "outputs": [],
   "source": [
    "# Fittiamo con Weibull\n",
    "k1, loc, x_1=scipy.stats.weibull_min.fit(set1, floc=0)\n",
    "W1=scipy.stats.weibull_min(k1,loc=0, scale=x_1) "
   ]
  },
  {
   "cell_type": "code",
   "execution_count": null,
   "metadata": {},
   "outputs": [],
   "source": [
    "# Facciamo un grafico di confronto\n",
    "xmin=np.min(strength.Y)\n",
    "xmax=np.max(strength.Y)\n",
    "x = np.linspace(xmin,xmax,101)\n",
    "y1=np.sort(set1)\n",
    "idx1 = [ i/len(y1) for i in range(len(y1))]\n",
    "plt.xlabel('Y')\n",
    "plt.ylabel('Cumulative Frequency')\n",
    "plt.plot(y1,idx1,label=\"Set 1\")\n",
    "plt.plot(x, W1.cdf(x), label=\"Fit\", color=\"black\")\n",
    "plt.legend()"
   ]
  },
  {
   "cell_type": "markdown",
   "metadata": {},
   "source": [
    "Controlliamo ora il test:"
   ]
  },
  {
   "cell_type": "code",
   "execution_count": null,
   "metadata": {},
   "outputs": [],
   "source": [
    "yy=set1.to_numpy()\n",
    "scipy.stats.kstest(yy, \n",
    "                  lambda x: \n",
    "                   scipy.stats.weibull_min.cdf\n",
    "                   (x, k1, loc=0, scale=x_1))"
   ]
  },
  {
   "cell_type": "markdown",
   "metadata": {},
   "source": [
    "Il test ci da un valore $p>\\alpha=0.01$ quindi non possiamo rifiutare l'ipotesi che i dati siano distribuiti secondo Weibull. \n",
    "\n",
    "Possiamo provare ora a ripetere l'esercizio supponendo invece che i dati siano Gaussiani"
   ]
  },
  {
   "cell_type": "code",
   "execution_count": null,
   "metadata": {},
   "outputs": [],
   "source": [
    "mu_0=yy.mean()\n",
    "sigma_0=yy.std()\n",
    "mu_0,sigma_0"
   ]
  },
  {
   "cell_type": "code",
   "execution_count": null,
   "metadata": {},
   "outputs": [],
   "source": [
    "scipy.stats.kstest(yy, \n",
    "                  lambda x: \n",
    "                   scipy.stats.norm.cdf\n",
    "                   (x, loc=mu_0, scale=sigma_0))"
   ]
  },
  {
   "cell_type": "code",
   "execution_count": null,
   "metadata": {},
   "outputs": [],
   "source": [
    "# Facciamo un grafico di confronto\n",
    "xmin=np.min(strength.Y)\n",
    "xmax=np.max(strength.Y)\n",
    "x = np.linspace(xmin,xmax,101)\n",
    "y1=np.sort(set1)\n",
    "idx1 = [ i/len(y1) for i in range(len(y1))]\n",
    "plt.xlabel('Y')\n",
    "plt.ylabel('Cumulative Frequency')\n",
    "plt.plot(y1,idx1,label=\"Set 1\")\n",
    "plt.plot(x, scipy.stats.norm.cdf\n",
    "                   (x, loc=mu_0, scale=sigma_0), \n",
    "         label=\"Fit\", color=\"red\")\n",
    "plt.legend()"
   ]
  },
  {
   "cell_type": "code",
   "execution_count": null,
   "metadata": {},
   "outputs": [],
   "source": []
  }
 ],
 "metadata": {
  "kernelspec": {
   "display_name": "Python 3",
   "language": "python",
   "name": "python3"
  },
  "language_info": {
   "codemirror_mode": {
    "name": "ipython",
    "version": 3
   },
   "file_extension": ".py",
   "mimetype": "text/x-python",
   "name": "python",
   "nbconvert_exporter": "python",
   "pygments_lexer": "ipython3",
   "version": "3.7.4"
  }
 },
 "nbformat": 4,
 "nbformat_minor": 4
}
