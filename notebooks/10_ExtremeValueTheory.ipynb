{
 "cells": [
  {
   "cell_type": "markdown",
   "metadata": {},
   "source": [
    "# Corso di Probabilità e Statistica - Distribuzioni estremali\n",
    "\n",
    "In questo capitolo discutiamo delle distribuzioni estremali"
   ]
  },
  {
   "cell_type": "markdown",
   "metadata": {},
   "source": [
    "La distribuzione del massimo/minimo di N variabili casuali converge alla distribuzione di Weibull o Gumbel, a seconda del tipo di distribuzione delle variabili di partenza. \n",
    "\n",
    "**Weibull**\n",
    "Se le variabili di partenza sono positive con una distribuzione cumulata che per $x \\to 0$ scala come $P(x) \\sim x^a$, il minimo $m$ di $N$ variabili converge alla distribuzione di Weibull per $N \\to \\infty$. Ci aspettiamo che il valor medio decresca con $N$ come\n",
    "\n",
    "$$\\langle m \\rangle \\sim N^{-\\frac{1}{a+1}}$$\n"
   ]
  },
  {
   "cell_type": "code",
   "execution_count": 58,
   "metadata": {},
   "outputs": [],
   "source": [
    "import numpy as np\n",
    "import matplotlib.pyplot as plt\n",
    "import scipy.stats as stats"
   ]
  },
  {
   "cell_type": "code",
   "execution_count": 59,
   "metadata": {},
   "outputs": [],
   "source": [
    "NR=1000 #numero di realizzazioni\n",
    "a=2 #esponente\n",
    "Nvalues=10 #numero di valori di N da testare"
   ]
  },
  {
   "cell_type": "code",
   "execution_count": 60,
   "metadata": {},
   "outputs": [],
   "source": [
    "m=np.zeros((NR,Nvalues)) # inizializzazione\n",
    "for j in range(Nvalues):\n",
    "    N=8*2**j\n",
    "    for i in range(NR):\n",
    "        m[i,j]=m[i,j]+np.min(np.random.rand(N)**(1/(1+a)))"
   ]
  },
  {
   "cell_type": "code",
   "execution_count": 61,
   "metadata": {},
   "outputs": [],
   "source": [
    "media=np.mean(m,axis=0) #mediamo sulle colonne"
   ]
  },
  {
   "cell_type": "code",
   "execution_count": 62,
   "metadata": {},
   "outputs": [],
   "source": [
    "x0=np.arange(Nvalues) #lista di numeri da 0 a Nvalues-1"
   ]
  },
  {
   "cell_type": "code",
   "execution_count": 63,
   "metadata": {},
   "outputs": [],
   "source": [
    "xn=8*2**x0"
   ]
  },
  {
   "cell_type": "code",
   "execution_count": 65,
   "metadata": {},
   "outputs": [],
   "source": [
    "plt.rcParams.update({'font.size': 18}) #usiamo caratteri leggibili!"
   ]
  },
  {
   "cell_type": "code",
   "execution_count": 66,
   "metadata": {},
   "outputs": [
    {
     "data": {
      "image/png": "[encoded data removed]",
      "text/plain": [
       "<Figure size 432x288 with 1 Axes>"
      ]
     },
     "metadata": {
      "needs_background": "light"
     },
     "output_type": "display_data"
    }
   ],
   "source": [
    "x=np.log(xn)\n",
    "y=np.log(media)\n",
    "plt.scatter(x, y, label=\"data\")\n",
    "plt.plot(x,(-1/(a+1))*x, label=r\"$N^{-1/(a+1)}$\")\n",
    "plt.legend()\n",
    "plt.xlabel(r\"$\\log(N)$\")\n",
    "plt.ylabel(r\"$\\log(\\langle M \\rangle$)\")\n",
    "plt.show()"
   ]
  },
  {
   "cell_type": "markdown",
   "metadata": {},
   "source": [
    "**Gumbel**\n",
    "Se le variabili di partenza per $x \\to \\infty$ tendono a \n",
    "zero più velocemente di una legge a potenza (ad esempio come un esponenziale)\n",
    "allora la distribuzione del massimo segue la distribuzione di Gumbel con $\\langle M \\rangle \\sim \\log N$\n"
   ]
  },
  {
   "cell_type": "markdown",
   "metadata": {},
   "source": [
    "**Esercizio:**\n",
    "    \n",
    "Ripetere l'esempio precedente con la seguente variante. \n",
    "- Utilizzare $N$ variabili Gaussiane con $N=8 \\cdot 2^j$. \n",
    "- Calcolare il massimo $M$ di queste $N$ variabili. \n",
    "- Ripetere il calcolo per un numero di realizzazioni.\n",
    "- Calcolare la media del massimo $\\langle M \\rangle$ in funzione di $N$.\n",
    "- Fare un grafico di $\\langle M \\rangle$ vs $N$.\n",
    "- E' soddisfatta la legge di Gumbel?"
   ]
  },
  {
   "cell_type": "code",
   "execution_count": null,
   "metadata": {},
   "outputs": [],
   "source": []
  }
 ],
 "metadata": {
  "kernelspec": {
   "display_name": "Python 3",
   "language": "python",
   "name": "python3"
  },
  "language_info": {
   "codemirror_mode": {
    "name": "ipython",
    "version": 3
   },
   "file_extension": ".py",
   "mimetype": "text/x-python",
   "name": "python",
   "nbconvert_exporter": "python",
   "pygments_lexer": "ipython3",
   "version": "3.7.4"
  }
 },
 "nbformat": 4,
 "nbformat_minor": 4
}
