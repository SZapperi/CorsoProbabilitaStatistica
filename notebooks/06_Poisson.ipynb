{
 "cells": [
  {
   "cell_type": "markdown",
   "metadata": {},
   "source": [
    "# Corso di Probabilità e Statistica - Distribuzioni Poisson e continue\n",
    "\n",
    "In questo capitolo introduciamo la distribuzione di Poisson e alcune distribuzioni continue.\n"
   ]
  },
  {
   "cell_type": "code",
   "execution_count": 2,
   "metadata": {},
   "outputs": [],
   "source": [
    "import numpy as np\n",
    "import matplotlib.pyplot as plt\n",
    "import scipy.stats as stats"
   ]
  },
  {
   "cell_type": "markdown",
   "metadata": {},
   "source": [
    "**Processo di Poisson**"
   ]
  },
  {
   "cell_type": "code",
   "execution_count": 3,
   "metadata": {},
   "outputs": [],
   "source": [
    "lamda = 20.  # numero medio di eventi per unità di tempo"
   ]
  },
  {
   "cell_type": "code",
   "execution_count": 4,
   "metadata": {},
   "outputs": [],
   "source": [
    "dt = .001  # passo temporale\n",
    "n = int(1. / dt)  # numero di passi \n"
   ]
  },
  {
   "cell_type": "code",
   "execution_count": 5,
   "metadata": {},
   "outputs": [],
   "source": [
    "x = np.zeros(n) #inizializzazione =0\n",
    "x[np.random.rand(n) <= lamda * dt] = 1 #mettiamo 1 con probabilità: lamba*dt"
   ]
  },
  {
   "cell_type": "code",
   "execution_count": 6,
   "metadata": {},
   "outputs": [
    {
     "data": {
      "text/plain": [
       "14"
      ]
     },
     "execution_count": 6,
     "metadata": {},
     "output_type": "execute_result"
    }
   ],
   "source": [
    "k=int(np.sum(x)) #numero di eventi nell'intervallo di tempo\n",
    "k"
   ]
  },
  {
   "cell_type": "markdown",
   "metadata": {},
   "source": [
    "**Statistica del processo di Poisson**"
   ]
  },
  {
   "cell_type": "code",
   "execution_count": 7,
   "metadata": {},
   "outputs": [],
   "source": [
    "lamda=20 # numero medio di eventi per unità di tempo\n",
    "dt = .001  # passo temporale\n",
    "n = int(1. / dt)  # numero di passi \n",
    "NR=1000 #numero di realizzazioni del processo"
   ]
  },
  {
   "cell_type": "code",
   "execution_count": 8,
   "metadata": {},
   "outputs": [],
   "source": [
    "Pd=np.zeros(n+1) #inizializzazione della distribuzione"
   ]
  },
  {
   "cell_type": "code",
   "execution_count": 9,
   "metadata": {},
   "outputs": [],
   "source": [
    "for i in range(NR): #loop sulle realizzazioni\n",
    "    x = np.zeros(n) #inizializzazione =0\n",
    "    x[np.random.rand(n) <= lamda * dt] = 1 #mettiamo 1 con probabilità: lamba*dt\n",
    "    k=int(np.sum(x)) #numero di eventi nell'intervallo di tempo\n",
    "    Pd[k]=Pd[k]+1 #aggiorniamo la distribuzione\n",
    "Pd=Pd/NR #normalizzazione"
   ]
  },
  {
   "cell_type": "code",
   "execution_count": 10,
   "metadata": {},
   "outputs": [
    {
     "name": "stdout",
     "output_type": "stream",
     "text": [
      "media empirica=\n",
      "19.978\n",
      "media teorica=\n",
      "20\n",
      "varianza empirica=\n",
      "19.319515999999965\n",
      "varianza teorica=\n",
      "20\n"
     ]
    },
    {
     "data": {
      "text/plain": [
       "(None, None)"
      ]
     },
     "execution_count": 10,
     "metadata": {},
     "output_type": "execute_result"
    }
   ],
   "source": [
    "# calcoliamo media e varianza\n",
    "mu=np.average(np.arange(n+1),weights=Pd)\n",
    "print(\"media empirica=\"),print(mu)\n",
    "print(\"media teorica=\"),print(lamda)\n",
    "sigma2=np.average(np.arange(n+1)**2,weights=Pd)-mu**2\n",
    "print(\"varianza empirica=\"),print(sigma2)\n",
    "print(\"varianza teorica=\"),print(lamda)"
   ]
  },
  {
   "cell_type": "markdown",
   "metadata": {},
   "source": [
    "**Grafici**"
   ]
  },
  {
   "cell_type": "code",
   "execution_count": 11,
   "metadata": {},
   "outputs": [],
   "source": [
    "# usiamo caratteri leggibili!\n",
    "plt.rcParams.update({'font.size': 18})"
   ]
  },
  {
   "cell_type": "code",
   "execution_count": 12,
   "metadata": {},
   "outputs": [],
   "source": [
    "Pd1=stats.poisson(lamda) #distribuzione di Poisson"
   ]
  },
  {
   "cell_type": "code",
   "execution_count": null,
   "metadata": {},
   "outputs": [],
   "source": []
  },
  {
   "cell_type": "code",
   "execution_count": 18,
   "metadata": {},
   "outputs": [
    {
     "data": {
      "text/plain": [
       "<matplotlib.legend.Legend at 0x1a1928fe90>"
      ]
     },
     "execution_count": 18,
     "metadata": {},
     "output_type": "execute_result"
    },
    {
     "data": {
      "image/png": "[encoded data removed]",
      "text/plain": [
       "<Figure size 432x288 with 1 Axes>"
      ]
     },
     "metadata": {
      "needs_background": "light"
     },
     "output_type": "display_data"
    }
   ],
   "source": [
    "k = np.arange(n+1)\n",
    "plt.plot(k, Pd1.pmf(k), label=\"theory\", color=\"black\") #linee\n",
    "plt.bar(k,Pd, color='red', label=\"exp\")\n",
    "plt.xlim(0,50)\n",
    "plt.xlabel(r'$k$') \n",
    "plt.ylabel(r'$P_\\lambda(k)$') #Se vogliamo usare il LaTex nel grafico r'$math$'\n",
    "plt.legend()"
   ]
  },
  {
   "cell_type": "code",
   "execution_count": null,
   "metadata": {},
   "outputs": [],
   "source": []
  }
 ],
 "metadata": {
  "kernelspec": {
   "display_name": "Python 3",
   "language": "python",
   "name": "python3"
  },
  "language_info": {
   "codemirror_mode": {
    "name": "ipython",
    "version": 3
   },
   "file_extension": ".py",
   "mimetype": "text/x-python",
   "name": "python",
   "nbconvert_exporter": "python",
   "pygments_lexer": "ipython3",
   "version": "3.7.4"
  }
 },
 "nbformat": 4,
 "nbformat_minor": 4
}
