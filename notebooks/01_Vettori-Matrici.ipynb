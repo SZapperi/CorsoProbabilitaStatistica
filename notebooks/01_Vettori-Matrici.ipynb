{
 "cells": [
  {
   "cell_type": "markdown",
   "metadata": {},
   "source": [
    "# Corso di Probabilità e Statistica \n",
    "## Vettori, matrici, numeri random\n",
    "In questo capitolo introduciamo alcuni concetti elementari sulla generazione di vettori e matrici e numeri casuali. "
   ]
  },
  {
   "cell_type": "code",
   "execution_count": 84,
   "metadata": {},
   "outputs": [],
   "source": [
    "# importare packages\n",
    "import numpy as np #operazioni numeriche\n"
   ]
  },
  {
   "cell_type": "markdown",
   "metadata": {},
   "source": [
    "### Generare numeri random"
   ]
  },
  {
   "cell_type": "markdown",
   "metadata": {},
   "source": [
    "generare un numero random in [0,1]"
   ]
  },
  {
   "cell_type": "code",
   "execution_count": 39,
   "metadata": {},
   "outputs": [
    {
     "data": {
      "text/plain": [
       "0.009422152328312228"
      ]
     },
     "execution_count": 39,
     "metadata": {},
     "output_type": "execute_result"
    }
   ],
   "source": [
    "x_u=np.random.rand()\n",
    "x_u"
   ]
  },
  {
   "cell_type": "markdown",
   "metadata": {},
   "source": [
    "generare un numero random Gaussiano (media =0 varianza=1)"
   ]
  },
  {
   "cell_type": "code",
   "execution_count": 40,
   "metadata": {},
   "outputs": [
    {
     "data": {
      "text/plain": [
       "0.44099855860854126"
      ]
     },
     "execution_count": 40,
     "metadata": {},
     "output_type": "execute_result"
    }
   ],
   "source": [
    "x_g=np.random.randn()\n",
    "x_g"
   ]
  },
  {
   "cell_type": "markdown",
   "metadata": {},
   "source": [
    "generare un numero random Gaussiano (media =m varianza=s)"
   ]
  },
  {
   "cell_type": "code",
   "execution_count": 43,
   "metadata": {},
   "outputs": [
    {
     "data": {
      "text/plain": [
       "-0.7339728891671453"
      ]
     },
     "execution_count": 43,
     "metadata": {},
     "output_type": "execute_result"
    }
   ],
   "source": [
    "m=1\n",
    "s=2\n",
    "x_g=s*np.random.randn()+m\n",
    "x_g"
   ]
  },
  {
   "cell_type": "markdown",
   "metadata": {},
   "source": [
    "Generare numero random con distribuzione esponenziale"
   ]
  },
  {
   "cell_type": "code",
   "execution_count": 89,
   "metadata": {},
   "outputs": [
    {
     "data": {
      "text/plain": [
       "0.024328426979297692"
      ]
     },
     "execution_count": 89,
     "metadata": {},
     "output_type": "execute_result"
    }
   ],
   "source": [
    "x=np.random.rand() #numero random uniforme\n",
    "r0=2\n",
    "y_e=-np.log(1-x)/r0\n",
    "y_e"
   ]
  },
  {
   "cell_type": "markdown",
   "metadata": {},
   "source": [
    "### Generare vettori"
   ]
  },
  {
   "cell_type": "markdown",
   "metadata": {},
   "source": [
    "generare i numeri tra a e b, spaziati di d"
   ]
  },
  {
   "cell_type": "code",
   "execution_count": 5,
   "metadata": {},
   "outputs": [],
   "source": [
    "a=1\n",
    "b=5\n",
    "d=0.5\n",
    "x = np.arange(a,b,d)"
   ]
  },
  {
   "cell_type": "code",
   "execution_count": null,
   "metadata": {},
   "outputs": [],
   "source": []
  },
  {
   "cell_type": "markdown",
   "metadata": {},
   "source": [
    "generare N numeri equispaziati tra a e b (inclusi)"
   ]
  },
  {
   "cell_type": "code",
   "execution_count": 15,
   "metadata": {},
   "outputs": [],
   "source": [
    "a=0\n",
    "b=1\n",
    "N=11\n",
    "y = np.linspace(a,b,N)"
   ]
  },
  {
   "cell_type": "code",
   "execution_count": 16,
   "metadata": {},
   "outputs": [
    {
     "data": {
      "text/plain": [
       "array([0. , 0.1, 0.2, 0.3, 0.4, 0.5, 0.6, 0.7, 0.8, 0.9, 1. ])"
      ]
     },
     "execution_count": 16,
     "metadata": {},
     "output_type": "execute_result"
    }
   ],
   "source": [
    "y"
   ]
  },
  {
   "cell_type": "code",
   "execution_count": 24,
   "metadata": {},
   "outputs": [
    {
     "data": {
      "text/plain": [
       "array([0., 0., 0.])"
      ]
     },
     "execution_count": 24,
     "metadata": {},
     "output_type": "execute_result"
    }
   ],
   "source": [
    "#vettore di N componenti =0\n",
    "N=3\n",
    "zero_vector = np.zeros(N)\n",
    "zero_vector"
   ]
  },
  {
   "cell_type": "code",
   "execution_count": 42,
   "metadata": {},
   "outputs": [
    {
     "data": {
      "text/plain": [
       "array([ 1.25843411,  0.95108401, -2.31564976])"
      ]
     },
     "execution_count": 42,
     "metadata": {},
     "output_type": "execute_result"
    }
   ],
   "source": [
    "#vettore di N componenti random Gaussiane\n",
    "N=3\n",
    "random_vector = np.random.randn(N)\n",
    "random_vector"
   ]
  },
  {
   "cell_type": "markdown",
   "metadata": {},
   "source": [
    "### Generare matrici "
   ]
  },
  {
   "cell_type": "code",
   "execution_count": 22,
   "metadata": {},
   "outputs": [
    {
     "data": {
      "text/plain": [
       "array([[0., 0., 0., 0.],\n",
       "       [0., 0., 0., 0.],\n",
       "       [0., 0., 0., 0.]])"
      ]
     },
     "execution_count": 22,
     "metadata": {},
     "output_type": "execute_result"
    }
   ],
   "source": [
    "#matrice NxM =0\n",
    "N=3\n",
    "M=4\n",
    "zero_matrix = np.zeros( (N,M))\n",
    "zero_matrix"
   ]
  },
  {
   "cell_type": "code",
   "execution_count": 30,
   "metadata": {},
   "outputs": [
    {
     "data": {
      "text/plain": [
       "array([[1., 1., 1., 1.],\n",
       "       [1., 1., 1., 1.],\n",
       "       [1., 1., 1., 1.]])"
      ]
     },
     "execution_count": 30,
     "metadata": {},
     "output_type": "execute_result"
    }
   ],
   "source": [
    "#matrice NxM =1\n",
    "N=3\n",
    "M=4\n",
    "one_matrix = np.ones( (N,M))\n",
    "one_matrix"
   ]
  },
  {
   "cell_type": "code",
   "execution_count": 23,
   "metadata": {},
   "outputs": [
    {
     "data": {
      "text/plain": [
       "array([[ 0.13500398,  0.50946411,  0.1812327 , -0.86075953],\n",
       "       [ 1.31353514, -0.39212944,  2.85435931, -0.49933899],\n",
       "       [ 1.52922595,  0.18612959, -0.54598615, -1.34858678]])"
      ]
     },
     "execution_count": 23,
     "metadata": {},
     "output_type": "execute_result"
    }
   ],
   "source": [
    "#matrice random NxM \n",
    "N=3\n",
    "M=4\n",
    "random_matrix=np.random.randn(N,M)\n",
    "random_matrix"
   ]
  },
  {
   "cell_type": "markdown",
   "metadata": {},
   "source": [
    "Selezionare elementi di vettori o matrici"
   ]
  },
  {
   "cell_type": "code",
   "execution_count": 46,
   "metadata": {},
   "outputs": [
    {
     "data": {
      "text/plain": [
       "0.18612959192046363"
      ]
     },
     "execution_count": 46,
     "metadata": {},
     "output_type": "execute_result"
    }
   ],
   "source": [
    "random_matrix[2,1]"
   ]
  },
  {
   "cell_type": "markdown",
   "metadata": {},
   "source": [
    "Selezionare colonna"
   ]
  },
  {
   "cell_type": "code",
   "execution_count": 47,
   "metadata": {},
   "outputs": [
    {
     "data": {
      "text/plain": [
       "array([ 0.50946411, -0.39212944,  0.18612959])"
      ]
     },
     "execution_count": 47,
     "metadata": {},
     "output_type": "execute_result"
    }
   ],
   "source": [
    "random_matrix[:,1]"
   ]
  },
  {
   "cell_type": "markdown",
   "metadata": {},
   "source": [
    "Selezionare riga"
   ]
  },
  {
   "cell_type": "code",
   "execution_count": 49,
   "metadata": {},
   "outputs": [
    {
     "data": {
      "text/plain": [
       "array([ 1.52922595,  0.18612959, -0.54598615, -1.34858678])"
      ]
     },
     "execution_count": 49,
     "metadata": {},
     "output_type": "execute_result"
    }
   ],
   "source": [
    "random_matrix[2,:]"
   ]
  },
  {
   "cell_type": "code",
   "execution_count": null,
   "metadata": {},
   "outputs": [],
   "source": []
  },
  {
   "cell_type": "markdown",
   "metadata": {},
   "source": [
    "#### Esercizio\n",
    "\n",
    "1) generare una matrice di dimensione 5x5 i cui elementi siano numeri random distribuiti tra [-1,1]\n",
    "\n",
    "2) Selezionare la terza riga "
   ]
  },
  {
   "cell_type": "markdown",
   "metadata": {},
   "source": [
    "## Analisi statistica"
   ]
  },
  {
   "cell_type": "markdown",
   "metadata": {},
   "source": [
    "### distribuzione uniforme"
   ]
  },
  {
   "cell_type": "code",
   "execution_count": 60,
   "metadata": {},
   "outputs": [],
   "source": [
    "x10=np.random.rand(10)\n",
    "x100=np.random.rand(100)\n",
    "x1000=np.random.rand(1000)"
   ]
  },
  {
   "cell_type": "code",
   "execution_count": 63,
   "metadata": {},
   "outputs": [],
   "source": [
    "# media\n",
    "mu10=np.mean(x10)\n",
    "mu100=np.mean(x100)\n",
    "mu1000=np.mean(x1000)"
   ]
  },
  {
   "cell_type": "code",
   "execution_count": 62,
   "metadata": {},
   "outputs": [
    {
     "data": {
      "text/plain": [
       "(0.5064069645305056, 0.5385535510220656, 0.49757153405100496)"
      ]
     },
     "execution_count": 62,
     "metadata": {},
     "output_type": "execute_result"
    }
   ],
   "source": [
    "mu10,mu100,mu1000"
   ]
  },
  {
   "cell_type": "code",
   "execution_count": 72,
   "metadata": {},
   "outputs": [],
   "source": [
    "# mediana\n",
    "m10=np.median(x10)\n",
    "m100=np.median(x100)\n",
    "m1000=np.median(x1000)"
   ]
  },
  {
   "cell_type": "code",
   "execution_count": 73,
   "metadata": {},
   "outputs": [
    {
     "data": {
      "text/plain": [
       "(0.5144865597774462, 0.592295264669674, 0.5074192218343715)"
      ]
     },
     "execution_count": 73,
     "metadata": {},
     "output_type": "execute_result"
    }
   ],
   "source": [
    "m10,m100,m1000"
   ]
  },
  {
   "cell_type": "code",
   "execution_count": 68,
   "metadata": {},
   "outputs": [],
   "source": [
    "# deviazione standard\n",
    "sigma10=np.std(x10)\n",
    "sigma100=np.std(x100)\n",
    "sigma1000=np.std(x1000)"
   ]
  },
  {
   "cell_type": "code",
   "execution_count": 67,
   "metadata": {},
   "outputs": [
    {
     "data": {
      "text/plain": [
       "(0.3578908840993192, 0.2827625271057719, 0.28764538884552254)"
      ]
     },
     "execution_count": 67,
     "metadata": {},
     "output_type": "execute_result"
    }
   ],
   "source": [
    "sigma10,sigma100,sigma1000"
   ]
  },
  {
   "cell_type": "code",
   "execution_count": 69,
   "metadata": {},
   "outputs": [],
   "source": [
    "#varianza\n",
    "sigma_2_10=np.var(x10)\n",
    "sigma_2_100=np.var(x100)\n",
    "sigma_2_1000=np.var(x1000)"
   ]
  },
  {
   "cell_type": "code",
   "execution_count": 70,
   "metadata": {},
   "outputs": [
    {
     "data": {
      "text/plain": [
       "(0.12808588492139233, 0.07995464673524237, 0.08273986972409186)"
      ]
     },
     "execution_count": 70,
     "metadata": {},
     "output_type": "execute_result"
    }
   ],
   "source": [
    "sigma_2_10,sigma_2_100,sigma_2_1000"
   ]
  },
  {
   "cell_type": "code",
   "execution_count": 79,
   "metadata": {},
   "outputs": [],
   "source": [
    "# minimo e massimo\n",
    "min10=np.amin(x10)\n",
    "min100=np.amin(x100)\n",
    "min1000=np.amin(x1000)\n",
    "max10=np.amax(x10)\n",
    "max100=np.amax(x100)\n",
    "max1000=np.amax(x1000)"
   ]
  },
  {
   "cell_type": "code",
   "execution_count": 83,
   "metadata": {},
   "outputs": [
    {
     "data": {
      "text/plain": [
       "(0.04344616350500674,\n",
       " 0.02362016511459275,\n",
       " 0.0007301986218472001,\n",
       " 0.9664688278884368,\n",
       " 0.9997421897711556,\n",
       " 0.9991115634304468)"
      ]
     },
     "execution_count": 83,
     "metadata": {},
     "output_type": "execute_result"
    }
   ],
   "source": [
    "min10,min100,min1000,max10,max100,max1000\n"
   ]
  },
  {
   "cell_type": "markdown",
   "metadata": {},
   "source": [
    "### Distribuzione esponenziale"
   ]
  },
  {
   "cell_type": "code",
   "execution_count": 94,
   "metadata": {},
   "outputs": [],
   "source": [
    "N=1000\n",
    "x=np.random.rand(N) #numero random uniforme\n",
    "r0=2\n",
    "y=-np.log(1-x)/r0"
   ]
  },
  {
   "cell_type": "code",
   "execution_count": 95,
   "metadata": {},
   "outputs": [
    {
     "data": {
      "text/plain": [
       "(0.5028713770940673, 0.24339111650533948, 0.4933468521287427)"
      ]
     },
     "execution_count": 95,
     "metadata": {},
     "output_type": "execute_result"
    }
   ],
   "source": [
    "m=np.mean(y)\n",
    "var=np.var(y)\n",
    "std=np.std(y)\n",
    "m,var,std"
   ]
  },
  {
   "cell_type": "markdown",
   "metadata": {},
   "source": [
    "per una distribuzione esponenziale la media è uguale alla deviazione standard"
   ]
  },
  {
   "cell_type": "code",
   "execution_count": null,
   "metadata": {},
   "outputs": [],
   "source": []
  }
 ],
 "metadata": {
  "kernelspec": {
   "display_name": "Python 3",
   "language": "python",
   "name": "python3"
  },
  "language_info": {
   "codemirror_mode": {
    "name": "ipython",
    "version": 3
   },
   "file_extension": ".py",
   "mimetype": "text/x-python",
   "name": "python",
   "nbconvert_exporter": "python",
   "pygments_lexer": "ipython3",
   "version": "3.7.4"
  }
 },
 "nbformat": 4,
 "nbformat_minor": 4
}
