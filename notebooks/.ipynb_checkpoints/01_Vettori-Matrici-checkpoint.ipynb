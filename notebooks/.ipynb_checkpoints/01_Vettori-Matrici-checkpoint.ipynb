{
 "cells": [
  {
   "cell_type": "markdown",
   "metadata": {},
   "source": [
    "# Corso di Probabilità e Statistica \n",
    "## Vettori, matrici, numeri random\n",
    "In questo capitolo introduciamo alcuni concetti elementari sulla generazione di vettori e matrici e numeri casuali. "
   ]
  },
  {
   "cell_type": "code",
   "execution_count": null,
   "metadata": {},
   "outputs": [],
   "source": [
    "# importare packages\n",
    "import numpy as np #operazioni numeriche\n"
   ]
  },
  {
   "cell_type": "markdown",
   "metadata": {},
   "source": [
    "### Generare numeri random"
   ]
  },
  {
   "cell_type": "markdown",
   "metadata": {},
   "source": [
    "generare un numero random in [0,1]"
   ]
  },
  {
   "cell_type": "code",
   "execution_count": null,
   "metadata": {},
   "outputs": [],
   "source": [
    "x_u=np.random.rand()\n",
    "x_u"
   ]
  },
  {
   "cell_type": "markdown",
   "metadata": {},
   "source": [
    "generare un numero random Gaussiano (media =0 varianza=1)"
   ]
  },
  {
   "cell_type": "code",
   "execution_count": null,
   "metadata": {},
   "outputs": [],
   "source": [
    "x_g=np.random.randn()\n",
    "x_g"
   ]
  },
  {
   "cell_type": "markdown",
   "metadata": {},
   "source": [
    "generare un numero random Gaussiano (media =m varianza=s)"
   ]
  },
  {
   "cell_type": "code",
   "execution_count": null,
   "metadata": {},
   "outputs": [],
   "source": [
    "m=1\n",
    "s=2\n",
    "x_g=s*np.random.randn()+m\n",
    "x_g"
   ]
  },
  {
   "cell_type": "markdown",
   "metadata": {},
   "source": [
    "Generare numero random con distribuzione esponenziale"
   ]
  },
  {
   "cell_type": "code",
   "execution_count": null,
   "metadata": {},
   "outputs": [],
   "source": [
    "x=np.random.rand() #numero random uniforme\n",
    "r0=2\n",
    "y_e=-np.log(1-x)/r0\n",
    "y_e"
   ]
  },
  {
   "cell_type": "markdown",
   "metadata": {},
   "source": [
    "### Generare vettori"
   ]
  },
  {
   "cell_type": "markdown",
   "metadata": {},
   "source": [
    "generare i numeri tra a e b, spaziati di d"
   ]
  },
  {
   "cell_type": "code",
   "execution_count": null,
   "metadata": {},
   "outputs": [],
   "source": [
    "a=1\n",
    "b=5\n",
    "d=0.5\n",
    "x = np.arange(a,b,d)"
   ]
  },
  {
   "cell_type": "code",
   "execution_count": null,
   "metadata": {},
   "outputs": [],
   "source": []
  },
  {
   "cell_type": "markdown",
   "metadata": {},
   "source": [
    "generare N numeri equispaziati tra a e b (inclusi)"
   ]
  },
  {
   "cell_type": "code",
   "execution_count": null,
   "metadata": {},
   "outputs": [],
   "source": [
    "a=0\n",
    "b=1\n",
    "N=11\n",
    "y = np.linspace(a,b,N)"
   ]
  },
  {
   "cell_type": "code",
   "execution_count": null,
   "metadata": {},
   "outputs": [],
   "source": [
    "y"
   ]
  },
  {
   "cell_type": "code",
   "execution_count": null,
   "metadata": {},
   "outputs": [],
   "source": [
    "#vettore di N componenti =0\n",
    "N=3\n",
    "zero_vector = np.zeros(N)\n",
    "zero_vector"
   ]
  },
  {
   "cell_type": "code",
   "execution_count": null,
   "metadata": {},
   "outputs": [],
   "source": [
    "#vettore di N componenti random Gaussiane\n",
    "N=3\n",
    "random_vector = np.random.randn(N)\n",
    "random_vector"
   ]
  },
  {
   "cell_type": "markdown",
   "metadata": {},
   "source": [
    "### Generare matrici "
   ]
  },
  {
   "cell_type": "code",
   "execution_count": null,
   "metadata": {},
   "outputs": [],
   "source": [
    "#matrice NxM =0\n",
    "N=3\n",
    "M=4\n",
    "zero_matrix = np.zeros( (N,M))\n",
    "zero_matrix"
   ]
  },
  {
   "cell_type": "code",
   "execution_count": null,
   "metadata": {},
   "outputs": [],
   "source": [
    "#matrice NxM =1\n",
    "N=3\n",
    "M=4\n",
    "one_matrix = np.ones( (N,M))\n",
    "one_matrix"
   ]
  },
  {
   "cell_type": "code",
   "execution_count": null,
   "metadata": {},
   "outputs": [],
   "source": [
    "#matrice random NxM \n",
    "N=3\n",
    "M=4\n",
    "random_matrix=np.random.randn(N,M)\n",
    "random_matrix"
   ]
  },
  {
   "cell_type": "markdown",
   "metadata": {},
   "source": [
    "Selezionare elementi di vettori o matrici"
   ]
  },
  {
   "cell_type": "code",
   "execution_count": null,
   "metadata": {},
   "outputs": [],
   "source": [
    "random_matrix[2,1]"
   ]
  },
  {
   "cell_type": "markdown",
   "metadata": {},
   "source": [
    "Selezionare colonna"
   ]
  },
  {
   "cell_type": "code",
   "execution_count": null,
   "metadata": {},
   "outputs": [],
   "source": [
    "random_matrix[:,1]"
   ]
  },
  {
   "cell_type": "markdown",
   "metadata": {},
   "source": [
    "Selezionare riga"
   ]
  },
  {
   "cell_type": "code",
   "execution_count": null,
   "metadata": {},
   "outputs": [],
   "source": [
    "random_matrix[2,:]"
   ]
  },
  {
   "cell_type": "code",
   "execution_count": null,
   "metadata": {},
   "outputs": [],
   "source": []
  },
  {
   "cell_type": "markdown",
   "metadata": {},
   "source": [
    "#### Esercizio\n",
    "\n",
    "1) generare una matrice di dimensione 5x5 i cui elementi siano numeri random distribuiti tra [-1,1]\n",
    "\n",
    "2) Selezionare la terza riga "
   ]
  },
  {
   "cell_type": "markdown",
   "metadata": {},
   "source": [
    "## Analisi statistica"
   ]
  },
  {
   "cell_type": "markdown",
   "metadata": {},
   "source": [
    "### distribuzione uniforme"
   ]
  },
  {
   "cell_type": "code",
   "execution_count": null,
   "metadata": {},
   "outputs": [],
   "source": [
    "x10=np.random.rand(10)\n",
    "x100=np.random.rand(100)\n",
    "x1000=np.random.rand(1000)"
   ]
  },
  {
   "cell_type": "code",
   "execution_count": null,
   "metadata": {},
   "outputs": [],
   "source": [
    "# media\n",
    "mu10=np.mean(x10)\n",
    "mu100=np.mean(x100)\n",
    "mu1000=np.mean(x1000)"
   ]
  },
  {
   "cell_type": "code",
   "execution_count": null,
   "metadata": {},
   "outputs": [],
   "source": [
    "mu10,mu100,mu1000"
   ]
  },
  {
   "cell_type": "code",
   "execution_count": null,
   "metadata": {},
   "outputs": [],
   "source": [
    "# mediana\n",
    "m10=np.median(x10)\n",
    "m100=np.median(x100)\n",
    "m1000=np.median(x1000)"
   ]
  },
  {
   "cell_type": "code",
   "execution_count": null,
   "metadata": {},
   "outputs": [],
   "source": [
    "m10,m100,m1000"
   ]
  },
  {
   "cell_type": "code",
   "execution_count": null,
   "metadata": {},
   "outputs": [],
   "source": [
    "# deviazione standard\n",
    "sigma10=np.std(x10)\n",
    "sigma100=np.std(x100)\n",
    "sigma1000=np.std(x1000)"
   ]
  },
  {
   "cell_type": "code",
   "execution_count": null,
   "metadata": {},
   "outputs": [],
   "source": [
    "sigma10,sigma100,sigma1000"
   ]
  },
  {
   "cell_type": "code",
   "execution_count": null,
   "metadata": {},
   "outputs": [],
   "source": [
    "#varianza\n",
    "sigma_2_10=np.var(x10)\n",
    "sigma_2_100=np.var(x100)\n",
    "sigma_2_1000=np.var(x1000)"
   ]
  },
  {
   "cell_type": "code",
   "execution_count": null,
   "metadata": {},
   "outputs": [],
   "source": [
    "sigma_2_10,sigma_2_100,sigma_2_1000"
   ]
  },
  {
   "cell_type": "code",
   "execution_count": null,
   "metadata": {},
   "outputs": [],
   "source": [
    "# minimo e massimo\n",
    "min10=np.amin(x10)\n",
    "min100=np.amin(x100)\n",
    "min1000=np.amin(x1000)\n",
    "max10=np.amax(x10)\n",
    "max100=np.amax(x100)\n",
    "max1000=np.amax(x1000)"
   ]
  },
  {
   "cell_type": "code",
   "execution_count": null,
   "metadata": {},
   "outputs": [],
   "source": [
    "min10,min100,min1000,max10,max100,max1000\n"
   ]
  },
  {
   "cell_type": "markdown",
   "metadata": {},
   "source": [
    "### Distribuzione esponenziale"
   ]
  },
  {
   "cell_type": "code",
   "execution_count": null,
   "metadata": {},
   "outputs": [],
   "source": [
    "N=1000\n",
    "x=np.random.rand(N) #numero random uniforme\n",
    "r0=2\n",
    "y=-np.log(1-x)/r0"
   ]
  },
  {
   "cell_type": "code",
   "execution_count": null,
   "metadata": {},
   "outputs": [],
   "source": [
    "m=np.mean(y)\n",
    "var=np.var(y)\n",
    "std=np.std(y)\n",
    "m,var,std"
   ]
  },
  {
   "cell_type": "markdown",
   "metadata": {},
   "source": [
    "per una distribuzione esponenziale la media è uguale alla deviazione standard"
   ]
  },
  {
   "cell_type": "code",
   "execution_count": null,
   "metadata": {},
   "outputs": [],
   "source": []
  }
 ],
 "metadata": {
  "kernelspec": {
   "display_name": "Python 3",
   "language": "python",
   "name": "python3"
  },
  "language_info": {
   "codemirror_mode": {
    "name": "ipython",
    "version": 3
   },
   "file_extension": ".py",
   "mimetype": "text/x-python",
   "name": "python",
   "nbconvert_exporter": "python",
   "pygments_lexer": "ipython3",
   "version": "3.7.4"
  }
 },
 "nbformat": 4,
 "nbformat_minor": 4
}
