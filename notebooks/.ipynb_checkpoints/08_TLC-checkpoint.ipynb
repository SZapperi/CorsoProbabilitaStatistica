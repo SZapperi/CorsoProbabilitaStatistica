{
 "cells": [
  {
   "cell_type": "markdown",
   "metadata": {},
   "source": [
    "# Corso di Probabilità e Statistica - Teorema del limite centrale\n",
    "\n",
    "In questo capitolo discutiamo del teorema del limite centrale"
   ]
  },
  {
   "cell_type": "code",
   "execution_count": null,
   "metadata": {},
   "outputs": [],
   "source": [
    "import numpy as np\n",
    "import matplotlib.pyplot as plt\n",
    "import scipy.stats as stats"
   ]
  },
  {
   "cell_type": "code",
   "execution_count": null,
   "metadata": {},
   "outputs": [],
   "source": [
    "# usiamo caratteri leggibili!\n",
    "plt.rcParams.update({'font.size': 18})"
   ]
  },
  {
   "cell_type": "markdown",
   "metadata": {},
   "source": [
    "**Distribuzione uniforme**"
   ]
  },
  {
   "cell_type": "code",
   "execution_count": null,
   "metadata": {},
   "outputs": [],
   "source": [
    "N=2 #numero di variabili da sommare\n",
    "NR=100000 #numero di realizzazioni"
   ]
  },
  {
   "cell_type": "code",
   "execution_count": null,
   "metadata": {},
   "outputs": [],
   "source": [
    "S=np.zeros(NR) # inizializzazione\n",
    "for i in range(NR):\n",
    "    S[i]=S[i]+np.sum(np.random.rand(N))/N\n",
    "    "
   ]
  },
  {
   "cell_type": "code",
   "execution_count": null,
   "metadata": {},
   "outputs": [],
   "source": [
    "# Calcoliamo media e varianza\n",
    "mu_S=np.mean(S)\n",
    "sigma2_S=np.std(S)\n",
    "# CLT\n",
    "mu=0.5\n",
    "sigma=np.sqrt(1./(12*N))\n",
    "mu_S,sigma2_S,mu,sigma"
   ]
  },
  {
   "cell_type": "code",
   "execution_count": null,
   "metadata": {},
   "outputs": [],
   "source": [
    "# Istogramma\n",
    "plt.hist(S,bins=100,density=True,label=\"S\")\n",
    "# Distribuzione teorica CLT\n",
    "xmin=np.min(S)\n",
    "xmax=np.max(S)\n",
    "x = np.linspace(xmin,xmax,101)\n",
    "g=stats.norm(loc=mu, scale=sigma) \n",
    "plt.plot(x, g.pdf(x), label=\"CLT\")\n",
    "plt.legend()\n",
    "plt.xlabel(\"S\")\n",
    "plt.ylabel(\"p(S)\")\n",
    "plt.show()\n"
   ]
  },
  {
   "cell_type": "markdown",
   "metadata": {},
   "source": [
    "**Esercizio**\n",
    "\n",
    "Ripetere il calcolo con una distribuzione di variabili esponenziale.\n",
    "\n",
    "$$ p(x | \\lambda) = \\lambda \\exp(-\\lambda x) $$\n",
    "\n",
    "A parità di N esplorare l'effetto del parametro $\\lambda$ sulla convergenza della distribzione della media verso la Gaussiana. "
   ]
  },
  {
   "cell_type": "markdown",
   "metadata": {},
   "source": [
    "**Distribuzione di Levy**\n",
    "\n",
    "Consideriamo ora la somma di variabili distribuite con una distribuzione a legge di potenza\n",
    "\n",
    "$$ p(x) = x^{-a} \\; \\; x>1$$ \n",
    "\n",
    "se l'esponente $a < 2$ la distribuzione della somma non converge più alla Gaussiana ma alla distribuzione di Levy."
   ]
  },
  {
   "cell_type": "code",
   "execution_count": null,
   "metadata": {},
   "outputs": [],
   "source": [
    "N=100 #numero di variabili da sommare\n",
    "NR=100000 #numero di realizzazioni\n",
    "a=1.5 #esponente"
   ]
  },
  {
   "cell_type": "code",
   "execution_count": null,
   "metadata": {},
   "outputs": [],
   "source": [
    "S=np.zeros(NR) # inizializzazione\n",
    "for i in range(NR):\n",
    "    x =np.random.rand(N)\n",
    "    y=(1-x)**(1/(1-a))\n",
    "    S[i]=S[i]+np.sum(y)/N"
   ]
  },
  {
   "cell_type": "code",
   "execution_count": null,
   "metadata": {},
   "outputs": [],
   "source": [
    "# Calcoliamo media e varianza\n",
    "mu_S=np.mean(S)\n",
    "sigma_S=np.std(S)"
   ]
  },
  {
   "cell_type": "code",
   "execution_count": null,
   "metadata": {},
   "outputs": [],
   "source": [
    "# Istogramma\n",
    "plt.hist(S,bins=1000,density=True,label=\"S\", log=True)\n",
    "# Distribuzione teorica CLT\n",
    "xmin=np.min(S)\n",
    "xmax=np.max(S)\n",
    "x = np.linspace(xmin,xmax,101)\n",
    "g=stats.norm(loc=mu_S, scale=sigma_S) \n",
    "plt.plot(x, g.pdf(x), label=\"CLT\")\n",
    "plt.legend()\n",
    "plt.xlabel(\"S\")\n",
    "plt.ylabel(\"p(S)\")\n",
    "plt.show()"
   ]
  },
  {
   "cell_type": "code",
   "execution_count": null,
   "metadata": {},
   "outputs": [],
   "source": [
    "# calcoliamo il logaritmo di S\n",
    "logS=np.log(S)"
   ]
  },
  {
   "cell_type": "code",
   "execution_count": null,
   "metadata": {},
   "outputs": [],
   "source": [
    "# Istogramma del log in scala log\n",
    "plt.hist(logS,bins=1000,density=True,label=\"S\", log=True)\n",
    "plt.legend()\n",
    "plt.xlabel(\"log(S)\")\n",
    "plt.ylabel(\"p(S)\")\n",
    "plt.show()"
   ]
  },
  {
   "cell_type": "code",
   "execution_count": null,
   "metadata": {},
   "outputs": [],
   "source": []
  }
 ],
 "metadata": {
  "kernelspec": {
   "display_name": "Python 3",
   "language": "python",
   "name": "python3"
  },
  "language_info": {
   "codemirror_mode": {
    "name": "ipython",
    "version": 3
   },
   "file_extension": ".py",
   "mimetype": "text/x-python",
   "name": "python",
   "nbconvert_exporter": "python",
   "pygments_lexer": "ipython3",
   "version": "3.7.4"
  }
 },
 "nbformat": 4,
 "nbformat_minor": 4
}
