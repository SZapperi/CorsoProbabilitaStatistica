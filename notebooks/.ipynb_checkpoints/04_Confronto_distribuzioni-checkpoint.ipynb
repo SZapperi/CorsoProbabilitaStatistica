{
 "cells": [
  {
   "cell_type": "markdown",
   "metadata": {},
   "source": [
    "# Corso di Probabilità e Statistica - Confrontare set di dati diversi\n",
    "\n",
    "In questo capitolo introduciamo alcuni metodi per visualizzare nello stesso grafico diversi set di dati\n",
    "\n"
   ]
  },
  {
   "cell_type": "code",
   "execution_count": null,
   "metadata": {},
   "outputs": [],
   "source": [
    "import numpy as np\n",
    "import matplotlib.pyplot as plt\n",
    "import scipy.stats as stats # Statistica\n",
    "import seaborn as sns # Grafica avanzata\n"
   ]
  },
  {
   "cell_type": "code",
   "execution_count": null,
   "metadata": {},
   "outputs": [],
   "source": [
    "# usiamo caratteri leggibili!\n",
    "plt.rcParams.update({'font.size': 18})"
   ]
  },
  {
   "cell_type": "code",
   "execution_count": null,
   "metadata": {},
   "outputs": [],
   "source": [
    "# Generare 3 set di N numeri random Gaussiani \n",
    "N=100\n",
    "sigma1=1.\n",
    "m1=1.5\n",
    "x1 = sigma1*np.random.randn(N)+m1\n",
    "sigma2=2.\n",
    "m2=2.\n",
    "x2 = sigma1*np.random.randn(N)+m2\n",
    "sigma3=3.\n",
    "m3=1.\n",
    "x3 = sigma3*np.random.randn(N)+m3\n"
   ]
  },
  {
   "cell_type": "markdown",
   "metadata": {},
   "source": [
    "**Istogrammi**"
   ]
  },
  {
   "cell_type": "code",
   "execution_count": null,
   "metadata": {},
   "outputs": [],
   "source": [
    "plt.hist(x1,bins=20,density=True,label=\"set1\")\n",
    "plt.hist(x2,bins=20,density=True, label=\"set2\")\n",
    "plt.hist(x3,bins=20,density=True, label=\"set3\")\n",
    "plt.legend()\n",
    "plt.xlabel('X')\n",
    "plt.ylabel('Frequency')\n",
    "plt.title('Histograms')"
   ]
  },
  {
   "cell_type": "markdown",
   "metadata": {},
   "source": [
    "Di seguito illustriamo metodi per visualizzare più semplicemente tante distribuzioni insieme"
   ]
  },
  {
   "cell_type": "code",
   "execution_count": null,
   "metadata": {},
   "outputs": [],
   "source": [
    "# matrice complessiva (array) utile se x1,x2,x3 hanno la stessa dimensione\n",
    "data=[x1,x2,x3]"
   ]
  },
  {
   "cell_type": "markdown",
   "metadata": {},
   "source": [
    "**Boxplot**\n",
    "\n",
    "https://seaborn.pydata.org/generated/seaborn.boxplot.html"
   ]
  },
  {
   "cell_type": "code",
   "execution_count": null,
   "metadata": {},
   "outputs": [],
   "source": [
    "# The error bars indicate 1.5* the inter-quartile-range (IQR), and the box consists of the\n",
    "# first, second (middle) and third quartile\n",
    "sns.boxplot(data=data)\n",
    "plt.title('Boxplot')\n",
    "plt.xlabel('Index')\n",
    "plt.ylabel('X')\n",
    "plt.draw()"
   ]
  },
  {
   "cell_type": "markdown",
   "metadata": {},
   "source": [
    "**Swarmplot**\n",
    "\n",
    "https://seaborn.pydata.org/generated/seaborn.swarmplot.html"
   ]
  },
  {
   "cell_type": "code",
   "execution_count": null,
   "metadata": {},
   "outputs": [],
   "source": [
    "sns.swarmplot(data=data)\n",
    "plt.title('Swarmplot')\n",
    "plt.xlabel('Index')\n",
    "plt.ylabel('X')\n",
    "plt.draw()"
   ]
  },
  {
   "cell_type": "markdown",
   "metadata": {},
   "source": [
    "**Violinplot**\n",
    "\n",
    "https://seaborn.pydata.org/generated/seaborn.violinplot.html"
   ]
  },
  {
   "cell_type": "code",
   "execution_count": null,
   "metadata": {},
   "outputs": [],
   "source": [
    "sns.violinplot(data=data)\n",
    "plt.title('Violinplot')\n",
    "plt.xlabel('Index')\n",
    "plt.ylabel('X')\n",
    "plt.draw()"
   ]
  },
  {
   "cell_type": "markdown",
   "metadata": {},
   "source": [
    "**Stripplot**\n",
    "\n",
    "https://seaborn.pydata.org/generated/seaborn.stripplot.html"
   ]
  },
  {
   "cell_type": "code",
   "execution_count": null,
   "metadata": {},
   "outputs": [],
   "source": [
    "sns.stripplot(data=data)\n",
    "plt.title('Stripplot')\n",
    "plt.xlabel('Index')\n",
    "plt.ylabel('X')\n",
    "plt.draw()"
   ]
  },
  {
   "cell_type": "markdown",
   "metadata": {},
   "source": [
    "**Combinazioni**"
   ]
  },
  {
   "cell_type": "code",
   "execution_count": null,
   "metadata": {},
   "outputs": [],
   "source": [
    "sns.boxplot(data=data)\n",
    "sns.stripplot(data=data, color=\"black\")\n",
    "plt.title('Stripplot & Boxplot')\n",
    "plt.xlabel('Index')\n",
    "plt.ylabel('X')\n",
    "plt.draw()"
   ]
  },
  {
   "cell_type": "markdown",
   "metadata": {},
   "source": [
    "### Esercizi\n",
    "\n",
    "- esplorare i codici di colore o palette https://seaborn.pydata.org/generated/seaborn.color_palette.html#seaborn.color_palette ad esempio sns.boxplot(data=data, palette=\"RdBu\") per multicolre  oppure sns.boxplot(data=data, color=\"red\") per un singolo colore. Provare anche con gli altri metodi\n",
    "- provare le seguenti variabili:  orient = “v” | “h” , width = float"
   ]
  },
  {
   "cell_type": "code",
   "execution_count": null,
   "metadata": {},
   "outputs": [],
   "source": []
  },
  {
   "cell_type": "code",
   "execution_count": null,
   "metadata": {},
   "outputs": [],
   "source": []
  }
 ],
 "metadata": {
  "kernelspec": {
   "display_name": "Python 3",
   "language": "python",
   "name": "python3"
  },
  "language_info": {
   "codemirror_mode": {
    "name": "ipython",
    "version": 3
   },
   "file_extension": ".py",
   "mimetype": "text/x-python",
   "name": "python",
   "nbconvert_exporter": "python",
   "pygments_lexer": "ipython3",
   "version": "3.7.4"
  }
 },
 "nbformat": 4,
 "nbformat_minor": 4
}
