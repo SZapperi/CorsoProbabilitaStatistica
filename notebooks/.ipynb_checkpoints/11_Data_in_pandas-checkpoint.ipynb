{
 "cells": [
  {
   "cell_type": "markdown",
   "metadata": {},
   "source": [
    "# Corso di Probabilità e Statistica - Analisi statistica e visualizzazione di dati con pandas\n",
    "\n",
    "In questo capitolo useremo la libreria pandas per analizzare dati in modo qualitativo."
   ]
  },
  {
   "cell_type": "code",
   "execution_count": null,
   "metadata": {},
   "outputs": [],
   "source": []
  },
  {
   "cell_type": "code",
   "execution_count": null,
   "metadata": {},
   "outputs": [],
   "source": [
    "%matplotlib inline\n",
    "import pandas as pd\n",
    "import numpy as np\n",
    "from scipy.stats import trim_mean\n",
    "from statsmodels import robust\n",
    "import seaborn as sns\n",
    "import matplotlib.pylab as plt"
   ]
  },
  {
   "cell_type": "markdown",
   "metadata": {},
   "source": [
    "## Esempio: murder rate (USA)\n",
    "Nell'esempio successivo ci viene fornito un file con i tassi di omicidio negli stati USA. L'obiettivo è di aprire il file fare qualche analisi statistica di base e esplorare/visualizzare il database.\n"
   ]
  },
  {
   "cell_type": "code",
   "execution_count": null,
   "metadata": {},
   "outputs": [],
   "source": [
    "# importiamo i dati\n",
    "state = pd.read_csv(\"../data/state.csv\")"
   ]
  },
  {
   "cell_type": "code",
   "execution_count": null,
   "metadata": {},
   "outputs": [],
   "source": [
    "# apriamo il file (le prime 8 righe)\n",
    "print(state.head(8))"
   ]
  },
  {
   "cell_type": "code",
   "execution_count": null,
   "metadata": {},
   "outputs": [],
   "source": [
    "# calcoliamo la popolazione media\n",
    "state['Population'].mean()"
   ]
  },
  {
   "cell_type": "code",
   "execution_count": null,
   "metadata": {},
   "outputs": [],
   "source": [
    "# calcoliamo il tasso di omicidio medio\n",
    "state['Murder.Rate'].mean()"
   ]
  },
  {
   "cell_type": "code",
   "execution_count": null,
   "metadata": {},
   "outputs": [],
   "source": [
    "# mediana\n",
    "state['Population'].mean()"
   ]
  },
  {
   "cell_type": "code",
   "execution_count": null,
   "metadata": {},
   "outputs": [],
   "source": [
    "# standard deviation\n",
    "state['Population'].std()"
   ]
  },
  {
   "cell_type": "code",
   "execution_count": null,
   "metadata": {},
   "outputs": [],
   "source": [
    "# quantili\n",
    "state['Murder.Rate'].quantile([0.05, 0.25, 0.5, 0.75, 0.95])\n"
   ]
  },
  {
   "cell_type": "code",
   "execution_count": null,
   "metadata": {},
   "outputs": [],
   "source": [
    "# usiamo caratteri leggibili!\n",
    "plt.rcParams.update({'font.size': 18})\n",
    "#istogramma\n",
    "state[\"Population\"].hist()\n",
    "plt.xlabel('Population')\n",
    "plt.ylabel('Frequency')\n",
    "plt.title('Histogram')"
   ]
  },
  {
   "cell_type": "code",
   "execution_count": null,
   "metadata": {},
   "outputs": [],
   "source": [
    "x=state[\"Population\"]\n",
    "y=state[\"Murder.Rate\"]\n",
    "plt.scatter(x,y)\n",
    "plt.xlabel('Population')\n",
    "plt.ylabel('Murder Rate')"
   ]
  },
  {
   "cell_type": "code",
   "execution_count": null,
   "metadata": {},
   "outputs": [],
   "source": [
    "#stessa cosa con seaborn\n",
    "sns.scatterplot(data=state, x=\"Population\", y=\"Murder.Rate\")"
   ]
  },
  {
   "cell_type": "code",
   "execution_count": null,
   "metadata": {},
   "outputs": [],
   "source": [
    "# classifichiamo i dati a seconda della popolazione\n",
    "state[\"Population High\"]=(state[\"Population\"]>1e7)"
   ]
  },
  {
   "cell_type": "code",
   "execution_count": null,
   "metadata": {},
   "outputs": [],
   "source": [
    "# Plot categorici\n",
    "sns.boxplot(data=state, x=\"Population High\", y=\"Murder.Rate\" )"
   ]
  },
  {
   "cell_type": "code",
   "execution_count": null,
   "metadata": {},
   "outputs": [],
   "source": [
    "# Definiamo una nuova colonna \n",
    "state.loc[state[\"Population High\"],\"Population Level\"]=\"High\"\n",
    "state.loc[~state[\"Population High\"],\"Population Level\"]=\"Low\""
   ]
  },
  {
   "cell_type": "code",
   "execution_count": null,
   "metadata": {},
   "outputs": [],
   "source": [
    "# Plot categorico\n",
    "sns.boxplot(data=state, x=\"Population Level\", y=\"Murder.Rate\" )"
   ]
  },
  {
   "cell_type": "code",
   "execution_count": null,
   "metadata": {},
   "outputs": [],
   "source": [
    "# Plot categorico (swarmplot)\n",
    "sns.swarmplot(data=state, x=\"Population Level\", y=\"Murder.Rate\" )"
   ]
  },
  {
   "cell_type": "code",
   "execution_count": null,
   "metadata": {},
   "outputs": [],
   "source": [
    "#Coloriamo a seconda del valore di una variabile\n",
    "sns.scatterplot(data=state, x=\"Population\", y=\"Murder.Rate\", hue=\"Population Level\")"
   ]
  },
  {
   "cell_type": "markdown",
   "metadata": {},
   "source": [
    "### Esempio: traffico aereo\n",
    "\n",
    "In questo esempio utilizziamo un file che riporta i ritardi del traffico aereo di una serie di compagnie aeree."
   ]
  },
  {
   "cell_type": "code",
   "execution_count": null,
   "metadata": {},
   "outputs": [],
   "source": [
    "# levggiamo i dati \n",
    "airlines = pd.read_csv(\"../data/airline_stats.csv\")"
   ]
  },
  {
   "cell_type": "code",
   "execution_count": null,
   "metadata": {},
   "outputs": [],
   "source": [
    "# troviamo la lista di compagnie aeree nel dataframe\n",
    "airlines[\"airline\"].unique()"
   ]
  },
  {
   "cell_type": "code",
   "execution_count": null,
   "metadata": {},
   "outputs": [],
   "source": [
    "#guardiamo il file\n",
    "airlines"
   ]
  },
  {
   "cell_type": "markdown",
   "metadata": {},
   "source": [
    "**Statistica**\n",
    "\n",
    "Calcoliamo la media e deviazione standard dei ritardi per compagnia. Abbiamo tre tipologie di ritardo: carrier_delay (dovuto alla compagnia) atc_delay (dov uto all'aeroporto) weather_delay (dovuto al meteo).\n",
    "\n",
    "Per questo raggrupiamo usando groupby()\n",
    "https://pandas.pydata.org/pandas-docs/stable/reference/api/pandas.DataFrame.groupby.html\n",
    "\n"
   ]
  },
  {
   "cell_type": "code",
   "execution_count": null,
   "metadata": {},
   "outputs": [],
   "source": [
    "medie=airlines.groupby(\"airline\").mean()\n",
    "dev_standard=airlines.groupby(\"airline\").std()"
   ]
  },
  {
   "cell_type": "code",
   "execution_count": null,
   "metadata": {},
   "outputs": [],
   "source": [
    "medie"
   ]
  },
  {
   "cell_type": "code",
   "execution_count": null,
   "metadata": {},
   "outputs": [],
   "source": [
    "dev_standard"
   ]
  },
  {
   "cell_type": "markdown",
   "metadata": {},
   "source": [
    "Quale è la causa principale di ritardo?"
   ]
  },
  {
   "cell_type": "code",
   "execution_count": null,
   "metadata": {},
   "outputs": [],
   "source": [
    "airlines.mean()"
   ]
  },
  {
   "cell_type": "markdown",
   "metadata": {},
   "source": [
    "**Plot categorici**"
   ]
  },
  {
   "cell_type": "code",
   "execution_count": null,
   "metadata": {},
   "outputs": [],
   "source": [
    "# Plot categorico\n",
    "ax=sns.boxplot(data=airlines, x=\"airline\", y=\"pct_atc_delay\" )"
   ]
  },
  {
   "cell_type": "markdown",
   "metadata": {},
   "source": [
    "Come rendere leggibili le label sull'asse x?"
   ]
  },
  {
   "cell_type": "code",
   "execution_count": null,
   "metadata": {},
   "outputs": [],
   "source": [
    "# Plot categorico con asse x leggibile\n",
    "ax=sns.boxplot(data=airlines, x=\"airline\", y=\"pct_atc_delay\" )\n",
    "ax.set_xticklabels(ax.get_xticklabels(), rotation=45)"
   ]
  },
  {
   "cell_type": "code",
   "execution_count": null,
   "metadata": {},
   "outputs": [],
   "source": [
    "# Violinplot\n",
    "ax=sns.violinplot(data=airlines, x=\"airline\", y=\"pct_carrier_delay\" )\n",
    "ax.set_xticklabels(ax.get_xticklabels(), rotation=45)"
   ]
  },
  {
   "cell_type": "markdown",
   "metadata": {},
   "source": [
    "Se vogliam confrontare sullo stesso grafico tutti i ritardi per tutte le compagnie, possiamo riarrangiare il nostro dataframe con pd.melt\n",
    "https://pandas.pydata.org/pandas-docs/stable/reference/api/pandas.melt.html"
   ]
  },
  {
   "cell_type": "code",
   "execution_count": null,
   "metadata": {},
   "outputs": [],
   "source": [
    "airlines_melt=pd.melt(airlines,id_vars=[\"airline\"],value_vars=[\"pct_carrier_delay\",\"pct_atc_delay\",\"pct_weather_delay\"])"
   ]
  },
  {
   "cell_type": "code",
   "execution_count": null,
   "metadata": {},
   "outputs": [],
   "source": [
    "airlines_melt"
   ]
  },
  {
   "cell_type": "code",
   "execution_count": null,
   "metadata": {},
   "outputs": [],
   "source": [
    "# Plot categorico: boxplot\n",
    "ax=sns.boxplot(data=airlines_melt, x=\"airline\", y=\"value\", hue=\"variable\", palette=\"Blues\")\n",
    "ax.set_xticklabels(ax.get_xticklabels(), rotation=45)"
   ]
  },
  {
   "cell_type": "code",
   "execution_count": null,
   "metadata": {},
   "outputs": [],
   "source": [
    "# Plot categorico: barplot (senza autliers)\n",
    "ax=sns.boxplot(data=airlines_melt, \n",
    "               x=\"airline\", y=\"value\", \n",
    "               hue=\"variable\", palette=\"Blues\",\n",
    "              fliersize=0)\n",
    "ax.set_xticklabels(ax.get_xticklabels(), rotation=45)"
   ]
  },
  {
   "cell_type": "code",
   "execution_count": null,
   "metadata": {},
   "outputs": [],
   "source": [
    "# Plot categorico: barplot\n",
    "ax=sns.barplot(data=airlines_melt, x=\"airline\", y=\"value\", hue=\"variable\", palette=\"Blues\")\n",
    "ax.set_xticklabels(ax.get_xticklabels(), rotation=45)"
   ]
  },
  {
   "cell_type": "markdown",
   "metadata": {},
   "source": [
    "### Esercizio"
   ]
  },
  {
   "cell_type": "markdown",
   "metadata": {},
   "source": [
    "**Introduzione**\n",
    "In questo esercizio utilizzeremo un nuovo file di dati per mettere in pratica quanto discusso negli esempi. Per prima cosa carichiamo \n",
    "il file ../data/kc_tax.csv.gz"
   ]
  },
  {
   "cell_type": "code",
   "execution_count": null,
   "metadata": {},
   "outputs": [],
   "source": [
    "kc_tax = pd.read_csv(\"../data/kc_tax.csv.gz\")"
   ]
  },
  {
   "cell_type": "code",
   "execution_count": null,
   "metadata": {},
   "outputs": [],
   "source": [
    "# apriamo il file\n",
    "kc_tax"
   ]
  },
  {
   "cell_type": "code",
   "execution_count": null,
   "metadata": {},
   "outputs": [],
   "source": [
    "#eliminiamo i NaN\n",
    "kc_tax=kc_tax.dropna()"
   ]
  },
  {
   "cell_type": "code",
   "execution_count": null,
   "metadata": {},
   "outputs": [],
   "source": []
  },
  {
   "cell_type": "code",
   "execution_count": null,
   "metadata": {},
   "outputs": [],
   "source": []
  },
  {
   "cell_type": "code",
   "execution_count": null,
   "metadata": {},
   "outputs": [],
   "source": [
    "#cambiamo il nome delle colonne\n",
    "kc_tax.columns=[\"Valore catastale\",\"Metri quadrati\",\"CAP\"]\n",
    "# prendiamo un sottoinsieme del database\n",
    "kc_tax0 = kc_tax.loc[(kc_tax.CAP < 98020)]"
   ]
  },
  {
   "cell_type": "markdown",
   "metadata": {},
   "source": [
    "**Svolgimento:** \n",
    "A questo punto possiamo esplorare alcune proprietà di questo database, ad esempio:\n",
    "\n",
    "- Studiare quale sia la correlazione tra valore catastale e metri quadrati\n",
    "\n",
    "- Studiare come varia il valore catastale a seconda del CAP\n",
    "\n",
    "- Studiare come varia la metratura media a seconda del CAP"
   ]
  },
  {
   "cell_type": "markdown",
   "metadata": {},
   "source": [
    "**Suggerimenti:**\n",
    "\n",
    "Per visualizzare la correlazione possiamo ad esempio  \n",
    "fare uno scatterplot dei dati grezzi \"Metri quadri\" vs \"Catastale\".\n",
    "\n",
    "Visto che i dati sono molti possiamo anche raggrupparli secondo il CAP (usando groupby(\"CAP\").mean() ) e poi plottare le medie\n",
    "\n",
    "Proviamo ad usare sns.barplot() o sns.boxplot() \n",
    "\n",
    "Lavoriamo prima con il dataframe \"piccolo\" kc_tax0 e poi proviamo con il dataframe complete kc_tax\n"
   ]
  },
  {
   "cell_type": "markdown",
   "metadata": {},
   "source": [
    "### La matrice di covarianza\n",
    "\n",
    "In questo esempio costruiamo la matrice di covarianza a partire da un set di dati finanziari (il prezzo delle azioni SP500)."
   ]
  },
  {
   "cell_type": "code",
   "execution_count": null,
   "metadata": {},
   "outputs": [],
   "source": [
    "# importiamo i dati\n",
    "sp500_sym = pd.read_csv(\"../data/sp500_sectors.csv\") # simboli\n",
    "sp500_px = pd.read_csv(\"../data/sp500_data.csv.gz\", index_col=0) # dati di borsa"
   ]
  },
  {
   "cell_type": "code",
   "execution_count": null,
   "metadata": {},
   "outputs": [],
   "source": [
    "# Table 1-7\n",
    "# Consideriamo il settore telecomunicazioni\n",
    "telecomSymbols = sp500_sym[sp500_sym['sector'] == 'telecommunications_services']['symbol']\n",
    "\n",
    "# Filtriamo i dati considerando il periodo 07/2012-06/2015\n",
    "telecom = sp500_px.loc[sp500_px.index >= '2012-07-01', telecomSymbols]\n",
    "telecom.corr()\n",
    "print(telecom)"
   ]
  },
  {
   "cell_type": "code",
   "execution_count": null,
   "metadata": {},
   "outputs": [],
   "source": [
    "# Focalizziamoci su di un sottoinsieme dei dati \n",
    "etfs = sp500_px.loc[sp500_px.index > '2012-07-01', \n",
    "                    sp500_sym[sp500_sym['sector'] == 'etf']['symbol']]\n",
    "print(etfs.head())"
   ]
  },
  {
   "cell_type": "code",
   "execution_count": null,
   "metadata": {},
   "outputs": [],
   "source": [
    "# calcoliamo la matrice di covarianza\n",
    "etfs.corr()"
   ]
  },
  {
   "cell_type": "code",
   "execution_count": null,
   "metadata": {},
   "outputs": [],
   "source": [
    "# Mostriamo la matrice di covarianza come heatmap\n",
    "fig, ax = plt.subplots(figsize=(5, 4))\n",
    "ax = sns.heatmap(etfs.corr(), vmin=-1, vmax=1, \n",
    "                 cmap=\"coolwarm\", #colormap divergente\n",
    "                 ax=ax)\n",
    "\n",
    "plt.tight_layout()\n",
    "plt.show()"
   ]
  },
  {
   "cell_type": "code",
   "execution_count": null,
   "metadata": {},
   "outputs": [],
   "source": []
  },
  {
   "cell_type": "code",
   "execution_count": null,
   "metadata": {},
   "outputs": [],
   "source": []
  }
 ],
 "metadata": {
  "kernelspec": {
   "display_name": "Python 3",
   "language": "python",
   "name": "python3"
  },
  "language_info": {
   "codemirror_mode": {
    "name": "ipython",
    "version": 3
   },
   "file_extension": ".py",
   "mimetype": "text/x-python",
   "name": "python",
   "nbconvert_exporter": "python",
   "pygments_lexer": "ipython3",
   "version": "3.7.4"
  }
 },
 "nbformat": 4,
 "nbformat_minor": 4
}
