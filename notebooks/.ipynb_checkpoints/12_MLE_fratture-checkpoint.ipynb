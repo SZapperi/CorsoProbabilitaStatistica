{
 "cells": [
  {
   "cell_type": "markdown",
   "metadata": {},
   "source": [
    "# Corso di Probabilità e Statistica - il metodo di massima verosimiglianza - parte 1\n",
    "\n",
    "In questo capitolo analizzeremo i dati tramite il metodo \n",
    "di massima verosimiglianza.\n",
    "\n",
    "Consideriamo una distribuzione teorica $p(x|\\lambda)$ dipendendente da uno o più parameteri $\\lambda$ e un\n",
    "set di dati sperimentali $(x_1, ... x_N)$. Il metodo\n",
    "consente di stimare il miglior parametro $\\lambda$ che\n",
    "descrive i dati, massimizzando la funzione\n",
    "\n",
    "$$ L = \\sum_i \\log p(x_i|\\lambda) $$"
   ]
  },
  {
   "cell_type": "markdown",
   "metadata": {},
   "source": [
    "**Esempio: la distribuzione dei carichi di rottura in un materiale** "
   ]
  },
  {
   "cell_type": "markdown",
   "metadata": {},
   "source": [
    "Consideriamo dei campioni di ceramica sottoposti a carico e fratturati. Per ogni campione è stato misurato lo stress di rottura. I dati riportano anche altri parametri sperimentali.\n",
    "\n",
    "Per maggiori dettagli vedi\n",
    "https://www.itl.nist.gov/div898/handbook/eda/section4/eda42a.htm"
   ]
  },
  {
   "cell_type": "code",
   "execution_count": null,
   "metadata": {},
   "outputs": [],
   "source": [
    "%matplotlib inline\n",
    "import pandas as pd\n",
    "import numpy as np\n",
    "import scipy.stats \n",
    "import seaborn as sns\n",
    "import matplotlib.pylab as plt"
   ]
  },
  {
   "cell_type": "code",
   "execution_count": null,
   "metadata": {},
   "outputs": [],
   "source": [
    "#carichiamo il file\n",
    "strength = pd.read_csv(\"../data/Strength_ceramic.dat\",\n",
    "                       sep=\"\\s+\",skiprows=48)\n",
    "strength=strength.drop([0])"
   ]
  },
  {
   "cell_type": "code",
   "execution_count": null,
   "metadata": {},
   "outputs": [],
   "source": [
    "strength"
   ]
  },
  {
   "cell_type": "markdown",
   "metadata": {},
   "source": [
    "Il carico di rottura (strength) è dato dalla variabile Y\n",
    "come possiamo vedere dalle istruzione in cima al file"
   ]
  },
  {
   "cell_type": "code",
   "execution_count": null,
   "metadata": {},
   "outputs": [],
   "source": [
    "with open(\"../data/Strength_ceramic.dat\") as myfile:\n",
    "    head = [next(myfile) for x in range(24)]"
   ]
  },
  {
   "cell_type": "code",
   "execution_count": null,
   "metadata": {},
   "outputs": [],
   "source": [
    "head"
   ]
  },
  {
   "cell_type": "markdown",
   "metadata": {},
   "source": [
    "Notiamo che abbiamo una serie di fattori accessori che riguardano alcuni parametri sperimentali,  dove è stato svolto l'esperimento (Lab) e il batch dei campioni etc"
   ]
  },
  {
   "cell_type": "markdown",
   "metadata": {},
   "source": [
    "Possiamo fittare i dati (in particolare la colonna Y) con MLE utilizzando la funzione scipy.stats.DIST.fit()\n",
    "dove DIST è la distribuzione desiderata. \n",
    "https://docs.scipy.org/doc/scipy/reference/generated/scipy.stats.rv_continuous.fit.html\n",
    "Per le distribuzioni standard possiamo utalizzare questa funzione direttamente.\n",
    "\n",
    "In questo vogliamo usare la distribuzione di Weibull:\n",
    "\n",
    "$p(x|c,x_0)=k (x/x_0)^{k-1} \\exp (-(x/x_0)^k)$\n",
    "\n",
    "utilizziamo la funzione weibull_min mettendo loc=0\n",
    "https://docs.scipy.org/doc/scipy/reference/generated/scipy.stats.weibull_min.html"
   ]
  },
  {
   "cell_type": "code",
   "execution_count": null,
   "metadata": {},
   "outputs": [],
   "source": [
    "k, loc, x_0=scipy.stats.weibull_min.fit(strength.Y, floc=0)"
   ]
  },
  {
   "cell_type": "markdown",
   "metadata": {},
   "source": [
    "Controlliamo ora graficamente il fit"
   ]
  },
  {
   "cell_type": "code",
   "execution_count": null,
   "metadata": {},
   "outputs": [],
   "source": [
    "# usiamo caratteri leggibili!\n",
    "plt.rcParams.update({'font.size': 18})\n",
    "xmin=np.min(strength.Y)\n",
    "xmax=np.max(strength.Y)\n",
    "x = np.linspace(xmin,xmax,101)\n",
    "# Istogramma di tutti i dati\n",
    "strength.Y.hist(bins=50, density=True, label='Data')\n",
    "# fit\n",
    "W=scipy.stats.weibull_min(k,loc=0, scale=x_0) \n",
    "plt.plot(x, W.pdf(x), label=\"Fit\")\n",
    "plt.xlabel('Y')\n",
    "plt.ylabel('p(Y)')\n",
    "plt.legend()"
   ]
  },
  {
   "cell_type": "markdown",
   "metadata": {},
   "source": [
    "Il fit non è eccezionale. La cosa che ci può fare insospettire è la presenza di un doppio picco. Questo potrebbe essere dovuto al fatto che abbiamo mischiato insieme tutti i dati indipendentemente dai fattori sperimentali"
   ]
  },
  {
   "cell_type": "markdown",
   "metadata": {},
   "source": [
    "**Esercizio** \n",
    "\n",
    "Esplorare l'effetto dei vari fattori per cercare di capire quale siano i fattori che influenzano di più la distribuzione. Possiamo proecedere come seque:\n"
   ]
  },
  {
   "cell_type": "code",
   "execution_count": null,
   "metadata": {},
   "outputs": [],
   "source": [
    "sns.boxplot(data=strength, x=\"X1\", y=\"Y\")"
   ]
  },
  {
   "cell_type": "markdown",
   "metadata": {},
   "source": [
    "Da questo grafico si vede che il fattore X1 non è molto rilevante. Esplorate gli altri fattori allo stesso modo e poi vedete se il fit migliora separando i dati a seconda dei fattori."
   ]
  },
  {
   "cell_type": "code",
   "execution_count": null,
   "metadata": {},
   "outputs": [],
   "source": []
  },
  {
   "cell_type": "code",
   "execution_count": null,
   "metadata": {},
   "outputs": [],
   "source": []
  },
  {
   "cell_type": "markdown",
   "metadata": {},
   "source": [
    "**Esempio:** Separiamo i dati a seconda del fattore batch e poi fittiamo separatamente."
   ]
  },
  {
   "cell_type": "code",
   "execution_count": null,
   "metadata": {},
   "outputs": [],
   "source": [
    "Bat1=strength[strength.Bat==1]\n",
    "Bat2=strength[strength.Bat==2]"
   ]
  },
  {
   "cell_type": "markdown",
   "metadata": {},
   "source": [
    "Fittiamo i dati separatamente:"
   ]
  },
  {
   "cell_type": "code",
   "execution_count": null,
   "metadata": {},
   "outputs": [],
   "source": [
    "k1, loc, x_1=scipy.stats.weibull_min.fit(Bat1.Y, floc=0)\n",
    "k2, loc, x_2=scipy.stats.weibull_min.fit(Bat2.Y, floc=0)"
   ]
  },
  {
   "cell_type": "markdown",
   "metadata": {},
   "source": [
    "Plottiamo i dati separatamente"
   ]
  },
  {
   "cell_type": "code",
   "execution_count": null,
   "metadata": {},
   "outputs": [],
   "source": [
    "# usiamo caratteri leggibili!\n",
    "plt.rcParams.update({'font.size': 18})\n",
    "xmin=np.min(strength.Y)\n",
    "xmax=np.max(strength.Y)\n",
    "x = np.linspace(xmin,xmax,101)\n",
    "# Istogramma di tutti i dati\n",
    "Bat1.Y.hist(bins=50, density=True, label='Batch 1')\n",
    "Bat2.Y.hist(bins=50, density=True, label='Batch 2')\n",
    "# fit\n",
    "W1=scipy.stats.weibull_min(k1,loc=0, scale=x_1) \n",
    "W2=scipy.stats.weibull_min(k2,loc=0, scale=x_2)\n",
    "plt.plot(x, W1.pdf(x), label=\"Fit 1\", color=\"black\")\n",
    "plt.plot(x, W2.pdf(x), label=\"Fit 2\", color=\"red\")\n",
    "plt.xlabel('Y')\n",
    "plt.ylabel('p(Y)')\n",
    "plt.legend()"
   ]
  },
  {
   "cell_type": "markdown",
   "metadata": {},
   "source": [
    "Distribuzioni cumulate"
   ]
  },
  {
   "cell_type": "code",
   "execution_count": null,
   "metadata": {},
   "outputs": [],
   "source": [
    "xmin=np.min(strength.Y)\n",
    "xmax=np.max(strength.Y)\n",
    "x = np.linspace(xmin,xmax,101)\n",
    "y1=np.sort(Bat1.Y)\n",
    "idx1 = [ i/len(y1) for i in range(len(y))]\n",
    "y2=np.sort(Bat2.Y)\n",
    "idx2 = [ i/len(y2) for i in range(len(y))]\n",
    "plt.xlabel('Y')\n",
    "plt.ylabel('Cumulative Frequency')\n",
    "plt.plot(y1,idx1,label=\"Batch1\")\n",
    "plt.plot(y2,idx2,label=\"Batch2\")\n",
    "plt.plot(x, W1.cdf(x), label=\"Fit 1\", color=\"black\")\n",
    "plt.plot(x, W2.cdf(x), label=\"Fit 2\", color=\"red\")\n",
    "plt.legend()"
   ]
  },
  {
   "cell_type": "code",
   "execution_count": null,
   "metadata": {},
   "outputs": [],
   "source": []
  }
 ],
 "metadata": {
  "kernelspec": {
   "display_name": "Python 3",
   "language": "python",
   "name": "python3"
  },
  "language_info": {
   "codemirror_mode": {
    "name": "ipython",
    "version": 3
   },
   "file_extension": ".py",
   "mimetype": "text/x-python",
   "name": "python",
   "nbconvert_exporter": "python",
   "pygments_lexer": "ipython3",
   "version": "3.7.4"
  }
 },
 "nbformat": 4,
 "nbformat_minor": 4
}
