{
 "cells": [
  {
   "cell_type": "markdown",
   "metadata": {},
   "source": [
    "# Corso di Probabilità e Statistica - Visualizzazione delle distribuzioni\n",
    "\n",
    "In questo capitolo introduciamo alcuni metodi per visualizzare la distribuzione di un set di dati \n"
   ]
  },
  {
   "cell_type": "code",
   "execution_count": null,
   "metadata": {},
   "outputs": [],
   "source": [
    "import numpy as np\n",
    "import matplotlib.pyplot as plt\n",
    "import scipy.stats as stats # Statistica\n",
    "import seaborn as sns # Grafica avanzata"
   ]
  },
  {
   "cell_type": "code",
   "execution_count": null,
   "metadata": {},
   "outputs": [],
   "source": [
    "# Generare N numeri random Gaussiani\n",
    "N=1000\n",
    "x = np.random.randn(N)"
   ]
  },
  {
   "cell_type": "code",
   "execution_count": null,
   "metadata": {},
   "outputs": [],
   "source": [
    "# usiamo caratteri leggibili!\n",
    "plt.rcParams.update({'font.size': 18})"
   ]
  },
  {
   "cell_type": "markdown",
   "metadata": {},
   "source": [
    "**Scatter plot**"
   ]
  },
  {
   "cell_type": "code",
   "execution_count": null,
   "metadata": {},
   "outputs": [],
   "source": [
    "plt.plot(x,'.')\n",
    "plt.title('Scatter Plot')\n",
    "plt.xlabel('Index')\n",
    "plt.ylabel('X')\n",
    "plt.draw()"
   ]
  },
  {
   "cell_type": "markdown",
   "metadata": {},
   "source": [
    "**Istogramma**"
   ]
  },
  {
   "cell_type": "code",
   "execution_count": null,
   "metadata": {},
   "outputs": [],
   "source": [
    "plt.hist(x)\n",
    "plt.xlabel('X')\n",
    "plt.ylabel('Frequency')\n",
    "plt.title('Histogram, default settings')"
   ]
  },
  {
   "cell_type": "code",
   "execution_count": null,
   "metadata": {},
   "outputs": [],
   "source": [
    "# cambiare il numero di bins\n",
    "plt.hist(x,bins=50)\n",
    "plt.xlabel('X')\n",
    "plt.ylabel('Frequency')\n",
    "plt.title('Histogram, 50 bins')"
   ]
  },
  {
   "cell_type": "markdown",
   "metadata": {},
   "source": [
    "**Esercizio**\n",
    "\n",
    "Alcuni varianti da provare (una alla volta o combinate). \n",
    "Per maggiori istruzioni vedi:\n",
    "https://matplotlib.org/3.3.1/api/_as_gen/matplotlib.pyplot.hist.html\n",
    "\n",
    "range: tuple or None, default: None\n",
    "\n",
    "density: bool, default: False\n",
    "\n",
    "cumulative: bool or -1, default: False\n",
    "\n",
    "histtype: {'bar', 'barstacked', 'step', 'stepfilled'}, default: 'bar'\n",
    "\n",
    "log: bool, default: False\n",
    "\n",
    "color: color or array-like of colors or None, default: None\n",
    "\n",
    "*esempio plt.hist(x,bins=50, log=True, color=\"red\") etc*"
   ]
  },
  {
   "cell_type": "markdown",
   "metadata": {},
   "source": [
    "**KDE (kernel density estimation)**\n",
    "\n",
    "vedi: https://seaborn.pydata.org/generated/seaborn.kdeplot.html"
   ]
  },
  {
   "cell_type": "code",
   "execution_count": null,
   "metadata": {},
   "outputs": [],
   "source": [
    "sns.kdeplot(x)\n",
    "plt.xlabel('X')\n",
    "plt.ylabel('Density')"
   ]
  },
  {
   "cell_type": "markdown",
   "metadata": {},
   "source": [
    "**Istogramma + KDE : distplot**\n",
    "\n",
    "Vedi: https://seaborn.pydata.org/generated/seaborn.distplot.html"
   ]
  },
  {
   "cell_type": "code",
   "execution_count": null,
   "metadata": {},
   "outputs": [],
   "source": [
    "sns.distplot(x)\n",
    "plt.xlabel('X')\n",
    "plt.ylabel('Density')"
   ]
  },
  {
   "cell_type": "markdown",
   "metadata": {},
   "source": [
    "**Distribuzione cumulata** (con bins)\n",
    "\n",
    "con scipy.stats"
   ]
  },
  {
   "cell_type": "code",
   "execution_count": null,
   "metadata": {},
   "outputs": [],
   "source": [
    "numbins = 100\n",
    "cdf = stats.cumfreq(x,numbins)\n",
    "plt.plot(cdf[0])\n",
    "plt.xlabel('X')\n",
    "plt.ylabel('Cumulative Frequency')\n",
    "plt.title('Cumulative probablity density function')"
   ]
  },
  {
   "cell_type": "markdown",
   "metadata": {},
   "source": [
    "Alternativa: matplotlib"
   ]
  },
  {
   "cell_type": "code",
   "execution_count": null,
   "metadata": {},
   "outputs": [],
   "source": [
    "plt.hist(x,bins=50,cumulative=True,density=True)\n",
    "plt.xlabel('X')\n",
    "plt.ylabel('Cumulative Frequency')\n",
    "plt.show()"
   ]
  },
  {
   "cell_type": "markdown",
   "metadata": {},
   "source": [
    "Alternativa: seaborn"
   ]
  },
  {
   "cell_type": "code",
   "execution_count": null,
   "metadata": {},
   "outputs": [],
   "source": [
    "sns.kdeplot(x , cumulative=True)\n",
    "plt.xlabel('X')\n",
    "plt.ylabel('Cumulative Frequency')"
   ]
  },
  {
   "cell_type": "markdown",
   "metadata": {},
   "source": [
    "**Distribuzione cumulata** (senza bins)\n",
    "\n",
    "Possiamo ottenere la distribuzione cumulata in modo indipendente dai bin semplicemente ordinando i numeri random e plottandoli in funzione del rank /N"
   ]
  },
  {
   "cell_type": "code",
   "execution_count": null,
   "metadata": {},
   "outputs": [],
   "source": [
    "y=np.sort(x)\n",
    "idx = [ i/len(y) for i in range(len(y))]\n",
    "plt.xlabel('X')\n",
    "plt.ylabel('Cumulative Frequency')\n",
    "plt.plot(y,idx)"
   ]
  },
  {
   "cell_type": "markdown",
   "metadata": {},
   "source": [
    "Per precisione usiamo degli steps (più corretto per pochi dati)"
   ]
  },
  {
   "cell_type": "code",
   "execution_count": null,
   "metadata": {},
   "outputs": [],
   "source": [
    "z=np.random.randn(20)\n",
    "y=np.sort(z)\n",
    "idx = [ i/len(y) for i in range(len(y))]\n",
    "plt.xlabel('Z')\n",
    "plt.ylabel('Cumulative Frequency')\n",
    "plt.step(y,idx, label=\"Steps\")\n",
    "plt.plot(y,idx, color=\"red\" , label=\"Line\")"
   ]
  },
  {
   "cell_type": "code",
   "execution_count": null,
   "metadata": {},
   "outputs": [],
   "source": []
  }
 ],
 "metadata": {
  "kernelspec": {
   "display_name": "Python 3",
   "language": "python",
   "name": "python3"
  },
  "language_info": {
   "codemirror_mode": {
    "name": "ipython",
    "version": 3
   },
   "file_extension": ".py",
   "mimetype": "text/x-python",
   "name": "python",
   "nbconvert_exporter": "python",
   "pygments_lexer": "ipython3",
   "version": "3.7.4"
  }
 },
 "nbformat": 4,
 "nbformat_minor": 4
}
