{
 "cells": [
  {
   "cell_type": "markdown",
   "metadata": {},
   "source": [
    "# Corso di Probabilità e Statistica - Distribuzioni continue \n",
    "\n",
    "In questo capitolo introduciamo alcune distribuzioni continue\n"
   ]
  },
  {
   "cell_type": "code",
   "execution_count": null,
   "metadata": {},
   "outputs": [],
   "source": [
    "import numpy as np\n",
    "import matplotlib.pyplot as plt\n",
    "import scipy.stats as stats"
   ]
  },
  {
   "cell_type": "code",
   "execution_count": null,
   "metadata": {},
   "outputs": [],
   "source": [
    "# usiamo caratteri leggibili!\n",
    "plt.rcParams.update({'font.size': 18})"
   ]
  },
  {
   "cell_type": "markdown",
   "metadata": {},
   "source": [
    "**Una funzione utile per plottare una distribuzione**"
   ]
  },
  {
   "cell_type": "code",
   "execution_count": null,
   "metadata": {},
   "outputs": [],
   "source": [
    "xmin=-10\n",
    "xmax=10\n",
    "x = np.linspace(xmin,xmax,201)\n",
    "color=\"black\"\n",
    "# usiamo caratteri leggibili!\n",
    "plt.rcParams.update({'font.size': 18})\n",
    "\n",
    "def showDistribution(d1, tTxt, xTxt, yTxt, xmin, xmax, color):\n",
    "    '''Utility function to show the distributions, and add labels and title.'''\n",
    "    plt.plot(x, d1.pdf(x), color=color)\n",
    "    plt.xlim(xmin, xmax)\n",
    "    plt.title(tTxt)\n",
    "    plt.xlabel(xTxt)\n",
    "    plt.ylabel(yTxt)\n",
    "    plt.show()  "
   ]
  },
  {
   "cell_type": "markdown",
   "metadata": {},
   "source": [
    "**Distribuzione Gaussiana**\n",
    "\n",
    "Vedi: https://docs.scipy.org/doc/scipy/reference/generated/scipy.stats.norm.html?highlight=norm#scipy.stats.norm"
   ]
  },
  {
   "cell_type": "code",
   "execution_count": null,
   "metadata": {},
   "outputs": [],
   "source": [
    "mu=1\n",
    "sigma=2\n",
    "g=stats.norm(loc=mu, scale=sigma) \n",
    "showDistribution(g,'Distribuzione Gaussiana', 'X', 'P(X)',xmin,xmax, color)"
   ]
  },
  {
   "cell_type": "markdown",
   "metadata": {},
   "source": [
    "**Distribuzione del** $\\chi^2$\n",
    "vedi: https://docs.scipy.org/doc/scipy/reference/generated/scipy.stats.chi2.html#scipy.stats.chi2"
   ]
  },
  {
   "cell_type": "code",
   "execution_count": null,
   "metadata": {},
   "outputs": [],
   "source": [
    "k=3\n",
    "chi=stats.chi2(k)\n",
    "showDistribution(chi,'Distribuzione del 'r\"$\\chi^2$\", 'X', 'P(X)', 0 ,xmax, color)\n"
   ]
  },
  {
   "cell_type": "markdown",
   "metadata": {},
   "source": [
    "**Distribuzione Gamma**\n",
    "\n",
    "https://docs.scipy.org/doc/scipy/reference/generated/scipy.stats.gamma.html?highlight=gamma#scipy.stats.gamma"
   ]
  },
  {
   "cell_type": "code",
   "execution_count": null,
   "metadata": {},
   "outputs": [],
   "source": [
    "a=2\n",
    "g=stats.gamma(a) \n",
    "showDistribution(g,'Distribuzione Gamma', 'X', 'P(X)', 0. ,xmax, color)"
   ]
  },
  {
   "cell_type": "code",
   "execution_count": null,
   "metadata": {},
   "outputs": [],
   "source": [
    "a=0.5\n",
    "g=stats.gamma(a) \n",
    "showDistribution(g,'Distribuzione Gamma', 'X', 'P(X)', 0. ,xmax, color)"
   ]
  },
  {
   "cell_type": "code",
   "execution_count": null,
   "metadata": {},
   "outputs": [],
   "source": [
    "# generare numeri random gamma-distribuiti\n",
    "a=2\n",
    "r = stats.gamma.rvs(a, size=1000)"
   ]
  },
  {
   "cell_type": "code",
   "execution_count": null,
   "metadata": {},
   "outputs": [],
   "source": [
    "# Confrontiamo l'istogramma con la teoria\n",
    "plt.hist(r,bins=20, density=True)\n",
    "x=np.linspace(0,10,101)\n",
    "plt.plot(x, stats.gamma(a).pdf(x), color=color)\n",
    "plt.xlim(0, 10)\n",
    "plt.xlabel(\"X\")\n",
    "plt.ylabel(\"P(X)\")\n",
    "plt.show()  "
   ]
  },
  {
   "cell_type": "code",
   "execution_count": null,
   "metadata": {},
   "outputs": [],
   "source": []
  }
 ],
 "metadata": {
  "kernelspec": {
   "display_name": "Python 3",
   "language": "python",
   "name": "python3"
  },
  "language_info": {
   "codemirror_mode": {
    "name": "ipython",
    "version": 3
   },
   "file_extension": ".py",
   "mimetype": "text/x-python",
   "name": "python",
   "nbconvert_exporter": "python",
   "pygments_lexer": "ipython3",
   "version": "3.7.4"
  }
 },
 "nbformat": 4,
 "nbformat_minor": 4
}
