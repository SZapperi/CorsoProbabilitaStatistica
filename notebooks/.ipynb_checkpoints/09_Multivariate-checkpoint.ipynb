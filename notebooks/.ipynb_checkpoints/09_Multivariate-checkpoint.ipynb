{
 "cells": [
  {
   "cell_type": "markdown",
   "metadata": {},
   "source": [
    "# Corso di Probabilità e Statistica - Distribuzioni multivariate\n",
    "\n",
    "In questo capitolo discutiamo delle distribuzioni multivariate"
   ]
  },
  {
   "cell_type": "code",
   "execution_count": null,
   "metadata": {},
   "outputs": [],
   "source": [
    "import numpy as np\n",
    "import matplotlib.pyplot as plt\n",
    "import scipy.stats as stats # Statistica\n",
    "import seaborn as sns # Grafica avanzata "
   ]
  },
  {
   "cell_type": "markdown",
   "metadata": {},
   "source": [
    "Definiamo un set di coppie di numeri random Gaussiani:\n",
    "$$ p(x,y) = \\frac{1}{\\sqrt{1-\\rho^2}2\\pi s_x s_y} \\exp\\left(-\\frac{1}{2(1-\\rho^2} \\left(\\frac{x^2}{s_x^2}+\\frac{y^2}{s_y^2} -2\\rho \\frac{xy}{s_x s_y} \\right)\\right)$$\n",
    "\n",
    "per cui i momenti sono\n",
    "$$\\langle x \\rangle =\\langle y \\rangle=0$$ \n",
    "$$\\langle x^2 \\rangle =s_x^2$$ \n",
    "$$\\langle y^2 \\rangle =s_y^2$$ \n",
    "$$\\langle xy \\rangle =\\rho s_x s_y$$\n",
    "\n",
    "https://docs.scipy.org/doc//numpy-1.15.0/reference/generated/numpy.random.multivariate_normal.html"
   ]
  },
  {
   "cell_type": "code",
   "execution_count": null,
   "metadata": {},
   "outputs": [],
   "source": [
    "# definiamo medie e covarianza\n",
    "mu = [0, 0] #medie nulle\n",
    "rho=.5 #coefficiente di correlazione\n",
    "sx=1\n",
    "sy=2\n",
    "cov = [[sx**2, rho*sx*sy], [rho*sx*sy, sy**2]] #covarianza\n",
    "N=1000 #numero di punti"
   ]
  },
  {
   "cell_type": "code",
   "execution_count": null,
   "metadata": {},
   "outputs": [],
   "source": [
    "# generiamo N valori x,y \n",
    "x, y = np.random.multivariate_normal(mu, cov, N).T"
   ]
  },
  {
   "cell_type": "code",
   "execution_count": null,
   "metadata": {},
   "outputs": [],
   "source": [
    "# usiamo caratteri leggibili!\n",
    "plt.rcParams.update({'font.size': 18})"
   ]
  },
  {
   "cell_type": "markdown",
   "metadata": {},
   "source": [
    "**Scatter plot**"
   ]
  },
  {
   "cell_type": "code",
   "execution_count": null,
   "metadata": {},
   "outputs": [],
   "source": [
    "plt.scatter(x, y)\n",
    "plt.xlabel('X')\n",
    "plt.ylabel('Y')"
   ]
  },
  {
   "cell_type": "markdown",
   "metadata": {},
   "source": [
    "**Hexbin plot**\n",
    "\n",
    "https://matplotlib.org/3.1.1/api/_as_gen/matplotlib.pyplot.hexbin.html"
   ]
  },
  {
   "cell_type": "code",
   "execution_count": null,
   "metadata": {},
   "outputs": [],
   "source": [
    "plt.hexbin(x, y,gridsize=20, cmap='Greys')\n",
    "plt.xlabel('X')\n",
    "plt.ylabel('Y')"
   ]
  },
  {
   "cell_type": "markdown",
   "metadata": {},
   "source": [
    "**Contour plots**\n",
    "\n",
    "https://seaborn.pydata.org/generated/seaborn.kdeplot.html"
   ]
  },
  {
   "cell_type": "code",
   "execution_count": null,
   "metadata": {},
   "outputs": [],
   "source": [
    "# contorni linee\n",
    "ax=sns.kdeplot(x, y)\n",
    "ax.set_xlabel('X')\n",
    "ax.set_ylabel('Y')"
   ]
  },
  {
   "cell_type": "code",
   "execution_count": null,
   "metadata": {},
   "outputs": [],
   "source": [
    "# contorni colori\n",
    "ax=sns.kdeplot(x, y, shade=True)\n",
    "ax.set_xlabel('X')\n",
    "ax.set_ylabel('Y')"
   ]
  },
  {
   "cell_type": "code",
   "execution_count": null,
   "metadata": {},
   "outputs": [],
   "source": [
    "# linee e colori\n",
    "ax=sns.kdeplot(x, y, shade=\"True\", cmap=\"Reds\")\n",
    "sns.kdeplot(x,y, color=\"Black\", ax=ax)\n",
    "ax.set_xlabel('X')\n",
    "ax.set_ylabel('Y')"
   ]
  },
  {
   "cell_type": "code",
   "execution_count": null,
   "metadata": {},
   "outputs": [],
   "source": [
    "# punti e colori\n",
    "ax=sns.kdeplot(x, y, shade=\"True\", cmap=\"Reds\")\n",
    "sns.scatterplot(x,y, color=\"Black\", marker=\".\",ax=ax)\n",
    "ax.set_xlabel('X')\n",
    "ax.set_ylabel('Y')"
   ]
  },
  {
   "cell_type": "markdown",
   "metadata": {},
   "source": [
    "**nota**: scegliere i markers: https://matplotlib.org/3.3.1/api/markers_api.html"
   ]
  },
  {
   "cell_type": "markdown",
   "metadata": {},
   "source": [
    "**Joint plots**\n",
    "\n",
    "http://seaborn.pydata.org/generated/seaborn.jointplot.html"
   ]
  },
  {
   "cell_type": "code",
   "execution_count": null,
   "metadata": {},
   "outputs": [],
   "source": [
    "# scatter\n",
    "ax=sns.jointplot(x, y)\n",
    "ax.set_axis_labels(\"X\",\"Y\")\n"
   ]
  },
  {
   "cell_type": "code",
   "execution_count": null,
   "metadata": {},
   "outputs": [],
   "source": [
    "# con kde\n",
    "ax=sns.jointplot(x, y , kind=\"kde\", color=\"g\")\n",
    "ax.set_axis_labels(\"X\",\"Y\")"
   ]
  },
  {
   "cell_type": "code",
   "execution_count": null,
   "metadata": {},
   "outputs": [],
   "source": [
    "# con regressione\n",
    "ax=sns.jointplot(x, y , kind=\"reg\", color=\"r\")\n",
    "ax.set_axis_labels(\"X\",\"Y\")"
   ]
  },
  {
   "cell_type": "code",
   "execution_count": null,
   "metadata": {},
   "outputs": [],
   "source": [
    "# con hexbin\n",
    "ax=sns.jointplot(x, y , kind=\"hex\", color=\"r\")\n",
    "ax.set_axis_labels(\"X\",\"Y\")"
   ]
  },
  {
   "cell_type": "markdown",
   "metadata": {},
   "source": [
    "**Esercizio**\n",
    "\n",
    "- Generare delle variabili casuali $x,y$ correlate come nell'esercizio precedente. \n",
    "\n",
    "- Eseguire una trasformazione delle variabili in modo da renderle scorrelate $x' = x \\cos \\phi + y \\sin \\phi$ e $y'=-x \\sin \\phi + y\\cos \\phi$, dove $\\tan 2\\phi = 2\\rho s_x s_y /(s_x^2-s_y^2)$.\n",
    "\n",
    "- Verificare graficamente che nel piano $(x',y')$ la distribuzione e descritta da un ellissoide con gli assi paralleli agli assi cartesiani"
   ]
  },
  {
   "cell_type": "code",
   "execution_count": null,
   "metadata": {},
   "outputs": [],
   "source": []
  }
 ],
 "metadata": {
  "kernelspec": {
   "display_name": "Python 3",
   "language": "python",
   "name": "python3"
  },
  "language_info": {
   "codemirror_mode": {
    "name": "ipython",
    "version": 3
   },
   "file_extension": ".py",
   "mimetype": "text/x-python",
   "name": "python",
   "nbconvert_exporter": "python",
   "pygments_lexer": "ipython3",
   "version": "3.7.4"
  }
 },
 "nbformat": 4,
 "nbformat_minor": 4
}
