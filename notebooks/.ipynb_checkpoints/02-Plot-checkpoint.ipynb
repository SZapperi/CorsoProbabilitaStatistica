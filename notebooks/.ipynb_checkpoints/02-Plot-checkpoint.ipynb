{
 "cells": [
  {
   "cell_type": "markdown",
   "metadata": {},
   "source": [
    "# Corso di Probabilità e Statistica - Plot\n",
    "In questo capitolo introduciamo alcuni metodi per fare dei semplici grafici in python"
   ]
  },
  {
   "cell_type": "code",
   "execution_count": null,
   "metadata": {},
   "outputs": [],
   "source": [
    "# importare packages\n",
    "import numpy as np #operazioni numeriche\n",
    "import matplotlib.pyplot as plt #grafici\n"
   ]
  },
  {
   "cell_type": "markdown",
   "metadata": {},
   "source": [
    "### Plottare una funzione"
   ]
  },
  {
   "cell_type": "code",
   "execution_count": null,
   "metadata": {},
   "outputs": [],
   "source": [
    "# generare i dati (x = cos(t)  a<t<b, dt=0.1)\n",
    "a=0\n",
    "b=2*np.pi # np.pi = pi greco\n",
    "dt=0.1\n",
    "t = np.arange(a,b,dt)\n",
    "x = np.cos(t)"
   ]
  },
  {
   "cell_type": "code",
   "execution_count": null,
   "metadata": {},
   "outputs": [],
   "source": []
  },
  {
   "cell_type": "code",
   "execution_count": null,
   "metadata": {},
   "outputs": [],
   "source": [
    "# salvare i dati in un file di testo\n",
    "out_file = '../data/cosine.txt'\n",
    "np.savetxt(out_file, np.column_stack([t,x]) )"
   ]
  },
  {
   "cell_type": "code",
   "execution_count": null,
   "metadata": {},
   "outputs": [],
   "source": [
    "# leggere i dati in una nuova matrice\n",
    "inData = np.loadtxt(out_file)\n",
    "t2 = inData[:,0] # Nota Python comincia da \"0\"!\n",
    "x2 = inData[:,1]"
   ]
  },
  {
   "cell_type": "code",
   "execution_count": null,
   "metadata": {},
   "outputs": [],
   "source": []
  },
  {
   "cell_type": "code",
   "execution_count": null,
   "metadata": {},
   "outputs": [],
   "source": [
    "#fare un grafico dei dati\n",
    "plt.plot(t2, x2)"
   ]
  },
  {
   "cell_type": "code",
   "execution_count": null,
   "metadata": {},
   "outputs": [],
   "source": [
    "# alternativa\n",
    "plt.plot(inData[:,0],inData[:,1])\n"
   ]
  },
  {
   "cell_type": "code",
   "execution_count": null,
   "metadata": {},
   "outputs": [],
   "source": [
    "#Attenzione se plottiamo direttamente la matrice otteniamo questo:\n",
    "plt.plot(inData)\n"
   ]
  },
  {
   "cell_type": "code",
   "execution_count": null,
   "metadata": {},
   "outputs": [],
   "source": [
    "#fare il grafico direttamente\n",
    "plt.plot(t, np.cos(t))"
   ]
  },
  {
   "cell_type": "code",
   "execution_count": null,
   "metadata": {},
   "outputs": [],
   "source": [
    "#salvare il plot in un file\n",
    "plt.plot(t, np.cos(t))\n",
    "filename=\"figure.png\"\n",
    "plt.savefig(filename)\n",
    "plt.show()"
   ]
  },
  {
   "cell_type": "markdown",
   "metadata": {},
   "source": [
    "**Aggiungere variabili sugli assi**"
   ]
  },
  {
   "cell_type": "code",
   "execution_count": null,
   "metadata": {},
   "outputs": [],
   "source": [
    "plt.xlabel(\"Tempo\")\n",
    "plt.ylabel(\"Posizione\")\n",
    "plt.plot(t, np.cos(t))"
   ]
  },
  {
   "cell_type": "markdown",
   "metadata": {},
   "source": [
    "**Rendere il grafico leggibile**"
   ]
  },
  {
   "cell_type": "code",
   "execution_count": null,
   "metadata": {},
   "outputs": [],
   "source": [
    "plt.rcParams.update({'font.size': 18})\n",
    "plt.xlabel(\"Tempo\")\n",
    "plt.ylabel(\"Posizione\")\n",
    "plt.plot(t, np.cos(t))"
   ]
  },
  {
   "cell_type": "markdown",
   "metadata": {},
   "source": [
    "**Aggiungere il titolo**"
   ]
  },
  {
   "cell_type": "code",
   "execution_count": null,
   "metadata": {},
   "outputs": [],
   "source": [
    "plt.rcParams.update({'font.size': 18})\n",
    "plt.xlabel(\"Tempo\")\n",
    "plt.ylabel(\"Posizione\")\n",
    "plt.title(\"Oscillatore armonico\")\n",
    "plt.plot(t, np.cos(t))"
   ]
  },
  {
   "cell_type": "markdown",
   "metadata": {},
   "source": [
    "**Aggiungere una legenda**"
   ]
  },
  {
   "cell_type": "code",
   "execution_count": null,
   "metadata": {},
   "outputs": [],
   "source": [
    "plt.rcParams.update({'font.size': 18})\n",
    "plt.xlabel(\"Tempo\")\n",
    "plt.ylabel(\"Posizione\")\n",
    "plt.title(\"Oscillatore armonico\")\n",
    "plt.plot(t, np.cos(t))\n",
    "plt.legend(\"x\")"
   ]
  },
  {
   "cell_type": "markdown",
   "metadata": {},
   "source": [
    "**Due curve**"
   ]
  },
  {
   "cell_type": "code",
   "execution_count": null,
   "metadata": {},
   "outputs": [],
   "source": [
    "plt.rcParams.update({'font.size': 18})\n",
    "plt.xlabel(\"Tempo\")\n",
    "plt.ylabel(\"Posizione\")\n",
    "plt.title(\"Oscillatore armonico\")\n",
    "plt.plot(t, np.cos(t), label=\"x1\")\n",
    "plt.plot(t, np.cos(2*t), label=\"x2\")\n",
    "plt.legend()"
   ]
  },
  {
   "cell_type": "markdown",
   "metadata": {},
   "source": [
    "**Spostare la legenda**"
   ]
  },
  {
   "cell_type": "code",
   "execution_count": null,
   "metadata": {},
   "outputs": [],
   "source": [
    "plt.rcParams.update({'font.size': 18})\n",
    "plt.xlabel(\"Tempo\")\n",
    "plt.ylabel(\"Posizione\")\n",
    "plt.title(\"Oscillatore armonico\")\n",
    "plt.plot(t, np.cos(t), label=\"x1\")\n",
    "plt.plot(t, np.cos(2*t), label=\"x2\")\n",
    "plt.legend(loc=\"upper left\")\n",
    "# oppure \"upper right\", \"center\", etc"
   ]
  },
  {
   "cell_type": "markdown",
   "metadata": {},
   "source": [
    "https://matplotlib.org/tutorials/intermediate/legend_guide.html"
   ]
  },
  {
   "cell_type": "markdown",
   "metadata": {},
   "source": [
    "**Cambiare i colori**"
   ]
  },
  {
   "cell_type": "code",
   "execution_count": null,
   "metadata": {},
   "outputs": [],
   "source": [
    "plt.rcParams.update({'font.size': 18})\n",
    "plt.xlabel(\"Tempo\")\n",
    "plt.ylabel(\"Posizione\")\n",
    "plt.title(\"Oscillatore armonico\")\n",
    "plt.plot(t, np.cos(t), label=\"x1\", color=\"red\")\n",
    "plt.plot(t, np.cos(2*t), label=\"x2\", color=\"black\")\n",
    "plt.legend(loc=\"upper left\")\n",
    "# oppure \"upper right\", \"center\", etc"
   ]
  },
  {
   "cell_type": "markdown",
   "metadata": {},
   "source": [
    "Lista dei colori in matplotlib\n",
    "https://matplotlib.org/2.0.2/api/colors_api.html"
   ]
  },
  {
   "cell_type": "markdown",
   "metadata": {},
   "source": [
    "### Esercizio\n",
    "\n",
    "Considerare le due funzioni: \n",
    "f(x) = sin(x)*exp(-x) e\n",
    "g(x) = cos(x)*exp(-x)\n",
    "\n",
    "- Generare i dati con le due funzioni in [0,5] e salvarli in due files \n",
    "- Fare un grafico che mostri le due funzioni sempre in [0,5]\n",
    "\n"
   ]
  },
  {
   "cell_type": "code",
   "execution_count": null,
   "metadata": {},
   "outputs": [],
   "source": []
  }
 ],
 "metadata": {
  "kernelspec": {
   "display_name": "Python 3",
   "language": "python",
   "name": "python3"
  },
  "language_info": {
   "codemirror_mode": {
    "name": "ipython",
    "version": 3
   },
   "file_extension": ".py",
   "mimetype": "text/x-python",
   "name": "python",
   "nbconvert_exporter": "python",
   "pygments_lexer": "ipython3",
   "version": "3.7.4"
  }
 },
 "nbformat": 4,
 "nbformat_minor": 4
}
