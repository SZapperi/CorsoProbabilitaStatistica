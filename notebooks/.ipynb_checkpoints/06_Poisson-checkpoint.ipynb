{
 "cells": [
  {
   "cell_type": "markdown",
   "metadata": {},
   "source": [
    "# Corso di Probabilità e Statistica - Distribuzione di Poisson \n",
    "\n",
    "In questo capitolo introduciamo la distribuzione di Poisson \n"
   ]
  },
  {
   "cell_type": "code",
   "execution_count": null,
   "metadata": {},
   "outputs": [],
   "source": [
    "import numpy as np\n",
    "import matplotlib.pyplot as plt\n",
    "import scipy.stats as stats"
   ]
  },
  {
   "cell_type": "markdown",
   "metadata": {},
   "source": [
    "**Processo di Poisson**"
   ]
  },
  {
   "cell_type": "code",
   "execution_count": null,
   "metadata": {},
   "outputs": [],
   "source": [
    "lamda = 20.  # numero medio di eventi per unità di tempo"
   ]
  },
  {
   "cell_type": "code",
   "execution_count": null,
   "metadata": {},
   "outputs": [],
   "source": [
    "dt = .001  # passo temporale\n",
    "n = int(1. / dt)  # numero di passi \n"
   ]
  },
  {
   "cell_type": "code",
   "execution_count": null,
   "metadata": {},
   "outputs": [],
   "source": [
    "x = np.zeros(n) #inizializzazione =0\n",
    "x[np.random.rand(n) <= lamda * dt] = 1 #mettiamo 1 con probabilità: lamba*dt"
   ]
  },
  {
   "cell_type": "code",
   "execution_count": null,
   "metadata": {},
   "outputs": [],
   "source": [
    "k=int(np.sum(x)) #numero di eventi nell'intervallo di tempo\n",
    "k"
   ]
  },
  {
   "cell_type": "markdown",
   "metadata": {},
   "source": [
    "**Statistica del processo di Poisson**"
   ]
  },
  {
   "cell_type": "code",
   "execution_count": null,
   "metadata": {},
   "outputs": [],
   "source": [
    "lamda=20 # numero medio di eventi per unità di tempo\n",
    "dt = .001  # passo temporale\n",
    "n = int(1. / dt)  # numero di passi \n",
    "NR=1000 #numero di realizzazioni del processo"
   ]
  },
  {
   "cell_type": "code",
   "execution_count": null,
   "metadata": {},
   "outputs": [],
   "source": [
    "Pd=np.zeros(n+1) #inizializzazione della distribuzione"
   ]
  },
  {
   "cell_type": "code",
   "execution_count": null,
   "metadata": {},
   "outputs": [],
   "source": [
    "for i in range(NR): #loop sulle realizzazioni\n",
    "    x = np.zeros(n) #inizializzazione =0\n",
    "    x[np.random.rand(n) <= lamda * dt] = 1 #mettiamo 1 con probabilità: lamba*dt\n",
    "    k=int(np.sum(x)) #numero di eventi nell'intervallo di tempo\n",
    "    Pd[k]=Pd[k]+1 #aggiorniamo la distribuzione\n",
    "Pd=Pd/NR #normalizzazione"
   ]
  },
  {
   "cell_type": "code",
   "execution_count": null,
   "metadata": {},
   "outputs": [],
   "source": [
    "# calcoliamo media e varianza\n",
    "mu=np.average(np.arange(n+1),weights=Pd)\n",
    "print(\"media empirica=\"),print(mu)\n",
    "print(\"media teorica=\"),print(lamda)\n",
    "sigma2=np.average(np.arange(n+1)**2,weights=Pd)-mu**2\n",
    "print(\"varianza empirica=\"),print(sigma2)\n",
    "print(\"varianza teorica=\"),print(lamda)"
   ]
  },
  {
   "cell_type": "markdown",
   "metadata": {},
   "source": [
    "**Grafici**"
   ]
  },
  {
   "cell_type": "code",
   "execution_count": null,
   "metadata": {},
   "outputs": [],
   "source": [
    "# usiamo caratteri leggibili!\n",
    "plt.rcParams.update({'font.size': 18})"
   ]
  },
  {
   "cell_type": "code",
   "execution_count": null,
   "metadata": {},
   "outputs": [],
   "source": [
    "Pd1=stats.poisson(lamda) #distribuzione di Poisson"
   ]
  },
  {
   "cell_type": "code",
   "execution_count": null,
   "metadata": {},
   "outputs": [],
   "source": []
  },
  {
   "cell_type": "code",
   "execution_count": null,
   "metadata": {},
   "outputs": [],
   "source": [
    "k = np.arange(n+1)\n",
    "plt.plot(k, Pd1.pmf(k), label=\"theory\", color=\"black\") #linee\n",
    "plt.bar(k,Pd, color='red', label=\"exp\")\n",
    "plt.xlim(0,50)\n",
    "plt.xlabel(r'$k$') \n",
    "plt.ylabel(r'$P_\\lambda(k)$') #Se vogliamo usare il LaTex nel grafico r'$math$'\n",
    "plt.legend()"
   ]
  },
  {
   "cell_type": "code",
   "execution_count": null,
   "metadata": {},
   "outputs": [],
   "source": []
  }
 ],
 "metadata": {
  "kernelspec": {
   "display_name": "Python 3",
   "language": "python",
   "name": "python3"
  },
  "language_info": {
   "codemirror_mode": {
    "name": "ipython",
    "version": 3
   },
   "file_extension": ".py",
   "mimetype": "text/x-python",
   "name": "python",
   "nbconvert_exporter": "python",
   "pygments_lexer": "ipython3",
   "version": "3.7.4"
  }
 },
 "nbformat": 4,
 "nbformat_minor": 4
}
