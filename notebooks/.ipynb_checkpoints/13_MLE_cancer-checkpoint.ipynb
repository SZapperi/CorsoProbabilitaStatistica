{
 "cells": [
  {
   "cell_type": "markdown",
   "metadata": {},
   "source": [
    "# Corso di Probabilità e Statistica- il metodo di massima verosimiglianza - parte 2\n",
    "\n",
    "In questo capitolo analizzeremo i dati tramite il metodo \n",
    "di massima verosimiglianza.\n",
    "\n",
    "Consideriamo una distribuzione teorica $p(x|\\lambda)$ dipendendente da uno o più parameteri $\\lambda$ e un\n",
    "set di dati sperimentali $(x_1, ... x_N)$. Il metodo\n",
    "consente di stimare il miglior parametro $\\lambda$ che\n",
    "descrive i dati, massimizzando la funzione\n",
    "\n",
    "$$ L = \\sum_i \\log p(x_i|\\lambda) $$"
   ]
  },
  {
   "cell_type": "markdown",
   "metadata": {},
   "source": [
    "### Esempio: distribuzione delle colonie di cellule tumorali"
   ]
  },
  {
   "cell_type": "markdown",
   "metadata": {},
   "source": [
    "I dati in questione sono colonie di cellule tumorali. In questo esperiento un numero fisso di cellule tumorali sono state messe in un piatto di coltura. Dopo 8 o 10 giorni sono state osservate le cellule. Ogni cellula si è duplicata varie volte dando luogo ad un certo numero di colonie ognuna composta da S cellule. Vogliamo analizzare la distribuzione di S e confrontarlo con un semplice modello teorico (Yule process). Il modello teorico prevede che la distribuzione al tempo $t$ sia data da  \n",
    "\n",
    "$$P(S|t, \\gamma)=e^{-\\gamma t} (1-e^{-\\gamma t})^{S-1}$$\n",
    "\n",
    "dove $\\gamma$ è il rate di divisione delle cellule.\n",
    "Per maggiori dettagli vedi l'articolo:\n",
    "M. M. Baraldi et al J. Stat. Mech. (2013) P02032\n",
    "\n",
    "https://iopscience.iop.org/article/10.1088/1742-5468/2013/02/P02032/meta?casa_token=qCKRzfJFMGgAAAAA:iolos6z5yRyArZy2TPYZIUcj3HZ17Ul2Eh4N77zOIKUKx10FUZXP_8m7kaHzBKyRWTceCE1jOMyX\n"
   ]
  },
  {
   "cell_type": "code",
   "execution_count": null,
   "metadata": {},
   "outputs": [],
   "source": [
    "%matplotlib inline\n",
    "import pandas as pd\n",
    "import numpy as np\n",
    "import scipy.stats \n",
    "import scipy\n",
    "import seaborn as sns\n",
    "import matplotlib.pylab as plt"
   ]
  },
  {
   "cell_type": "code",
   "execution_count": null,
   "metadata": {},
   "outputs": [],
   "source": [
    "# parametri\n",
    "N=2000\n",
    "rho0=scipy.zeros(N)\n",
    "rho0[1]=1.\n",
    "time=scipy.array([0.,8.,10.])\n",
    "Gamma2_initial=0.55"
   ]
  },
  {
   "cell_type": "code",
   "execution_count": null,
   "metadata": {},
   "outputs": [],
   "source": [
    "#leggiamo i dati\n",
    "day8size=scipy.genfromtxt(\"../data/Cancer-day8size.dat\",dtype='i4')\n",
    "day10size=scipy.genfromtxt(\"../data/Cancer-day10size.dat\",dtype='i4')    \n"
   ]
  },
  {
   "cell_type": "code",
   "execution_count": null,
   "metadata": {},
   "outputs": [],
   "source": [
    "# inseriamo tutti i dati in un unico vettore \n",
    "data=scipy.concatenate((day8size,day10size)) \n"
   ]
  },
  {
   "cell_type": "code",
   "execution_count": null,
   "metadata": {},
   "outputs": [],
   "source": [
    "# definiamo la p(S|t,gamma) per t=8 (rho8) e t=10 (rho10)\n",
    "def rhos(Gamma2):\n",
    "    rho8=scipy.zeros(N)\n",
    "    for n in range(0,N):\n",
    "        e8=scipy.exp(-Gamma2*8.)\n",
    "        rho8[n]=e8*(1-e8)**(n-1)\n",
    "    rho8[0]=0.\n",
    "    rho10=scipy.zeros(N)\n",
    "    for n in range(0,N):\n",
    "        e10=scipy.exp(-Gamma2*10.)\n",
    "        rho10[n]=e10*(1-e10)**(n-1)\n",
    "    rho10[0]=0.\n",
    "\n",
    "    return rho8,rho10"
   ]
  },
  {
   "cell_type": "code",
   "execution_count": null,
   "metadata": {},
   "outputs": [],
   "source": [
    "# funzione che calcola la Likelihood (con il segno meno)\n",
    "def likelihood(Gamma2):\n",
    "    rho8,rho10=rhos(Gamma2)\n",
    "    likelihood=0.\n",
    "    for i in range(len(day8size)):\n",
    "        likelihood+=-scipy.log(rho8[day8size[i]])\n",
    "    for i in  range(len(day10size)):\n",
    "        likelihood+=-scipy.log(rho10[day10size[i]])\n",
    "    return likelihood\n"
   ]
  },
  {
   "cell_type": "code",
   "execution_count": null,
   "metadata": {},
   "outputs": [],
   "source": [
    "#troviamo il massimo della Likelihood (calcoliamo il minimo di -L)\n",
    "bestfit=scipy.optimize.brent(likelihood,brack=(0.4,Gamma2_initial,0.7))\n",
    "Gamma2_best=bestfit\n",
    "print(Gamma2_best,likelihood(Gamma2_best))\n",
    "rho8,rho10=rhos(Gamma2_best)"
   ]
  },
  {
   "cell_type": "markdown",
   "metadata": {},
   "source": [
    "Confrontiamo il fit con i dati considerando la distribuzione cumulata"
   ]
  },
  {
   "cell_type": "code",
   "execution_count": null,
   "metadata": {},
   "outputs": [],
   "source": [
    "rho8cum=scipy.cumsum(rho8)\n",
    "rho10cum=scipy.cumsum(rho10)"
   ]
  },
  {
   "cell_type": "code",
   "execution_count": null,
   "metadata": {},
   "outputs": [],
   "source": [
    "# usiamo caratteri leggibili!\n",
    "plt.rcParams.update({'font.size': 18})\n",
    "plt.hist(day8size, cumulative=True, density=True, bins=50,\n",
    "        label=\"8 days\")\n",
    "plt.hist(day10size, cumulative=True, density=True, bins=50,\n",
    "        label=\"10 days\")\n",
    "#plt.step(y8,idx8, label=\"8 days\", color=\"yellow\") # dati sperimentali 8gg\n",
    "#plt.step(y10,idx10, label=\"10 days\", color=\"red\") # dati sperimentali 8gg\n",
    "plt.plot(rho8cum, color=\"black\", label=\"theory\")\n",
    "plt.plot(rho10cum, color=\"black\")\n",
    "plt.xlabel('Colony size')\n",
    "plt.ylabel('Cumulative Frequency')\n",
    "plt.legend()\n",
    "plt.show()\n"
   ]
  },
  {
   "cell_type": "markdown",
   "metadata": {},
   "source": [
    "Facciamo anche il grafico della pdf"
   ]
  },
  {
   "cell_type": "code",
   "execution_count": null,
   "metadata": {},
   "outputs": [],
   "source": [
    "# usiamo caratteri leggibili!\n",
    "plt.rcParams.update({'font.size': 18})\n",
    "plt.hist(day8size, density=True, bins=50,\n",
    "        label=\"8 days\")\n",
    "plt.hist(day10size, density=True, bins=50,\n",
    "        label=\"10 days\")\n",
    "#plt.step(y8,idx8, label=\"8 days\", color=\"yellow\") # dati sperimentali 8gg\n",
    "#plt.step(y10,idx10, label=\"10 days\", color=\"red\") # dati sperimentali 8gg\n",
    "plt.plot(rho8, color=\"black\", label=\"theory\")\n",
    "plt.plot(rho10, color=\"black\")\n",
    "plt.xlabel('Colony size')\n",
    "plt.ylabel('Cumulative Frequency')\n",
    "plt.legend()\n",
    "plt.show()"
   ]
  },
  {
   "cell_type": "markdown",
   "metadata": {},
   "source": [
    "### Esercizio: Birth and death process \n",
    "\n",
    "Ripetere il calcolo precedente nel caso di un modello che consideri anche il rate di morte $\\beta$  per le cellule. In questo modello (noto come birth and death process), la probabilità di trovare al tempo $t$ una colonia di dimensione $S$ è data da \n",
    "\n",
    "$$P(S|t, \\gamma)=\\langle s(t) \\rangle \n",
    "\\left( \\frac{\\gamma-\\beta}{\\gamma\\langle \n",
    "s(t) \\rangle -\\beta}\\right)^2\\left( 1- \\frac{\\gamma-\\beta}{\\gamma\\langle \n",
    "s(t) \\rangle -\\beta}\\right)^{S-1}$$\n",
    "\n"
   ]
  },
  {
   "cell_type": "markdown",
   "metadata": {},
   "source": [
    "dove\n",
    "\n",
    "$$\\langle s(t) \\rangle= e^{(\\gamma-\\beta)t}$$\n",
    "\n",
    "Stimare $\\gamma$ e $\\beta$ e confrontare il risultato con i dati sperimentali facendo un grafico delle distribuzioni cumulate."
   ]
  },
  {
   "cell_type": "markdown",
   "metadata": {},
   "source": [
    "**Suggerimento:** per minimizzare una funzione a molti parametri potete usare scipy.optimize.fmin invece di scipy.optimize.brent\n",
    "vedi:\n",
    "https://docs.scipy.org/doc/scipy/reference/generated/scipy.optimize.fmin.html\n",
    "        "
   ]
  },
  {
   "cell_type": "code",
   "execution_count": null,
   "metadata": {},
   "outputs": [],
   "source": []
  }
 ],
 "metadata": {
  "kernelspec": {
   "display_name": "Python 3",
   "language": "python",
   "name": "python3"
  },
  "language_info": {
   "codemirror_mode": {
    "name": "ipython",
    "version": 3
   },
   "file_extension": ".py",
   "mimetype": "text/x-python",
   "name": "python",
   "nbconvert_exporter": "python",
   "pygments_lexer": "ipython3",
   "version": "3.7.4"
  }
 },
 "nbformat": 4,
 "nbformat_minor": 4
}
