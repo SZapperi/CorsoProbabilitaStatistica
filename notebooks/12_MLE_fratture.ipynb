{
 "cells": [
  {
   "cell_type": "markdown",
   "metadata": {},
   "source": [
    "# Corso di Probabilità e Statistica - il metodo di massima verosimiglianza - parte 1\n",
    "\n",
    "In questo capitolo analizzeremo i dati tramite il metodo \n",
    "di massima verosimiglianza.\n",
    "\n",
    "Consideriamo una distribuzione teorica $p(x|\\lambda)$ dipendendente da uno o più parameteri $\\lambda$ e un\n",
    "set di dati sperimentali $(x_1, ... x_N)$. Il metodo\n",
    "consente di stimare il miglior parametro $\\lambda$ che\n",
    "descrive i dati, massimizzando la funzione\n",
    "\n",
    "$$ L = \\sum_i \\log p(x_i|\\lambda) $$"
   ]
  },
  {
   "cell_type": "markdown",
   "metadata": {},
   "source": [
    "**Esempio: la distribuzione dei carichi di rottura in un materiale** "
   ]
  },
  {
   "cell_type": "markdown",
   "metadata": {},
   "source": [
    "Consideriamo dei campioni di ceramica sottoposti a carico e fratturati. Per ogni campione è stato misurato lo stress di rottura. I dati riportano anche altri parametri sperimentali.\n",
    "\n",
    "Per maggiori dettagli vedi\n",
    "https://www.itl.nist.gov/div898/handbook/eda/section4/eda42a.htm"
   ]
  },
  {
   "cell_type": "code",
   "execution_count": 2,
   "metadata": {},
   "outputs": [],
   "source": [
    "%matplotlib inline\n",
    "import pandas as pd\n",
    "import numpy as np\n",
    "import scipy.stats \n",
    "import seaborn as sns\n",
    "import matplotlib.pylab as plt"
   ]
  },
  {
   "cell_type": "code",
   "execution_count": 10,
   "metadata": {},
   "outputs": [],
   "source": [
    "#carichiamo il file\n",
    "strength = pd.read_csv(\"../data/Strength_ceramic.dat\",\n",
    "                       sep=\"\\s+\",skiprows=48)\n",
    "strength=strength.drop([0])"
   ]
  },
  {
   "cell_type": "code",
   "execution_count": 14,
   "metadata": {},
   "outputs": [
    {
     "data": {
      "text/html": [
       "<div>\n",
       "<style scoped>\n",
       "    .dataframe tbody tr th:only-of-type {\n",
       "        vertical-align: middle;\n",
       "    }\n",
       "\n",
       "    .dataframe tbody tr th {\n",
       "        vertical-align: top;\n",
       "    }\n",
       "\n",
       "    .dataframe thead th {\n",
       "        text-align: right;\n",
       "    }\n",
       "</style>\n",
       "<table border=\"1\" class=\"dataframe\">\n",
       "  <thead>\n",
       "    <tr style=\"text-align: right;\">\n",
       "      <th></th>\n",
       "      <th>Id</th>\n",
       "      <th>Lab</th>\n",
       "      <th>Num</th>\n",
       "      <th>Test</th>\n",
       "      <th>Y</th>\n",
       "      <th>X1</th>\n",
       "      <th>X2</th>\n",
       "      <th>X3</th>\n",
       "      <th>X4</th>\n",
       "      <th>Trt</th>\n",
       "      <th>Set</th>\n",
       "      <th>Llab</th>\n",
       "      <th>Rep</th>\n",
       "      <th>Bat</th>\n",
       "      <th>Sblab</th>\n",
       "      <th>Set2</th>\n",
       "    </tr>\n",
       "  </thead>\n",
       "  <tbody>\n",
       "    <tr>\n",
       "      <th>1</th>\n",
       "      <td>1</td>\n",
       "      <td>1.0</td>\n",
       "      <td>1.0</td>\n",
       "      <td>1.0</td>\n",
       "      <td>608.781</td>\n",
       "      <td>-1.0</td>\n",
       "      <td>-1.0</td>\n",
       "      <td>-1.0</td>\n",
       "      <td>-1.0</td>\n",
       "      <td>1.0</td>\n",
       "      <td>1.0</td>\n",
       "      <td>0.75</td>\n",
       "      <td>1.0</td>\n",
       "      <td>1.0</td>\n",
       "      <td>0.50</td>\n",
       "      <td>1.0</td>\n",
       "    </tr>\n",
       "    <tr>\n",
       "      <th>2</th>\n",
       "      <td>2</td>\n",
       "      <td>1.0</td>\n",
       "      <td>2.0</td>\n",
       "      <td>1.0</td>\n",
       "      <td>569.670</td>\n",
       "      <td>-1.0</td>\n",
       "      <td>-1.0</td>\n",
       "      <td>-1.0</td>\n",
       "      <td>-1.0</td>\n",
       "      <td>1.0</td>\n",
       "      <td>1.0</td>\n",
       "      <td>0.75</td>\n",
       "      <td>1.0</td>\n",
       "      <td>2.0</td>\n",
       "      <td>0.75</td>\n",
       "      <td>1.0</td>\n",
       "    </tr>\n",
       "    <tr>\n",
       "      <th>3</th>\n",
       "      <td>3</td>\n",
       "      <td>1.0</td>\n",
       "      <td>3.0</td>\n",
       "      <td>1.0</td>\n",
       "      <td>689.556</td>\n",
       "      <td>-1.0</td>\n",
       "      <td>-1.0</td>\n",
       "      <td>-1.0</td>\n",
       "      <td>-1.0</td>\n",
       "      <td>1.0</td>\n",
       "      <td>1.0</td>\n",
       "      <td>0.75</td>\n",
       "      <td>1.0</td>\n",
       "      <td>1.0</td>\n",
       "      <td>0.50</td>\n",
       "      <td>1.0</td>\n",
       "    </tr>\n",
       "    <tr>\n",
       "      <th>4</th>\n",
       "      <td>4</td>\n",
       "      <td>1.0</td>\n",
       "      <td>4.0</td>\n",
       "      <td>1.0</td>\n",
       "      <td>747.541</td>\n",
       "      <td>-1.0</td>\n",
       "      <td>-1.0</td>\n",
       "      <td>-1.0</td>\n",
       "      <td>-1.0</td>\n",
       "      <td>1.0</td>\n",
       "      <td>1.0</td>\n",
       "      <td>0.75</td>\n",
       "      <td>1.0</td>\n",
       "      <td>2.0</td>\n",
       "      <td>0.75</td>\n",
       "      <td>1.0</td>\n",
       "    </tr>\n",
       "    <tr>\n",
       "      <th>5</th>\n",
       "      <td>5</td>\n",
       "      <td>1.0</td>\n",
       "      <td>5.0</td>\n",
       "      <td>1.0</td>\n",
       "      <td>618.134</td>\n",
       "      <td>-1.0</td>\n",
       "      <td>-1.0</td>\n",
       "      <td>-1.0</td>\n",
       "      <td>-1.0</td>\n",
       "      <td>1.0</td>\n",
       "      <td>1.0</td>\n",
       "      <td>0.75</td>\n",
       "      <td>1.0</td>\n",
       "      <td>1.0</td>\n",
       "      <td>0.50</td>\n",
       "      <td>1.0</td>\n",
       "    </tr>\n",
       "    <tr>\n",
       "      <th>...</th>\n",
       "      <td>...</td>\n",
       "      <td>...</td>\n",
       "      <td>...</td>\n",
       "      <td>...</td>\n",
       "      <td>...</td>\n",
       "      <td>...</td>\n",
       "      <td>...</td>\n",
       "      <td>...</td>\n",
       "      <td>...</td>\n",
       "      <td>...</td>\n",
       "      <td>...</td>\n",
       "      <td>...</td>\n",
       "      <td>...</td>\n",
       "      <td>...</td>\n",
       "      <td>...</td>\n",
       "      <td>...</td>\n",
       "    </tr>\n",
       "    <tr>\n",
       "      <th>476</th>\n",
       "      <td>956</td>\n",
       "      <td>8.0</td>\n",
       "      <td>26.0</td>\n",
       "      <td>4.0</td>\n",
       "      <td>698.254</td>\n",
       "      <td>1.0</td>\n",
       "      <td>-1.0</td>\n",
       "      <td>-1.0</td>\n",
       "      <td>-1.0</td>\n",
       "      <td>2.0</td>\n",
       "      <td>2.0</td>\n",
       "      <td>8.25</td>\n",
       "      <td>2.0</td>\n",
       "      <td>2.0</td>\n",
       "      <td>8.50</td>\n",
       "      <td>32.0</td>\n",
       "    </tr>\n",
       "    <tr>\n",
       "      <th>477</th>\n",
       "      <td>957</td>\n",
       "      <td>8.0</td>\n",
       "      <td>27.0</td>\n",
       "      <td>4.0</td>\n",
       "      <td>611.999</td>\n",
       "      <td>1.0</td>\n",
       "      <td>-1.0</td>\n",
       "      <td>-1.0</td>\n",
       "      <td>-1.0</td>\n",
       "      <td>2.0</td>\n",
       "      <td>2.0</td>\n",
       "      <td>8.25</td>\n",
       "      <td>2.0</td>\n",
       "      <td>1.0</td>\n",
       "      <td>8.25</td>\n",
       "      <td>32.0</td>\n",
       "    </tr>\n",
       "    <tr>\n",
       "      <th>478</th>\n",
       "      <td>958</td>\n",
       "      <td>8.0</td>\n",
       "      <td>28.0</td>\n",
       "      <td>4.0</td>\n",
       "      <td>748.130</td>\n",
       "      <td>1.0</td>\n",
       "      <td>-1.0</td>\n",
       "      <td>-1.0</td>\n",
       "      <td>-1.0</td>\n",
       "      <td>2.0</td>\n",
       "      <td>2.0</td>\n",
       "      <td>8.25</td>\n",
       "      <td>2.0</td>\n",
       "      <td>2.0</td>\n",
       "      <td>8.50</td>\n",
       "      <td>32.0</td>\n",
       "    </tr>\n",
       "    <tr>\n",
       "      <th>479</th>\n",
       "      <td>959</td>\n",
       "      <td>8.0</td>\n",
       "      <td>29.0</td>\n",
       "      <td>4.0</td>\n",
       "      <td>530.680</td>\n",
       "      <td>1.0</td>\n",
       "      <td>-1.0</td>\n",
       "      <td>-1.0</td>\n",
       "      <td>-1.0</td>\n",
       "      <td>2.0</td>\n",
       "      <td>2.0</td>\n",
       "      <td>8.25</td>\n",
       "      <td>2.0</td>\n",
       "      <td>1.0</td>\n",
       "      <td>8.25</td>\n",
       "      <td>32.0</td>\n",
       "    </tr>\n",
       "    <tr>\n",
       "      <th>480</th>\n",
       "      <td>960</td>\n",
       "      <td>8.0</td>\n",
       "      <td>30.0</td>\n",
       "      <td>4.0</td>\n",
       "      <td>689.942</td>\n",
       "      <td>1.0</td>\n",
       "      <td>-1.0</td>\n",
       "      <td>-1.0</td>\n",
       "      <td>-1.0</td>\n",
       "      <td>2.0</td>\n",
       "      <td>2.0</td>\n",
       "      <td>8.25</td>\n",
       "      <td>2.0</td>\n",
       "      <td>2.0</td>\n",
       "      <td>8.50</td>\n",
       "      <td>32.0</td>\n",
       "    </tr>\n",
       "  </tbody>\n",
       "</table>\n",
       "<p>480 rows × 16 columns</p>\n",
       "</div>"
      ],
      "text/plain": [
       "      Id  Lab   Num  Test        Y   X1   X2   X3   X4  Trt  Set  Llab  Rep  \\\n",
       "1      1  1.0   1.0   1.0  608.781 -1.0 -1.0 -1.0 -1.0  1.0  1.0  0.75  1.0   \n",
       "2      2  1.0   2.0   1.0  569.670 -1.0 -1.0 -1.0 -1.0  1.0  1.0  0.75  1.0   \n",
       "3      3  1.0   3.0   1.0  689.556 -1.0 -1.0 -1.0 -1.0  1.0  1.0  0.75  1.0   \n",
       "4      4  1.0   4.0   1.0  747.541 -1.0 -1.0 -1.0 -1.0  1.0  1.0  0.75  1.0   \n",
       "5      5  1.0   5.0   1.0  618.134 -1.0 -1.0 -1.0 -1.0  1.0  1.0  0.75  1.0   \n",
       "..   ...  ...   ...   ...      ...  ...  ...  ...  ...  ...  ...   ...  ...   \n",
       "476  956  8.0  26.0   4.0  698.254  1.0 -1.0 -1.0 -1.0  2.0  2.0  8.25  2.0   \n",
       "477  957  8.0  27.0   4.0  611.999  1.0 -1.0 -1.0 -1.0  2.0  2.0  8.25  2.0   \n",
       "478  958  8.0  28.0   4.0  748.130  1.0 -1.0 -1.0 -1.0  2.0  2.0  8.25  2.0   \n",
       "479  959  8.0  29.0   4.0  530.680  1.0 -1.0 -1.0 -1.0  2.0  2.0  8.25  2.0   \n",
       "480  960  8.0  30.0   4.0  689.942  1.0 -1.0 -1.0 -1.0  2.0  2.0  8.25  2.0   \n",
       "\n",
       "     Bat  Sblab  Set2  \n",
       "1    1.0   0.50   1.0  \n",
       "2    2.0   0.75   1.0  \n",
       "3    1.0   0.50   1.0  \n",
       "4    2.0   0.75   1.0  \n",
       "5    1.0   0.50   1.0  \n",
       "..   ...    ...   ...  \n",
       "476  2.0   8.50  32.0  \n",
       "477  1.0   8.25  32.0  \n",
       "478  2.0   8.50  32.0  \n",
       "479  1.0   8.25  32.0  \n",
       "480  2.0   8.50  32.0  \n",
       "\n",
       "[480 rows x 16 columns]"
      ]
     },
     "execution_count": 14,
     "metadata": {},
     "output_type": "execute_result"
    }
   ],
   "source": [
    "strength"
   ]
  },
  {
   "cell_type": "markdown",
   "metadata": {},
   "source": [
    "Il carico di rottura (strength) è dato dalla variabile Y\n",
    "come possiamo vedere dalle istruzione in cima al file"
   ]
  },
  {
   "cell_type": "code",
   "execution_count": 25,
   "metadata": {},
   "outputs": [],
   "source": [
    "with open(\"../data/Strength_ceramic.dat\") as myfile:\n",
    "    head = [next(myfile) for x in range(24)]"
   ]
  },
  {
   "cell_type": "code",
   "execution_count": 26,
   "metadata": {},
   "outputs": [
    {
     "data": {
      "text/plain": [
       "['This is Dataplot data file     JAHANMI2.DAT\\n',\n",
       " 'Effect of Machining Factors on Strength of Ceramics\\n',\n",
       " '(Longitudinal Data Only)\\n',\n",
       " 'Response variable                  = ceramic strength\\n',\n",
       " 'Number of observations             =  480\\n',\n",
       " 'Number of variables per line image =   15\\n',\n",
       " 'Order of variables on a line image--\\n',\n",
       " '   1. Factor  1 = Observation Id (1 to 960)\\n',\n",
       " '   2. Factor  2 = Lab (8 levels: 1 to 8)\\n',\n",
       " '   3. Factor  3 = Bar id within lab (1 to 30)\\n',\n",
       " '   4. Factor  4 = Set xxx (4 levels: 1 to 4)\\n',\n",
       " '   5. Response Variable Y = Strength of Ceramic\\n',\n",
       " '   6. Factor  5 = Table Speed    (2 levels: slow and fast)\\n',\n",
       " '   7. Factor  6 = Down Feed Rate (2 levels: slow & fast)\\n',\n",
       " '   8. Factor  7 = Wheel Grit     (2 levels:     )\\n',\n",
       " '   9. Factor  8 = Direction      (1 level : longitudinal only)\\n',\n",
       " '  10. Factor  9 = Treatment      (2**4 = 16 levels: 1 to 16)\\n',\n",
       " '  11. Factor 10 = Set of 15 within lab (2 levels: 1 and 2)\\n',\n",
       " '  12. Factor 11 = Rep (2 levels: 1 and 2)\\n',\n",
       " '  13. Factor 12 = Coded Lab (for SAS plotting purposes)\\n',\n",
       " '  14. Factor 13 = Bar Batch (2 levels: 1 and 2)\\n',\n",
       " '  15. Factor 14 = ..\\n',\n",
       " '  16. Factor 15 = distinct set of 15 reps (32 levels: 1 to 32)\\n',\n",
       " 'To read this file into Dataplot--\\n']"
      ]
     },
     "execution_count": 26,
     "metadata": {},
     "output_type": "execute_result"
    }
   ],
   "source": [
    "head"
   ]
  },
  {
   "cell_type": "markdown",
   "metadata": {},
   "source": [
    "Notiamo che abbiamo una serie di fattori accessori che riguardano alcuni parametri sperimentali,  dove è stato svolto l'esperimento (Lab) e il batch dei campioni etc"
   ]
  },
  {
   "cell_type": "markdown",
   "metadata": {},
   "source": [
    "Possiamo fittare i dati (in particolare la colonna Y) con MLE utilizzando la funzione scipy.stats.DIST.fit()\n",
    "dove DIST è la distribuzione desiderata. \n",
    "https://docs.scipy.org/doc/scipy/reference/generated/scipy.stats.rv_continuous.fit.html\n",
    "Per le distribuzioni standard possiamo utalizzare questa funzione direttamente.\n",
    "\n",
    "In questo vogliamo usare la distribuzione di Weibull:\n",
    "\n",
    "$p(x|c,x_0)=k (x/x_0)^{k-1} \\exp (-(x/x_0)^k)$\n",
    "\n",
    "utilizziamo la funzione weibull_min mettendo loc=0\n",
    "https://docs.scipy.org/doc/scipy/reference/generated/scipy.stats.weibull_min.html"
   ]
  },
  {
   "cell_type": "code",
   "execution_count": 57,
   "metadata": {},
   "outputs": [],
   "source": [
    "k, loc, x_0=scipy.stats.weibull_min.fit(strength.Y, floc=0)"
   ]
  },
  {
   "cell_type": "markdown",
   "metadata": {},
   "source": [
    "Controlliamo ora graficamente il fit"
   ]
  },
  {
   "cell_type": "code",
   "execution_count": 62,
   "metadata": {},
   "outputs": [
    {
     "data": {
      "text/plain": [
       "<matplotlib.legend.Legend at 0x1a1a67a390>"
      ]
     },
     "execution_count": 62,
     "metadata": {},
     "output_type": "execute_result"
    },
    {
     "data": {
      "image/png": "[encoded data removed]",
      "text/plain": [
       "<Figure size 432x288 with 1 Axes>"
      ]
     },
     "metadata": {
      "needs_background": "light"
     },
     "output_type": "display_data"
    }
   ],
   "source": [
    "# usiamo caratteri leggibili!\n",
    "plt.rcParams.update({'font.size': 18})\n",
    "xmin=np.min(strength.Y)\n",
    "xmax=np.max(strength.Y)\n",
    "x = np.linspace(xmin,xmax,101)\n",
    "# Istogramma di tutti i dati\n",
    "strength.Y.hist(bins=50, density=True, label='Data')\n",
    "# fit\n",
    "W=scipy.stats.weibull_min(k,loc=0, scale=x_0) \n",
    "plt.plot(x, W.pdf(x), label=\"Fit\")\n",
    "plt.xlabel('Y')\n",
    "plt.ylabel('p(Y)')\n",
    "plt.legend()"
   ]
  },
  {
   "cell_type": "markdown",
   "metadata": {},
   "source": [
    "Il fit non è eccezionale. La cosa che ci può fare insospettire è la presenza di un doppio picco. Questo potrebbe essere dovuto al fatto che abbiamo mischiato insieme tutti i dati indipendentemente dai fattori sperimentali"
   ]
  },
  {
   "cell_type": "markdown",
   "metadata": {},
   "source": [
    "**Esercizio** \n",
    "\n",
    "Esplorare l'effetto dei vari fattori per cercare di capire quale siano i fattori che influenzano di più la distribuzione. Possiamo proecedere come seque:\n"
   ]
  },
  {
   "cell_type": "code",
   "execution_count": 64,
   "metadata": {},
   "outputs": [
    {
     "data": {
      "text/plain": [
       "<matplotlib.axes._subplots.AxesSubplot at 0x1a1cfb7e10>"
      ]
     },
     "execution_count": 64,
     "metadata": {},
     "output_type": "execute_result"
    },
    {
     "data": {
      "image/png": "[encoded data removed]",
      "text/plain": [
       "<Figure size 432x288 with 1 Axes>"
      ]
     },
     "metadata": {
      "needs_background": "light"
     },
     "output_type": "display_data"
    }
   ],
   "source": [
    "sns.boxplot(data=strength, x=\"X1\", y=\"Y\")"
   ]
  },
  {
   "cell_type": "markdown",
   "metadata": {},
   "source": [
    "Da questo grafico si vede che il fattore X1 non è molto rilevante. Esplorate gli altri fattori allo stesso modo e poi vedete se il fit migliora separando i dati a seconda dei fattori."
   ]
  },
  {
   "cell_type": "code",
   "execution_count": null,
   "metadata": {},
   "outputs": [],
   "source": []
  },
  {
   "cell_type": "code",
   "execution_count": null,
   "metadata": {},
   "outputs": [],
   "source": []
  },
  {
   "cell_type": "markdown",
   "metadata": {},
   "source": [
    "**Esempio:** Separiamo i dati a seconda del fattore batch e poi fittiamo separatamente."
   ]
  },
  {
   "cell_type": "code",
   "execution_count": 69,
   "metadata": {},
   "outputs": [],
   "source": [
    "Bat1=strength[strength.Bat==1]\n",
    "Bat2=strength[strength.Bat==2]"
   ]
  },
  {
   "cell_type": "markdown",
   "metadata": {},
   "source": [
    "Fittiamo i dati separatamente:"
   ]
  },
  {
   "cell_type": "code",
   "execution_count": 70,
   "metadata": {},
   "outputs": [],
   "source": [
    "k1, loc, x_1=scipy.stats.weibull_min.fit(Bat1.Y, floc=0)\n",
    "k2, loc, x_2=scipy.stats.weibull_min.fit(Bat2.Y, floc=0)"
   ]
  },
  {
   "cell_type": "markdown",
   "metadata": {},
   "source": [
    "Plottiamo i dati separatamente"
   ]
  },
  {
   "cell_type": "code",
   "execution_count": 78,
   "metadata": {},
   "outputs": [
    {
     "data": {
      "text/plain": [
       "<matplotlib.legend.Legend at 0x1a1d55f3d0>"
      ]
     },
     "execution_count": 78,
     "metadata": {},
     "output_type": "execute_result"
    },
    {
     "data": {
      "image/png": "[encoded data removed]",
      "text/plain": [
       "<Figure size 432x288 with 1 Axes>"
      ]
     },
     "metadata": {
      "needs_background": "light"
     },
     "output_type": "display_data"
    }
   ],
   "source": [
    "# usiamo caratteri leggibili!\n",
    "plt.rcParams.update({'font.size': 18})\n",
    "xmin=np.min(strength.Y)\n",
    "xmax=np.max(strength.Y)\n",
    "x = np.linspace(xmin,xmax,101)\n",
    "# Istogramma di tutti i dati\n",
    "Bat1.Y.hist(bins=50, density=True, label='Batch 1')\n",
    "Bat2.Y.hist(bins=50, density=True, label='Batch 2')\n",
    "# fit\n",
    "W1=scipy.stats.weibull_min(k1,loc=0, scale=x_1) \n",
    "W2=scipy.stats.weibull_min(k2,loc=0, scale=x_2)\n",
    "plt.plot(x, W1.pdf(x), label=\"Fit 1\", color=\"black\")\n",
    "plt.plot(x, W2.pdf(x), label=\"Fit 2\", color=\"red\")\n",
    "plt.xlabel('Y')\n",
    "plt.ylabel('p(Y)')\n",
    "plt.legend()"
   ]
  },
  {
   "cell_type": "markdown",
   "metadata": {},
   "source": [
    "Distribuzioni cumulate"
   ]
  },
  {
   "cell_type": "code",
   "execution_count": 83,
   "metadata": {},
   "outputs": [
    {
     "data": {
      "text/plain": [
       "<matplotlib.legend.Legend at 0x1a1e277ad0>"
      ]
     },
     "execution_count": 83,
     "metadata": {},
     "output_type": "execute_result"
    },
    {
     "data": {
      "image/png": "[encoded data removed]",
      "text/plain": [
       "<Figure size 432x288 with 1 Axes>"
      ]
     },
     "metadata": {
      "needs_background": "light"
     },
     "output_type": "display_data"
    }
   ],
   "source": [
    "xmin=np.min(strength.Y)\n",
    "xmax=np.max(strength.Y)\n",
    "x = np.linspace(xmin,xmax,101)\n",
    "y1=np.sort(Bat1.Y)\n",
    "idx1 = [ i/len(y1) for i in range(len(y))]\n",
    "y2=np.sort(Bat2.Y)\n",
    "idx2 = [ i/len(y2) for i in range(len(y))]\n",
    "plt.xlabel('Y')\n",
    "plt.ylabel('Cumulative Frequency')\n",
    "plt.plot(y1,idx1,label=\"Batch1\")\n",
    "plt.plot(y2,idx2,label=\"Batch2\")\n",
    "plt.plot(x, W1.cdf(x), label=\"Fit 1\", color=\"black\")\n",
    "plt.plot(x, W2.cdf(x), label=\"Fit 2\", color=\"red\")\n",
    "plt.legend()"
   ]
  },
  {
   "cell_type": "code",
   "execution_count": null,
   "metadata": {},
   "outputs": [],
   "source": []
  }
 ],
 "metadata": {
  "kernelspec": {
   "display_name": "Python 3",
   "language": "python",
   "name": "python3"
  },
  "language_info": {
   "codemirror_mode": {
    "name": "ipython",
    "version": 3
   },
   "file_extension": ".py",
   "mimetype": "text/x-python",
   "name": "python",
   "nbconvert_exporter": "python",
   "pygments_lexer": "ipython3",
   "version": "3.7.4"
  }
 },
 "nbformat": 4,
 "nbformat_minor": 4
}
