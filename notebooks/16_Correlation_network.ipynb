{
 "cells": [
  {
   "cell_type": "markdown",
   "metadata": {},
   "source": [
    "# Corso di Probabilità e Statistica- Network di correlazione\n",
    "\n",
    "Questa capitolo spiega come disegnare una rete di correlazione: una rete costruita su una matrice di correlazione.\n",
    "\n",
    "### Esempio \n",
    "Supponiamo di avere 10 persone e di sapere quanto sono vicine tra loro. È possibile rappresentare queste relazioni in una rete. Ogni individuo sarà un nodo. Se 2 individui sono abbastanza vicini (fissiamo una soglia), allora sono collegati da un bordo. Questo mostrerà la struttura della popolazione.\n",
    "\n",
    "In questo esempio, vediamo che la nostra popolazione è chiaramente divisa in 2 gruppi\n",
    "\n",
    "Esempio tratto da https://python-graph-gallery.com\n",
    "(The Python Graph Gallery is a project developed by Yan Holtz to promote datavisualization using Python.)\n"
   ]
  },
  {
   "cell_type": "code",
   "execution_count": null,
   "metadata": {},
   "outputs": [],
   "source": [
    "#libraries\n",
    "import pandas as pd\n",
    "import numpy as np\n",
    "import networkx as nx\n",
    "import matplotlib.pyplot as plt\n",
    "import seaborn as sns"
   ]
  },
  {
   "cell_type": "code",
   "execution_count": null,
   "metadata": {},
   "outputs": [],
   "source": [
    "# I build a data set: 10 individuals and 5 variables for each\n",
    "ind1=[5,10,3,4,8,10,12,1,9,4]\n",
    "ind5=[1,1,13,4,18,5,2,11,3,8]\n",
    "df = pd.DataFrame({ 'A':ind1, 'B':ind1 \n",
    "                   + np.random.randint(10, size=(10)) ,\n",
    "                   'C':ind1 + np.random.randint(10, size=(10)) , 'D':ind1 + np.random.randint(5, size=(10)) , 'E':ind1 + np.random.randint(5, size=(10)), 'F':ind5, 'G':ind5 + np.random.randint(5, size=(10)) , 'H':ind5 + np.random.randint(5, size=(10)), 'I':ind5 + np.random.randint(5, size=(10)), 'J':ind5 + np.random.randint(5, size=(10))})\n",
    "df"
   ]
  },
  {
   "cell_type": "code",
   "execution_count": null,
   "metadata": {},
   "outputs": [],
   "source": [
    "#plot data\n",
    "fig, ax = plt.subplots(figsize=(5, 4))\n",
    "ax = sns.heatmap(df, \n",
    "                 ax=ax)\n",
    "plt.tight_layout()\n",
    "plt.show()"
   ]
  },
  {
   "cell_type": "code",
   "execution_count": null,
   "metadata": {},
   "outputs": [],
   "source": [
    "# Calculate the correlation between individuals. We have to transpose first, because the corr function calculate the pairwise correlations between columns.\n",
    "corr = df.corr()\n",
    "corr\n",
    " "
   ]
  },
  {
   "cell_type": "code",
   "execution_count": null,
   "metadata": {},
   "outputs": [],
   "source": [
    "#plot correlation matrix\n",
    "fig, ax = plt.subplots(figsize=(5, 4))\n",
    "ax = sns.heatmap(corr, vmin=-1, vmax=1, \n",
    "                 cmap=\"coolwarm\", #colormap divergente\n",
    "                 ax=ax)\n",
    "plt.tight_layout()\n",
    "plt.show()"
   ]
  },
  {
   "cell_type": "code",
   "execution_count": null,
   "metadata": {},
   "outputs": [],
   "source": [
    "# Transform it in a links data frame (3 columns only):\n",
    "links = corr.stack().reset_index()\n",
    "links.columns = ['var1', 'var2','value']\n",
    "links"
   ]
  },
  {
   "cell_type": "code",
   "execution_count": null,
   "metadata": {},
   "outputs": [],
   "source": [
    "# Keep only correlation over a threshold and remove self correlation (cor(A,A)=1)\n",
    "links_filtered=links.loc[ (links['value'] > 0.8) & (links['var1'] != links['var2']) ]\n",
    "links_filtered\n",
    " "
   ]
  },
  {
   "cell_type": "code",
   "execution_count": null,
   "metadata": {},
   "outputs": [],
   "source": [
    "# Build your graph\n",
    "G=nx.from_pandas_edgelist(links_filtered, 'var1', 'var2')"
   ]
  },
  {
   "cell_type": "code",
   "execution_count": null,
   "metadata": {},
   "outputs": [],
   "source": [
    "# Plot the network:\n",
    "fig = plt.figure(figsize=(4, 4))\n",
    "nx.draw(G, with_labels=True, \n",
    "        node_color='orange', \n",
    "        node_size=400, \n",
    "        edge_color='black', \n",
    "        linewidths=1, font_size=15)"
   ]
  },
  {
   "cell_type": "code",
   "execution_count": null,
   "metadata": {},
   "outputs": [],
   "source": [
    "# Custom colors:\n",
    "fig = plt.figure(figsize=(4, 4))\n",
    "nx.draw(G, with_labels=True, \n",
    "        node_color='skyblue', \n",
    "        edge_color='white')\n",
    "fig.set_facecolor(\"#00000F\")"
   ]
  },
  {
   "cell_type": "markdown",
   "metadata": {},
   "source": [
    "### Esercizio \n",
    "In questo esercizio costruiamo la matrice di covarianza e poi il network partire da un set di dati finanziari (il prezzo delle azioni SP500, già utilizzato nel capitolo 11).\n",
    "\n",
    "Procediamo come segue:\n",
    "- importiamo i dati"
   ]
  },
  {
   "cell_type": "code",
   "execution_count": null,
   "metadata": {},
   "outputs": [],
   "source": [
    "sp500_sym = pd.read_csv(\"../data/sp500_sectors.csv\") # simboli\n",
    "sp500_px = pd.read_csv(\"../data/sp500_data.csv.gz\", index_col=0) # dati di borsa"
   ]
  },
  {
   "cell_type": "markdown",
   "metadata": {},
   "source": [
    "- a differenza del capitolo 11, non filtriamo i dati ma costruiamo direttamente la matrice di covrianza sul set completo sp500_px\n",
    "-  procediamo poi come nell'esempio precedente, visualizziamo la matrice di covarianza e poi generiamo il network \n",
    "- studiamo come il network risultante dipenda dalla soglia utilizzata (nell'esempio precedente la soglia era 0.8, proviamo ad abbassarla)\n",
    "- avendo molti punti possiamo decidere di eliminare le etichette sui nodi, per vedere meglio il grafico (with_label=False)\n",
    "- come interpretiamo il grafo?\n"
   ]
  },
  {
   "cell_type": "code",
   "execution_count": null,
   "metadata": {},
   "outputs": [],
   "source": []
  },
  {
   "cell_type": "code",
   "execution_count": null,
   "metadata": {},
   "outputs": [],
   "source": []
  },
  {
   "cell_type": "code",
   "execution_count": null,
   "metadata": {},
   "outputs": [],
   "source": []
  },
  {
   "cell_type": "code",
   "execution_count": null,
   "metadata": {},
   "outputs": [],
   "source": []
  },
  {
   "cell_type": "code",
   "execution_count": null,
   "metadata": {},
   "outputs": [],
   "source": []
  },
  {
   "cell_type": "code",
   "execution_count": null,
   "metadata": {},
   "outputs": [],
   "source": []
  },
  {
   "cell_type": "code",
   "execution_count": null,
   "metadata": {},
   "outputs": [],
   "source": []
  },
  {
   "cell_type": "code",
   "execution_count": null,
   "metadata": {},
   "outputs": [],
   "source": []
  },
  {
   "cell_type": "code",
   "execution_count": null,
   "metadata": {},
   "outputs": [],
   "source": []
  },
  {
   "cell_type": "code",
   "execution_count": null,
   "metadata": {},
   "outputs": [],
   "source": []
  }
 ],
 "metadata": {
  "kernelspec": {
   "display_name": "Python 3",
   "language": "python",
   "name": "python3"
  },
  "language_info": {
   "codemirror_mode": {
    "name": "ipython",
    "version": 3
   },
   "file_extension": ".py",
   "mimetype": "text/x-python",
   "name": "python",
   "nbconvert_exporter": "python",
   "pygments_lexer": "ipython3",
   "version": "3.7.4"
  }
 },
 "nbformat": 4,
 "nbformat_minor": 4
}
